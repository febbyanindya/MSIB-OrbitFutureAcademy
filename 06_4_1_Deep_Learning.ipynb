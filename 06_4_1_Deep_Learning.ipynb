{
  "nbformat": 4,
  "nbformat_minor": 0,
  "metadata": {
    "colab": {
      "name": "M_6_4_1_Deep Learning.ipynb",
      "provenance": [],
      "collapsed_sections": [],
      "include_colab_link": true
    },
    "kernelspec": {
      "name": "python3",
      "display_name": "Python 3"
    },
    "language_info": {
      "name": "python"
    }
  },
  "cells": [
    {
      "cell_type": "markdown",
      "metadata": {
        "id": "view-in-github",
        "colab_type": "text"
      },
      "source": [
        "<a href=\"https://colab.research.google.com/github/febbyanindya/MSIB-OrbitFutureAcademy/blob/Python/M_6_4_1_Deep_Learning.ipynb\" target=\"_parent\"><img src=\"https://colab.research.google.com/assets/colab-badge.svg\" alt=\"Open In Colab\"/></a>"
      ]
    },
    {
      "cell_type": "markdown",
      "metadata": {
        "id": "QMQNmzNDRqq-"
      },
      "source": [
        "### Define Model dengan cara sequential"
      ]
    },
    {
      "cell_type": "markdown",
      "metadata": {
        "id": "h4HgqFiuRyO_"
      },
      "source": [
        "Menerima 8 input\n",
        "\n",
        "Memiliki 1 hidden layer dengan 10 neuron\n",
        "\n",
        "memiliki 1 output layer dengan 1 neuron\n"
      ]
    },
    {
      "cell_type": "code",
      "metadata": {
        "id": "tMLC1ieBK-ER"
      },
      "source": [
        "from tensorflow.keras import Sequential\n",
        "from tensorflow.keras.layers import Dense\n",
        "# define the model\n",
        "model = Sequential()\n",
        "model.add(Dense(10, input_shape=(8,)))\n",
        "model.add(Dense(1))"
      ],
      "execution_count": null,
      "outputs": []
    },
    {
      "cell_type": "markdown",
      "metadata": {
        "id": "1KVRHCYTR4s2"
      },
      "source": [
        "Menerima 10 input\n",
        "\n",
        "Memiliki 6 hidden layer\n",
        " \n",
        "memiliki 1 output layer dengan 1 neuron\n"
      ]
    },
    {
      "cell_type": "code",
      "metadata": {
        "id": "dAUv06l0J8yp"
      },
      "source": [
        "from tensorflow.keras import Sequential\n",
        "from tensorflow.keras.layers import Dense\n",
        "# define the model\n",
        "model = Sequential()\n",
        "model.add(Dense(100, input_shape=(10,)))\n",
        "model.add(Dense(80))\n",
        "model.add(Dense(30))\n",
        "model.add(Dense(10))\n",
        "model.add(Dense(5))\n",
        "model.add(Dense(1))"
      ],
      "execution_count": null,
      "outputs": []
    },
    {
      "cell_type": "markdown",
      "metadata": {
        "id": "340B0E2PSCp9"
      },
      "source": [
        "### Define Model dengan cara functional"
      ]
    },
    {
      "cell_type": "markdown",
      "metadata": {
        "id": "4qeyyEGnSG1x"
      },
      "source": [
        "Menerima 8 input\n",
        "\n",
        "Memiliki 1 hidden layer dengan 10 neuron\n",
        "\n",
        "memiliki 1 output layer dengan 1 neuron"
      ]
    },
    {
      "cell_type": "code",
      "metadata": {
        "id": "YwyI8ma7Llv7"
      },
      "source": [
        "from tensorflow.keras import Model\n",
        "from tensorflow.keras import Input\n",
        "from tensorflow.keras.layers import Dense\n",
        "# define the layers\n",
        "x_in = Input(shape=(8,))\n",
        "x = Dense(10)(x_in)\n",
        "x_out = Dense(1)(x)\n",
        "# define the model\n",
        "model = Model(inputs=x_in, outputs=x_out)"
      ],
      "execution_count": null,
      "outputs": []
    },
    {
      "cell_type": "markdown",
      "metadata": {
        "id": "p5NlfR_-t4yT"
      },
      "source": [
        "# Membangun model Neural Network dengan Keras"
      ]
    },
    {
      "cell_type": "markdown",
      "metadata": {
        "id": "25XptbUbqhZ9"
      },
      "source": [
        "![Iris](data:image/jpeg;base64,/9j/2wCEAAMCAgMCAgMDAwMEAwMEBQgFBQQEBQoHBwYIDAoMDAsKCwsNDhIQDQ4RDgsLEBYQERMUFRUVDA8XGBYUGBIUFRQBAwQEBQQFCQUFCRQNCw0UFBQUFBQUFBQUFBQUFBQUFBQUFBQUFBQUFBQUFBQUFBQUFBQUFBQUFBQUFBQUFBQUFP/AABEIAQsBIQMBIgACEQEDEQH/xAGiAAABBQEBAQEBAQAAAAAAAAAAAQIDBAUGBwgJCgsQAAIBAwMCBAMFBQQEAAABfQECAwAEEQUSITFBBhNRYQcicRQygZGhCCNCscEVUtHwJDNicoIJChYXGBkaJSYnKCkqNDU2Nzg5OkNERUZHSElKU1RVVldYWVpjZGVmZ2hpanN0dXZ3eHl6g4SFhoeIiYqSk5SVlpeYmZqio6Slpqeoqaqys7S1tre4ubrCw8TFxsfIycrS09TV1tfY2drh4uPk5ebn6Onq8fLz9PX29/j5+gEAAwEBAQEBAQEBAQAAAAAAAAECAwQFBgcICQoLEQACAQIEBAMEBwUEBAABAncAAQIDEQQFITEGEkFRB2FxEyIygQgUQpGhscEJIzNS8BVictEKFiQ04SXxFxgZGiYnKCkqNTY3ODk6Q0RFRkdISUpTVFVWV1hZWmNkZWZnaGlqc3R1dnd4eXqCg4SFhoeIiYqSk5SVlpeYmZqio6Slpqeoqaqys7S1tre4ubrCw8TFxsfIycrS09TV1tfY2dri4+Tl5ufo6ery8/T19vf4+fr/2gAMAwEAAhEDEQA/APGbaCK4rehta4+GeW3rpNE1j/llNX5RXjzwMKWIhOHJM0vsv1oe1rSRPtFMeCvF5uQ35TifEPgqHUIP9VXhPjTwFLYXEs0VfVL1g6x4ftNYt69vBY+cAhDnPi+4mlt/3Uoqm79Oa9q+Ivwox5s0UVePXmly6fceVLFX3OHrwrw54BOHIZ0yVD/x71otDmq7wV6EZAS2E+ODWukuKxoI8VfhHNZziacxYuYMVlXNjmtlHzUDx471EJm3xmD5FWoYeatvB3qHzM1fOcshvkVH9m+tXLaWtJLX8aj2vIZ8xio8tvUqazLbd6uXVl6VnSw5q48kzSMjRTxHKTVyHxbz61zDx4qvzmj2EJlncQ+Ks/StO21iK4rzWN81ct7qUVjPBwNOY9NS4+0GmyR9q4e21mXtWjD4jx2rhlhZhOZtTedVCa/l7U5NV8+qkz0QpGA577FNN1n0qoJPemlwK35TCczVh5HWpNlUoZPxq+vOK5Zx5DMbsqGZKueXUM0dEZEmdUttJTHjpUrtINPzqPOqruo3VjygfRm+mJPUPmUeZXzByHVaV4j/AOWUtdVZ30WoV5Q/StXR9clt7iuCvhec7qVf+c9FmgrKmj+z1pWGpQ6hb1NNaV4MJ+wmehCfIYNzBFqFv5UsVeUePPhtFcfvooq9dubf7PTEgiuP3UtepSxE6PvwOqcOeB8eav4fl0+48ryuay/sIr6V8c+AIri3l8mKvD9b0abRrg19ng8b7c86EDEXS8/Sp007PNTJd5r3D4dfALQ/GHwJ8S/E/VfiBHpVroF5FbXml2elS3NynmvsT77pHvf59vz7P77pXp+/M7vcPCHQGqz/AC19LXn7GWq6x4g8Ff8ACE62PFfg/wAT6LceIIdcj0p/tMdvb/Jdx/ZEeWR5UZ0RUR33u6JW/B+xPp/hbXvhJqvia/8AFMPgvxp4ji8Pz2ep+GjpOrWtw77I45IHuG2I/wA/75Hf5P4HrWFKQcx8d3L9qn8O+Etb8c6z/Z/h/RdQ1+/2O/2TS7Z7mXy/+uaV9EeOvgj8P/EHxm+LKaf4yu9D0zw/q8trDoNtoUMup3VxLeyw/ZNNsUu/9IhhVfmfenyBPkr2L9l34ReIf2Wv+Cgum+AP+Ehub6w1DR7q5eSKJ7L7dA1hLMnnwFvvI6fc3NsdK7YRMJSPgOzGa6Cykz7muXTitO3vc1z1aXORKJ0MybqyLy0pyaj+NbOleB/Evijyv7K0XUJYZPn+0eW3leX/AM9Pnp0MLWqT5KMDD4DiLkQwVXcDP/LOvu3wl4Y8CeD7e00/T/D+nyyyJ++1DUI0lufM/wCenz/+gJT9VtPDU9zLFdeH9Hlu9jo/+hRRb4/+udfqNLgutOPv1jf3z4O2YqzHHX0R48/Z70DULnzvDWoR2E2zf5HzS2z/AMf7v/lon/j9eKeK/COreCNYl0rVbX7LdR9P+eb/AO4/8dfL5jk2Lyz+ND3f5g5jJ8umJUyR1chta+cnICO2fmppnxnmrkFhg1WvU/CuL45mHMVkkPpUySH0rLeSrMM9HKHKaMMmPpV+3fnisqOTIq5CcHFYTiZmyklDx1DDJVquIkyZkqM9atXMdVJOtdsSB3mUeZTaKsXMfQG+pPPqW8tKoPXypylzfSVUSSpkegDe0TXJtPuK9CsL6LULevIkkre0HXPs9xXm4rC+3+A3pVfZnoV5B9ot6xP+Petizvori3qG/ta8GE+T3JnrwkQv5WoW/lS15d8QvA3+ul8mu5knmt6s/a4tQt/Klr0cPOeFnzwNPZHxn4hsLvR7j/plX1h+zkNEn/Yb+PX/AAlNxqltob6tosb3mj2yXNzDJv8A3f7t3RH+fZuTcn3/AL9cD8S/AkVxbyyxQ15dD8UPiJ4H0Cbwrp/jTxHpXhuVJUfSLPVbiKykjf7/AO4R9nz/AD7vlr9HwGKhXgYH0DoX7Y3hXwhr/g/wzZeG7zWvhDonh7UPDN7Z6iFj1LUYNQdJr64+R3jibzUTaiO33Pv/AD/JxWpfEP4DfD/4n+BfEvws0DxvLFo/iSy1rUJPFVxa+Ylvbzb/ALPaRw/3/wC/M275E/26+d99Mr0OcD6+i/aV+Fdhc/GU6VJ440DVPG+prqdt4s0+ytv7Sgje7luJ7PZ9pTyYXV0Tekr79ju6bP3VdpYftqfB+f8Aaf8ACnxaurDxxZ/2P4ZTRn0+3s7SXzJPs72/+s+0L8ib3ff/AB/J8ieX8/hP7IPgjwL8V/G+t+AfGMcUOreJ9Mls/DOuSSPF/Z2p/fg+RPvq+wJ/3yi/frxLxJ4b1Dwf4g1XRNVtZLDVdLuXsrq3k/5ZyI+yT/x+ujmAXXI9KttZu4dFu7y70re/2W4v7dLa5eP/AKaRo77H/wCBvVaKKW4niihikmlkfYkccbfPUaJXrP7PXjTwt8P/ABNearr/ANohuvJ8vTL+OPzI7WT+OT/f2/Ir/wC/W+HpQrVYwnPkA7j4Wfs6y6RPDrfjYW/2yPY9tokkn3P+u/8A8R/33XsUmieKtfnii0rSrjULqT7mn2f7yT5P+ecf8fyf3K4G/wDjd4V8QeJ9P0/StWv4pbgbP7QuLdYrZ5P+Wcfz/c/3/uV9GfDPwfc+GYLU+Jfhbq9/qjb0tNb8P6jNbXvmY/1lrH8nmt/tpuSv2DLMVl+Fw044LeP9f3DRe4eW+EvCdp4w+13WoarJp+i27rbTeJ44/wDRtKvJf9XHPv8AufP8jfLXotj8NofDDyad4gtdM0/Rbi5tdM8a29xH5g0TzW/0TV7G4/597hPk3/cR3dG6GtzxP4f1LnX/AA3rV/4k8VWd7Fp7aH4v8Pppsr/xx2+pP/q5d/8AyyeZEd3+49dZYavpWhT/AA2+JulaVcweCvEGof8ACJa/4Zv90n9hyXc32a60+dH+7apcfOqP9x9+zak+2uLMM4qStOE/6/r4f65+P35nl2nfAyLwj4u8aeGpvs91d+ENft3+0anG/wDp2l3ELunmIn/A/wDf+dK2dU/Yk0r4n+H/AOyrTxVoctpbpd3XmfP9ptN7u8cifx/ImxGR/wC5Xq3hj4ZHwf8AH34ieEI5bu60XS/CukfY5L+RpJJI/tF35Hz/APTFN8P/AABK0Ne8FRW9x5v/AC1/6Z1xrMa+Np8ntDnnOcD4V+NP7Hfgr4MfA+68YRfEaTxfrcl7a6fp9vp8aR20kj/PJ5n/AC0+SJHf/vivmuyt/ev0Y+IvgDw/4g8QafaeJdEj1vRNPtd72ckjRfff95JHs/5a7Pu14/8AFb/gnl4q0D/ibfDW7/4TnQLhPtNtZ3GItSjj+/H/ALEr7P8Acevjc2ymrT9+iEKv858mPGKxb+T2rQ1SSe2uJLSaGS0uoHeGa3uI2jkR0/5Zuj/cesC5uutfIxpHTErvTEejfTHr0jcvWs2DV+CfmsOP0q/bSYNcFWBE4nRW0m4Vcjk9etYlu/etVHzXFOBzkk9UHrTqlMlFIkr0U6itij6iuYPtFYN5aVpJd1M8f2ivjonnnJPHT/MrSv7Gsp466QLML1YrOgqyk9AHT6Dr/wBn/dV3NnfRXFvXkW/2rodB8QfZ/wB1LXkYrC8/vwOqlV5Ds9S037RXJX6S6fcV2dnd/aKp6xaRXFvXl0qs4T5JnsUqvszDUf2hB5UteQfEvwB/rf3NerwyfZ7mn6taRaxb+TXqYfETws+eAVfiPjC/tZdPuPKlqFHr134i+B8ebLXj80EtvceVX6NhcRDFQMC/YaldaNf2moWsslrd27rNDcR/6xJEff5lfXv7SHgTUf2n/B/g/wCPXgXRbjVNa1mM6J4y0zSLYyyWusW6L/pGxPupNEFf/vj+J6+RPDukXfijX9P0jT4vO1DULqKytY/+mjvsj/8AQ6/bT4CeEtG+A/h7SvhjZCI6Pd232a51CMfvZL/vO/8AwL/xzZXtYfDe1VyOY/FfxF4Y1bwhqB0/xBpWoaJqH/PvqFs0Uj/991TTGfav2N8W3VrPqF94c8faNp/iDT43azaC/t1k/wDQ/ub/APYr4g/aS/Y9h8JeGP8AhYvw08+68IFGm1DSJZfMudK+b/WJ/fi/8fSu7FZZWow9pD4C+b+c+Wra7l0+4tLuEx+bbukyeZ/z0R99fq78MfFXhT4/eD9M1/w1FHZ+JLNorrGnR3JufD1/j/WT2kT7Hi3b9rrFsdP9uvydTrW34P8AGWreBvFGla1pV3JaXWn3MVynlyPHG/lPv8t9n30/+LrgwmLq4OVolyjzn67/ABY8X6tf3GleKpfDWn+Jdft7WWG6/wCEYi+22XirTE/4+7CeBv38Mqffi3+bsf5P+Wj1Ufw9oHinWPFPhrQLz+2vh18S/BK6toV4LwySSaxp77P9Z/z1RPsf3/n/ANG+f5kql8NfiJafFj4UWnjHwVpOnXeo3Y33OgXlw8X26S3ffJb/AMaJcQpu8qbek2zY/wByrHwriu7/AOO/hqw8PDd4Vkk1LxNeTyW6xS2Mk0TwybE/6as6I/8A02R3/wCWlYZjjbR5MN/26OMf5zt/gj4l1D4oeINb+IuoRSRWmseDPDsPmeW0cT3Gy4mn8v8A3Het/wAReVcGab/nnXfW3h/Svh/4OtPDXh/T49P8P6XBstrOORv3cf368N8Z67L/AGf5UUv+sfZX2+R4eczzq5zFzo3/AAkGsahqH/LKSbZD/wBc0+StLSvDmq/aJvsk15FabPOe3s5G/ebEd/8Avv8A+Lrp/Dfhn/iX2n7mTyvuJ5cbfPXL/EHQPGP9v6fp+q+GtXHh+8kZ9P0fwx4hSy1K+8r55JJ/k/g+/sSVP+BvXficXCUvYmEIH5U/tCeNPE3jH4oa1qPjDRLfRPEkmyO5t4Lcxb9n3JH/AL7bdnz/AMeyvMY+TX1D+2XpWnXVxp+qxWPijTrtLyXTBH4rj/0kxxJvk5/2Gdfk/wBv5K+ZFTB6818LmFD6tiJQgejS+Ai30x5KmdKh2VwGxNDWlD1rNhSpkkrKRBqJJxxzWrZyZrmPtefWtGzvDXFOkYTgdJUE3SoIZ/zqZpMiuXk5JkSIqKf+696P3XvWhifRSPFcf6qno9eLfD74oY/0W7/1tfcn7OuuaVqHw3l0+71DXPCH9sa0kNr4o0u3W5tp5PKT/Q7uP+OL99v2fcfe/wDzzr52eCnCryGc6R4U/wDpFY1/Y19vaZ4X1vwh4X8V6hothrWv+MrTxfcprUngnUEtrlM7XjGz7PK72+92/d/99/c+Qt/FmrajoXx2vbTwh/wg2q/Y7DU/7M8uOW5tZ3ZfMk3+UjodqRzbH+4+X711wwnJ9sn2J8GuKveHI7C48QafFrUt5a6XJMiXMlpGJJEj/wCmaO6fP/wKvtPw9aa34/h+COtXf9nXfxEi/tGb7fr9q10Z9MiV9lxJGn7yZ0yPK+b53T/gVcZ8c1/4Tf8AZz+GOvRHX/EF3HrN1bf2vr8XmX01u7r/AKzZv2JvZURNz/wfPVfVftl8h41+0H8PrD4UfF7xJ4Q0q6uLnT9MeFEnvSvmvvt0f+BE/jeuCSTmvX/24f8AR/2qPHX/AE0e0/8ASSKvGYZM4NcuIjyVpwM5/GddoOueldhv+0W9eUQv9nrsNB1mvBxWF+3A2pVSzqVpVZHrVvz9otqxH61xUp857E/fgUPEOlRaxb18++PPB32e486KLmvovzK5vxVocWoW9e9gMVOhM86E+Q8j/Z0voNH+P/w7u7z/AFUeuWm7679n/oW2v1M8STy/2xqFp/qpbh96RySf6u4T/wCLr8mPEGl3Xh3UIru1l+yyxus0Mkf8Eitvjr9ONN8b2vxn+HHhrx1p/wC6u9YskeaOP+DUIvknj/4G+/8A77r9u4arwrc8DaRd+NHxFl1+48Na19lji1CO2VL248z/AI+pE+T/AL72Vi/Drx5/wj/mxXfly2my4R/M/wBV87/6v/vh6p69BF4gt/Ki/wBEmvEd4Y5P9bBcJXAW0l3b3Hlf63+0LKX93H/yzkr9Fo4SCo+wR0cp4l+2J+zxYfCHWNP8V+FYs+BfEDv5Mce7/iXXH8dv/uP99f8AgaV85Y9K/SfWLGL40fCfVfAl35c2oappiXWnyeZ+6gvIv9RHH/wPen/A3r82HSa3/dSxeTLG7o8f/POSvyrOcB9SxH+MIn07+xb40/se28d6LdyyQ2kiWupwXNvetbSWtwjskcnyffT503o/9yv1Q+APhL/hFvAFpd3f2eLWvEGzVtQ+z/6qOSVEfy4/+mSfw/79fmD/AME5fhzF8QPif4qh1CLzdEttJt5L3/wLR0j/AOBun/fG+v1ytZ/9Iiz5f3P+Wf8AyzrxKFLnrc8zOc/sGZ8Rr7+x/DEsv/LaT5K+dbm0l8QeILTT/wDn3+eaSvTvjV4j/wCJja6f/wA+6ee9c38KNK+3+bqEv/LR9iV+l4f/AGLLuf8AnMZxOw8a+FdP1D4XXUOqaVea1aW89vMlhZ6z/Zvn/Ps8uSfenyfP8yb/AJ68b1r4e2uj3Mw0r4YXnhq71PZaw6hpHj6WSXy33+Z5fztHE+z7u/5Hr0n9qL4u6B8CPgRNreq2sd2r3iQ2WnyOP9KuNrvHHsdH3/c+b/Yr8lfi3+0940+K+sxXYls/CGnR2r2qaP4Yi+y23lv/AKzzP433/wC3/wAAr4r637Kdy4RNn9rjUdIHjfT9FsNQuNW1HS4WTVruTUGvt958i/6ze/z7E+ZEb5HOzfXgnlc1OiYoPJxXn4rETxVWdaZtGJV+ze9D23vVndQ7VyGnKUdlQzPV946pulbGZXq3bT1B5FTwwVlIg2rC4rTj71gWr4P1rYtnrzpRMJFr9170fuvejfRvrIxOGhkr2b4UfHrxX4G/0TSfEuqaLFJv/wCQfey22/fs/uP/ALCf98V4+iU9K9OrHnO0+xvBvxQ1/SJ5dQ0XX9U0q6vP9dcafeyxyz/9dJEf569e+Enxe0fwf4L8exa1rPieLxR4kSMxajp8CSG3libzY5POe4Ryzvn/AOLr4O8H+OZdHuPKlm/df89K9v0HxJDrFvXy9elWwU+eB58ozgdw/jPxLqHieLWv7f1iXxJv8uG/+2S/af8Atm/36qX/AMTfGv2jzf8AhMPEHmx3X23zP7Vm/wCPjZs8z7/39n8dJ4X8UX/grxNYazpkgjv7CZbmFyODItewfG7whpPxF8MwfFvwjbfZrG7byfEWkIedMv2/5af9cm42/X/gFYUpTnA5T538V+LvEnjWaG58R6/qevXMSbI59TvHuZI4/wDgb1iwzZrcfR5bi48q0ikll/55x10mlfCuK3/e63dyfwf6Hp8i/u9//PST/wCIr18BlOLzef8As0OcuMZ1PgOOSfHFWrO6+z16vbR+FPD9v5tr4fs5dP8Asu/zLiN5Zfv7P9Z/sVupB4a0/wA3+0PBVndRRwtqf+j/AOtns3TZ+72f88X2P/uV9z/xDzHcnv1onV9TrHnem6r9op15BmvSrz4VeHYNI8L390Z7C28VW0M2j6nZSp9iEjp88cm/+BGdPn/36o3/AMEfF8H7qG1j1WWN5YZrezkX7TBcRJvnt/L/AL6J8/8Atp86V8BmfCGZYD99Tjzw/u//ACPxG9KU4fGeXzR1TmkrSv45be4lilikilj+/HJG3yVjzSV8nGE/tmdX+c888b6HDcebXpP7FvxQi0DV9W+GGqzRxWviCdLnRpLiTyoo9Q+55f8Asecn3f8AbRKwdVg8+3ryHxbo2B5tfbZJj54KrCcC6Uz791u7u9P1C6il/wCeyI/mR+V5Em/93J/7I1cfrE//ABcC0u4ovKivHfZ5f/PT/lpHWH8Dvi5D+0BosPhbXrlIviTpyYtLm46a/Aqf8tP79wife/vp8/36nv7G7/s+Xypf3VvM908cn+ttJE/6af3Hr+ksBiqWYUfbUTribHg/Wf7H8URXf/PvqEvkxx/9Mvnj/wDH6+WP2ovBv/CH/GjxAYf3VprmzXbby/8AnncfO8f/AACXele6eG9c+z6h9ri8yWXZL5P/AF0lfZHXOftJeFLv4o/Ff4P+FbSX/iYappiaf5kkf+oje4f7/wDuJvevnuKKEJ4fnCR9Pf8ABNP4c/8ACLfA+68QSxRxXfizUPtSSeX+9Szt98Mf/fb+c9faf277Nb/apf8Almm9680+G+j2vg/R9P8AD+lRRxaVo9rFZWUf/TNP/Z/46j+M3j//AIR/wtLDD/x9XHyJ/wADr43AYWdetCjAzhDnmeS+OvF3/CQ6jqH2X/XahdJaw/8AXNP/ALOvePB+nReH/D9pF/yyjTZXzx8JbH/hIPHHmxf8emjpsT/rpX0tZwfaLi0ii/e/OiJX0PEFWFOcMND7AYj3D4C/4Kx/E3+0NZ+H3w/i/wCYfay67df9dJf3MH/jkLv/AMDr4Hj6mvXP2vfif/wtn9pHxpr8Mxl06K9/szT8n/l3t/3Kf+gM/wDwOvII/vGvz2r8YRJs+tR4z0rtPh78HPG3xPuMeFfD95qsW/Z9s+WK2j/7bv8AJXtmi/8ABPfx/fn/AImniHwv4fhkfZH5l49z5kn/AABK2pYPEV/ggXzwPlx+T6UHivoT4mfsMfE74f6BNrkFpaeL9EjL+ddeHJDLJAP+mkLp5m3/AL7r57NvWNWlOh8Y+YSo/LqdKK5xESW1TJFT91G6g05R4SrcUnNVmenr1rjkckjR30b6p+fR59ZmBiJTq+jNK/Ym1+4/5CHiXS7X/rnG8tdPZ/sSad/zEPF88v8A1724rnnnWXU/+Xh1nyVIK6Hwl4xl8P3H72X91/6BX1rp37HPgWA5u5dU1D/fuK6fTf2avhrp/wDzLUcv/XxI0tefV4hwFT3PemB4x4e8VWmsW8X72OvoX9mnxBqnhLxBc3c1oLvwXfQtZ6xYXH+rvYP+eccf8bpv/wCAVteGPhr4a0f99F4fs7S1jfZ+7j+/U2t3Vp9oi83zIoo32fZ/L8q5gj/56QSV9Zwlw/8A21P67OEoUfs/3v8A7U5YUOeZa+K/wxh+FM5m8NRf2h4Vv4ftlhqFvu+0un/XT+8n3GT/AMcrye8nlt/Jl823/eQu6eZ+6iuo/wD2R/8AYr3LwV490vV7CX4b+KdbJ0a/ud+ma0P3Vzol3/B5n+y7/e/3/wDgVeGeKPAniDSPE+oeFfEE0lrqFhc7Ej8tJYvM/wCWflx/3H+//wADr+gsnowwsfqLhrD/AMnh/XxnvUqUKPuQKOm3cWn2/wBr/dy+Yjw3OlySeVcps2P5kf8Av/8AfD132naPqo+G+n+JfBXl+L/D+h6h/aF7pEdu/wBu0qPfveP/AK5OiI7J/wADSuS8P6JNp88sviXwrrcR0N9n/CSeG4/tMtrcffjkkjf5JYv9j5K92+DviK3+PnizVJfDPi9Phn8XLGFPP1TR7cfYvElv93zZLF/+Wifn8/5ZZviqlOHOvsf1/X/pPKcFev74eJ/DejWHhGGK6msLn4a+Mz/bumXmhh/M8Iamzf8AHwif8+O//W/L8m599ena14e8TeKbkeMNLsI9L1bWLK21O80ufEVza63p7/u5E/vxXEXmwt/sOj1wnwjvfEHgjxRrWtxeGtAl0qe2ltr2PQ5Jor2DUHd0+0QWNwiPD9o+4yfcd0R67n4dfH/w5qPxgi8Hzyvp0WqQv/ZY1MvZalBPEqedaXdpN9ybD743T5HTf/FXwOJn7F/1/X8v+LlPOPOtf+F+jeP7TVIWtpzb295/ZmlXoiYalYyS2/2u1s59/wB5t7vbNv8A+mNfOHif4R+JfC/2WWW0ju7S8hSaG4s5PNi+f/ln/sOn3Gr7l8fXvhnwb8QNVGoQyS6T4otYv7Z0+SNovtckX+rvIP78qIiIyJ8/yI6f6uvGfA2jy+KNH+IGn+FPtHiDxB/wlVxNa+KPMaW2eN4vOg8z/lm9vsd4WT+B/n+/X5/mdLCZnzzh8f8AN/8AJG3sj5O1LQNQt/8AW2klef8AivRpj/rYZP8Av3X6RJ+zRrer3Est3/Z/h6Hejw28cj3OyPZ/z0/399JN+x9p9xby/atVkl/6526V8lQwGYwn/B/8mMOWcJn5Li4u/DusWuoafdyaff2kyTW1xby+VJDIn+rkSvtz4b+P7P8AaP0GbVltLO0+JNgiQ65ZJ+7j1i3/AOfhP7j/APs/yf3K9i1j9g7wJrFvL5t3qHm/9M44q8c1/wDYf8TfC/xBF4l8Car9rms/+XeT91JJH/y0j/299foWU4/F5ZPnnD3PtHTzHmL6zL4H+IN3pMsUk39n6h50NvH/AMtNiO8H/j7pXqvwZ8M6d4g/aG1rxLd3Ud0fCek2umW0scrSxSXjp+/uN/8AwObbXkn7QHiOHxRrFh4wmsI9O1CzmXTNT0+P93s2Oj+ZJ/G/9x/l+d69A+Aus3Vv8KJZZP8AkIaxq11ev5f/AC0jeXZ/7JX0ubY/61yUTu9lzn2poOqxf6XN/qvn/wDQK+cvjZ8UP7Y8QXcsX760s/kg/wCmkj1N8Qvi3/wi/g/yvN/0uRK8c+G6S/EDxxp9p/y62b/arqT/AKaV7eTQhhaM8VM9GlQ5Ic59h/s/aH/wi/g+L915uoXn756n/af+N8XwI+C/iDX4v3PiDUE/snRv9u8lT/Wf7kKb3/74rd0GSb91FDLH5XyJ5dfB/wC074g1v9qj40Q6J4f/ANL8P6HvstM/efupPn/f3kkn8CO/yL/sIlfD4/FTr1v78zwasueZ8kaJo+oeINQtdK0m0uNW1a8fZDb28fmSzyV9WfC39mPSfAyx6r4vFn4l8TE/udBjzJptpJ/z0nf/AJbMn9xPk/366PwVonh/4UaddaT4PxqGoTp5ep+KJNvmz7P9Z5f/ADyt9/8AB/H/AB1vJ51x5XmxXFpp/wDzzj/4/p4/+en+xvr7TKeHIQ/fYr4/5TqjA7BPF2oax+5il+yRR7IU8uNfKtY/+mcafxvV+21GX/RIvtck0saOiR/88P8AnpJ/vvWb4e8M/wBseV/rPKj+RLOz3f8Aoz+P/aevQtN8Fxaf5UWoSx6fFIif6HZx/vH/AOuklfazjRohOEDb8H+Jpbf+z4tKury1ut+95I93yf8ATOP++9fGv/BQbwV4V0f4waVL4a0+PStb1TSf7Q8QWdvH5ccdw7v5cn+w7pvdq/Qvw1pOi6f4fu9Q/sqPyrOD7U8klx5knlolfBvxC0PWvih4w1XxNrfl/wBoag/+rj/5YRp/q4/+AJX49xZm+Ew3ufbOXn98+Pv7Gu/+eVTJ4cuj/wAsa+nU+EFXE+F0VfmEs7ol8x8wJ4V1D/nlU3/CJXdfUsPw5i/55UTeB7T/AJ5Vj/bMDTmPlyDwbdz1pW3w7urg19EJ4YtLf/llVyGxtLes6ubmEqsD52/4Vld/88qP+FZXf/PKvpL7Pa/9M6Ps9r/0zri/tSZz+1ge2X89pp9v5t3LHaRf9NJKyofE+iXFx5MWoWfm/wDXSh45ftH/ACBNP8r/AKfLhpahubXT7j/j70rT5Yv+mciV8THDw+2e/wDVYGrNaRahb/urv/Wf8tLeSrOj+FYtQ/5a3H2S3/10nmVm6Jd/aNYi0rT7Szi8z5E8u4X/AD8ldz4ksbTT9H+yfa/9E2b/ALRJGssUklfoHBvC886xfPW/3eHxf3v7v/yRy+/CfJA57XtZit/Ki8n7JaR/ckvLd/K+5/q//s6831vX9Vt7eW1tJbeXSv8AXeXHvl3/APXP5Pkre17XJre3l0r+1biX7iQxx6c/z/8Aff8ABXMfaori3/0vUNU0/wDv/eiik/6afInyV/Z2CwsKEOSEDtpQhA56bSpdY/5l+T7n/LTZLvp3ia01/wAXT/ar/T9X1TVY4Yk8wW00kiW6r8n7z+5tSq82o2lv+6iu9Q1CKN32XFvv+SrekyTafq1h5utXmgafqD73v7e5mubmCP8A56bIn+f/AHK9apG370xr1fcO68CWOg6Pp9/dDxJ8UvhtDIkSfaINPluY9R3o7+X5ez5Nmz5f9ivRT4e+FnxRuLS61/x18WvEmqWex9P1+z8My232KdP+WkckNpw/+/VrQP8AhFNHIude/aN8eatrVwX/ALN0jwvfvJcXUfr5CpLsZ/7jbfuV1Oka/wCP103zdK1r4k6QurOmmaTqHxDvNNsQ942/y/LtPJeeV/k+4+zf89fkuYYidSpNR9z/AMl/9Khc+f5vf/r/AOSKeqaxClgBffGPxB4g0iA/uI/FXg24iuXk/g2XyW6f+PJXWeIfH3/CyNPh0nxL4P8AD/iqWNF3x6vIba58z+CSN9nyf+OV1HhK8+JesafD/afxet7qQSNazf8ACP8Ag5opI3T7+/7Q77P9/ZXkXip9V1Dxhd/21reoarDpb7Jry4vLeKL+Dy/3CQ+Y7un+39+vh5YmjWq/Uq0Of/D8Uf8A0k7Ix+2el+G/BeiXGjzWniWW41u0uH89ND1y5S+itP8ArnPs3v8A7P8Acrv7DxHpOj28Vpaf2fp9pb/IlvHsiiSvnK8vpbj/AJB9pqF1afwSXEjeVVa28M+JdQ/1OlWcX/Xxulr6Khw9gcLD4+QPazmfRV58RtEt/wDW63p5/wC3gVg3Pxf8KW/73+27P/tnJXldn8HNbuP9bLZw/wDbstWX+CV3/wBBaT/tnbpXbDBZXD/l8WdJqXx48K/9Ba3irldV+NPgq483/ioI/wB5/wA9JP8AV1lax8Abu4t/+Qrcf+OV5R4z/Z91u3/1V3JL/wBdI0ruhgMrn8EztpQhM4n9qXR7Txx4fl8QaJqFnLd2af6VHZ7f3/8Azzkk/wCWm9K868N+PIfD/h+0tIv3MVnaon+s/uUzx14D8QeF/Om8qP8A7Z7ov/QK+fvFniOaC58keZFF/HHXymbZX9Sn7ahP3D0aXJA77xV8SrvxTq8s3myff+SOvoj4IabL4f8AD8Xlf8hDUHR5q+OPA0n2jUftc3mfuvnr6I0H4qXfh/T5tQitJNQljR/3cdu0sUf/AF02fwVy1cx54exgbynzwPfviv8AGWXT7a78FaVN5N19l/4nWqeZ+706N0/1f+3K6f3PuJ/10rxmz8QaVb/8SrT/ADLTw/Hs3+XJ/pOq3H/XT+BE+5/cT56800TVYvGFvLLrWoebLI7vDHefvYvtDv8AvJPIT+N/9v5P9+u/8K6j4f0fUPKi8Pyarqv/AEEPEFw3lf8AfhP4P9+ve4fwcPrH1qcOef8A6SeJ7KEJ852Gg6Vd+ILiWW00+P8AeP8A6yOPyrG1jT/V+Xv+/XbWFjp+n/8AIQ8uGWR/kt7eRpZZJP8A2euYttU1rxPqEUuq6h/bXyLbfY9PvFi/d/8ALOOuqeDSre3tZf8AhFbzRbqP5HvJLj90/wD20T/2ev1b4DY7bR9c1C4/0SK0uNKi/wCme2KT/v4/3P8AgFei+BvCMuoahL+6ji+5+8kvVlleuA8PeEdQt7iH91Z+VH9+S4keWu2+JHxQ0n4D+F/slpp9v/wmGoJ/oVvHt/cf9PEn9xP/AEOvjc8zGjgqU58559WfIQ/Gn4qaV4f+1+BdPu45rv8A5i1xH/yz/wCnf/f/AL1eM/brT0jrxnzrr7TLNLLJLLI7u8kn8clXIdVl/wCetfyzmleeb4j20zCliD13/RarP5Vebp4q+z/8tahfx/Fb/wDLWvB+pTOrmpHov7r3qheQVx6fEa0/56x1pW3jHT9Q/wCWtH1WtA6o0oTK2o1iXLy11XlxXH/LXzahudOtK2iROlR+3A4/+0T/AM8qP7RP/PKtv+xrT/ntR/Y1p/z2rf3DD2WHObTxH9o/5ayf9tJGq4mpQ1wCPmrkMktXKhAj2p9LfAexit9P1XxBLDJdyyP/AGfZeXG3+/J/7Ildbc3UWn3Evm2knm7NieXG1z/7P8lYnw0ni0/4P+GfO8vzdkt15fz/AOseV/7n+5VnUvEEv+q823tLSR03yfZ1ll/8cd99f1PwhgIYXK6MIfy83/gRdKfP75g3j3esf620t4rS3R3SSSR5Zf8Av2n3P+B1yWq6xFcW8sX9oSeb9x7OO4bypP8Atmn362L/AOyXHlRSxXGoXcjv/q43/wDRdYk0N3q+of8AEqijhit03vb29wvmps+SSSST+Cv1OlE7pSKGsarqHiD7XLFafa/s+xPMjjWKKP8A55/u67b4P/DubxuLrVNftdTHhvTH8ubSPDmnP5l8UT5/Mu9myKLf975680/0T/v59y3jkbyv+2kn8de8fDXxZ4w8TaBf6f4/8fXHgD4baJDFp80GgRxWUs+9v9XHsT+787bF3/wfx1wZtOvQwv8As/8AX+D+8eZiZzPUfEWt+GvgRBqPhqw1Dwz8JZPEEMX2IeGLabV9b+dF8zzHT+Pfv8rZ8lVfB/xN8TeLvF91pfw/+GWt+M/F2j27Wz+O/iVdrbRWudv7spEn3u+xMP8AfrkIfC8ekW15f6f4cm+EvwS+S1k1MbI9W1r5v3ckk8v7yJH3/wAH3Pnrq/Bnju91f4cjwt4LubDwD8O7S2lv5tUv7xrK51Gz83Y8lq7fvIbf+9O++V9/yV+XYnCQlQ9ovfn5/wDt32ub+5zSPPjI6jxX4Xu/FOuyeHvF/jnxL8TvHESq7eE/ApfRNJsh/cu7iH7i/wDXaXf/AHErBs/BcX9v/wBn2sOn/wBiWb7If7PuftNkkn/LT94/3/n+87/P/fqfVr6LX/BWn2sHhu88OfCu4kFr4W8D6RI9tqXjqdlOZbj/AJaQ2n8Tb/ndN00rfdWqkh8FfDfWdA8H+INb0+X4k+IPKd7PRLZotI0ePZ/omnwInyRJ/d3/ADv87v8AfSvKwPNhppQ/r+v6lzFuR6ukEVvby/2TFb6tqGz9zb3EnlReZ/10/g/36l8AeLfCnxI0+K78P63b/vHlRLe4kWOV5EfZJ5e//Wpv3/On36838ayxeLrDVPh3aXXlajqcl/o15cQOY/I8qy+0z/P/ALjwpvT+/XHeLvDvgvxh4Q8I6SYbfRJYvh5b67eR3EvlxQx2+xLS3jk/g/eu8zfxvsSvOxUZ8/Pz/wBfzHRCR9QPoF1/2y/56Sfx1X/s0+klfAXxZ/bP8VnWNQtPhzreqaJpMl690+oSf62f5ESOOON/9TD8m/8Avu7vXNn9vL4zd9b0v/rp/Y0P7yvmI5zh/gCdXkP0XuYIsfvawdY06X/lla/9/K/PF/26PjNcajF5PiW3lu7h0SC3t9Gh/eSf9M49lehaV8Sv2ltQ/wBL1XxBb6TabP8AkF6pb28Vz/2zgRN//AK9TC4yeKnyUYSmaQqnsHxL0qX7PLFLafwPvkk/551+WfxJtBr/AMTtUh0qL90k+xBX2T8XP2ufEGgaBDaedofiu7O97mSSzNr5ex9jxyJ8j7/ubflrwPwx4R1XV/HGq6hd+Crz926XV7p+j7rm5gjf5/3cf/j+x/nq8VVrc/sZntRl7nJM53wr8NfFenwRTQ2kn/fuvZvhv481bwPqEUWoWkf+35kflb/+2if+z19QfB/wPaf8I/aahpWoW+t+GZN7/bI/9j/ln/v/AN5H+5Xea98BNF8Yaf5v2TyvMd0/1dfS5b9R/wCX0Dq9rR+CBj/Dd/h18WNPltNQ0TT5Zfkea3ktliuY/wDpp5iff/36f42/ZW1XT9Pl1DwVd/8ACV2kb+d/wj+sbYrmP/r0u02Sb/8Af+/Xl2sfBnW/hPqH2u0+0S2tu+9JLf8A1sH/AE0j/wDiK+hPg58W4fEFta6fqPly3X/LG4j/ANVP/wDZ/wCxXoY/J50P9qwU/wDwE8vEUvtwPlaGfwLrGsahF/asng/xBG+yfR/FFt+68xP+WfmJ9x/++K9S0fwB9o0/zdP1WO18zZ9ps7fUYrmxeN/9Z9/7ldv+17+ylB8ftGbxN4SEVh8RNPtyiQSHEerxp/ywk/uS/wDPJ/8AgD/JX5I6pq2oabc3dndWr2F1bzNDcwPGY5EkVtjxyR/30avIhxPmmG9ytyz/APJTi5pn6aeIfjN8NP2d9Pl+yarZ+KvFce9LbT9LufNtpJP+ek8n8CJ/cr5C8W/Ga78YeILvW9Vu/teoXj73k/8Aaf8AsIlfOg1W7J/1vlf9c6g+1Sn/AJayV8bmlWtm8+fFEey5/jPbZviPCf8AltWJf/FXNeXZ561Wn6c15EcBRL9lCB3N/wDFSU8fvKx7n4h3VzXIPHTkPbFdUcLRgHLA1pfGGod5a0tL+IWq6f8A8tvNrlHT14pvl1rKjCfQs9v8MfGyb/VSy+VXqmkfEa01i3/11fJVta1vafcXWn8xSyV4eIy2jP4AlVmfV/8Ablr/AM9aP7ctf+etfNH/AAl+q+tH/CX6r61539mmHMegWd3WxbSVxNte9a17bU+OlRVpGPKe5+GNf1u/8Lw2mn2lxLaaGj+dJbyf8s3d3j/d7/8Af+euh8PeJotY0f8AtWW78rT9n7mzt93z/wDXTZ/H/wADrE8H/CfT/FHw/wBE1W7/AHst48r/ALyTyovv7P8A2Stt9Gi0e3tNPi8zzfn2fZ93lR1/U3CEcRDKaP1qcfh93/D/AHjqw/8AcK2q311b/wDHpLJa6fcb0/0OPypXj/55yUWdpaXHlS/2fcXUu/8A5A9vG0VtHs/57/79bENrL9ni8ry/slv8/wBouLj7n+f9ipptG/s/T/8AS5ZIrT+OP5ovP3/884//AIuvvOeB6nszG1rW7qfWNPll+z3U2numzS7OPy7aCP7/AJf/AH3/AMDesfxp4suvF1//AGrf/wCl6hG/+rt4x9isY0/1fyJ/BWzcx2lxp/2T+z7e00/5HhjkkaKX/rp5n8Cf+P1iX91F9ni+yReVaRuiWVvHH/r/APppJ/sb6q9NO/IROhA3E13X/iP4oi/4T/xLHqtr4che9s9A1P8A49p5P+eckabPk/jbf/AlaXhvx7YeKfE2lX/j6O3fwroaK/8AZk+fL1G4f/VyT7f+WSIm9YP9hErzn+zorjUJYpfLu5djzXVxJ/z0f/4irmlabL4gt9P0/wAqOL5989xcf6qS4f8A56f8ATYtefPA0OR0zi+qwPbL39o278MeIYfHcmlHXfEGsWH2Dw5Zz3j+Volm7b08x/43d9jy/wCx8ldbf2MXhrxpoGnf2gddl0zX9Lj8TajHGsv9q63du9xPv/2ESFETZ9zfXlVjoen3GseG7+6tI7/St9wn2CONv3dvb/vpJN//AE2l+SvR/CXiCHwhB4GjmtPtZ0RpfEV7Z+WP3+r3CP5fmP8AwJbq6V8ZmtDCYKl7ePu8v9f8D/FPm6GPsOSfuF7StRh1vQNG1SeR4rp/Buua1rGsf6vyLjVboL5e/wDv7UdE/wBxK+YPH/jHVfFHm/2hdSf2fGkUMNn8sUSRxJ5MH+/sT/2evWvFV9LqGnxWksscUUcMSfZ7f91E/lb/AC5PL/v/ADv/AN914x4nEVvcV+AZ7nsMZW9jg/4X/pX/ANqdP1WtR9+Z5jqsnHrWJ5F3qOoRWlpDJdXdxMkMNvH/AByO+yOP/vuu3vIIrivVP2MPCtpqHx4iu7vy/wDiT6ZcahaySRr+7uPkSOT/AIBvevOwVD61iIUTzpyPZvhX8HdK/Zg8Py6hd6ro83xLuY9l7qFx+8/s3f8A8s7T/c/if771518Qrr/hOLj/AJDeoeJbqzd7qa8kt1sYrT/rpP8Af316j48g/wCEg1i71W7/ANLh/j1DUJPKifZ/0zSuD1t5bfT4tQ1C0s4vn2afodvG0UUe/wD5eJP7/wDwOv6YyjK8PgqUIwgdUYnjN5o934g/4SvxBd6h/aEVnD/rLjfLLPcbNkf3/vp/tvXWfArwzf8Ah651XUNEtLjUJo0Sa9t7fUW+0wR7P9YkHyfaP49uz/gaV1D+C/tGnxWkMv7q8m2faI/+W+z5/wB5/wADre03R4re30+Xyri0i+fybjT/APW2Nxv/AOen9x/7lds8rw/tfbL4zrJfFPiDW/gdfw/EvwfL9q8P6pMieLdD1SNo4p7h/wDl8k2f8e7v9xnT+P79fUnwc+MXg/40af5uiS/2frUfz3Wh3m2K5g/+LT/bSvAPicLrT/gPrdpqsPlaheXVvZJcXEjfP8+//wBASvm9J/7P1jT5dPlkh1Cz2PBqml/urn5P+eez7kqfO/8AcdEdP9mvxXiDFQy/NuSj9v3jP3J+4fqbf6NFqNv5UsX7qSvBPHPwkl8D6hLqulRebp8j77qz/wCef/TSP+49Wv2ev2kx48Fp4Q8bywReNM+XZ6pFEI7bW/l3xyJ/cldPn2fx/Pt+b5a9+mjhuYJbW7/1UnyV7uU5zyQ56fwESnOHxnm/w58ef2hbxebd+b/zxuP+en/xD18Q/wDBTj9neHw9r1r8X/D8ROla/P8AZdcgjj/1F/s/dz/9tlR93+2n/TSvrzxt4Gm8H6h/aGleZ9kk/wBdbx/8tP8A4h6ua9pun/GH4P8AirwfqsUeoWuuaZLDDJJ/z02b4JP9h0lRK6M0wEK0PrWF+A5OY/EapVj969L8Sfsz/EPwyfOGjf2/Fs8yOfRJPtMr/wC35HyTqnyP/AK4C/03UdH/AOQhp95p/wD1+W7xf+h18NOEzuiVJutU5ulTefVZ6iJEiGhKKelaiDZQiVZSOhIKy5iDX0uDPFakx+zVnaZ05p9/JniuKXxlziP88+tHnn1rC8+ajz5qv2RhynpCR0fa/s9VvPoeSvH5Q5j6x/ZX+Idr448H/wDCubvUPsmt6fPLdWVvJt/0q3f55I4/9tH3/J/cevV7Pwd9ouP3trJaaVG+z7PHJ+9n/wCukn9yvzouY5hcRSwyyRSxvvhuI5GilST/AKZyfwV7x4C/bZ8S+H9Pl0nxtYP40tPuJqiSC2vkj/8AQJv+B/PX6xw/xLCjRhhqxpSlyH0nf2Npp/72K0j1C787ZDbyf8e0GysS5/0i4+1yy3GofJsST/npJ/zzj/2P/Q63PA3jfwL8VxDeeGtftL+6O3fod5Iltcp/0z8h/wD0P599dNeeFbrT7j99afa7vzkdPLj/AHX/AEzjj/2E/ir9Pw+PhW+A9GGIgeS3+gf2f+61C1kmupHTydLt/wDln/10rHvILu3uJvNmju5d77JPL/dSSf8AxCJXc6rY/wCkS/8ALW7kf/Wf8sv+ukn9xP4FrKm0OK4+1/2fFcTeYiWVrHJ/zz/56V7dKubcxwcNp/y6RfvYbjfvuJP++/8Ax+uz8H2kWn+H5ZdQlj0+0j3zz3kkixeX8n7v/vje9UPFl34f+HFv/wATq7/expsh0+32/aZ/+mn+wn+/Xg/jfx/qHxAuYYbv/RNPj/1On2/+qT/4t6+K4g4twmUw9jD36v8AL/8AJHFiK8IHrviH9ozSbe3tdK0SWT7LZ2z2SXn+r/dv/rP++3/jrHs/jvaW/wC682OWvCbjSorjrVSXQMj9zX4BmWY1s5nz4mf/AMiFLHwh8B9G3PxQtNQt/Nry7xD4jl1C4rj7OCWtK2TNeLClCBdXMueBZ8+W3/8AjdfQ/wCwxrFpb/HCWK7/ANbeaLdpBHJ/y0kTY/8A7JXzw710nwx8eTfC/wCJHhnxhD++/se9SaeP/npH9yT/AMcd69PBThRxEJng+1/nPtLx/Bd2/iCKWWW3/tC4d3hs/wDllYx/89JP9uuYhgiuPFFp/osl1Fp6PdXVxJJ/rJPuR+Z/c/v167488P2lxp8XiXSpY9Vi1TZdaf8AvP8AXxum+OSSsH4e+GZf7Pu5Zf3suqXvzyf39n+s/wCAfJX9K4XGQ+rc56MZHE3miS+F9Y+ywy/8efz/ALz+Pe++T/0Out8P+B5b+4mtYovNFw+x7f8A5ZTxv/7PT7nSpfEHjeWK14+0TSon7v8A2P8A7Cue/an/AGmtP/Z/8LTeEPDMsc3xL1CySObyyvl6HH/z0f8A6a/3U/4HXFmebxwVHnmE5ch4t+1d8TbW48YReCtEu/N0rw/8k0nmf6y8/wCWn/fCfJ/33Xzx4o8T3dvo3+iSyRS/f8yP+Cue0eP+0Lf97LJ53/PSST79buoab9o0ev5xx+M+tYv21Y4Y/GeoeFviRp/xH8LjUbuKO01TQIf9Ps7P93vt3dPL8iT+D9786v8AwTbK+xfhR+1R/Z4l8NfEu7kuv7PRHh8WeX9+3/5Z3E8aff8An+SV0+46fP8AJ81fl34L8Xah8L/HFh4gtYvO+xv++s5P9XdW/wDy0jk/v70r7e/sbSvFHh/T/FWiXcd35cL3qahZ27yxQfJv/j++/wBn2boP79s//PSnOc8vn7ah8B7H8f4z70v7W01nR4ZYrqzuorj/AFNxbyLLF/38SvKn06Xwv4ou7SKX91cfvrX/AGJK8d+D/iOX4T+KP9TJ/wAI/eP5M+nx/wCrguHRHjt4/wDYffvgf+4+x6968SeTq+oafd2n+pkeK6h8z/f/APQ6/ReGuIIZnz0fgn/KcWIw/IVtN0Pwp8QPNl/5AuqyPvvbjS5Ftrm72f8ALOSdP3mz/cevMPG3gvW/B9xaXfiDxL8N/AngTS9Q877HJZXFz9r3/wDLST7Q/wC9f/YT/brx3w34f1bwv4w1CHw/4g/sTULzU5UTR/s8X2n/AFrvJHBJcfclf/nhNs3/AH0d6+otF8ceGvGNv/ZV3qGl6rqFns+1aP4gsltrmCT/AKaWlx9x/wDbTf8A7FVhMZSr/wCMwlGcD5I8Z/Dr4S/EDT9VtLvUfBnmafPl/GelxrY3s+//AFcdpYRTfvvndNzzbNlfOHxb/ZU1TwOIbvwprVh460u4d9kel3MUt7Bs/vxo7/P/ALlfpV8WNP1Dw/o2nxeCfhr8PJdQt0fZeaobO2isY/8ApnG/3/8Avuvl3WPH91/bEX9rfbIta377q40fWdPj8iNE/wBXaR26fuk/vP8AP8le7RwNDM4//s8xpE+EF02UZ/56fxxyfwVL/Y+e9fVni3wxonxIuPtX9n29pFI7+TqmnyN8n/TOSSbZ5yf8Arx7xP4Om8L6jLaXfl/c3pJH/qp4/wDnpH/sV8hnOV4jLPf+OH8xc5ch5i1rjNNHFbWqwVgiTivAjLnFE39Kjqa/tap6bd1qvPFTO6Jz/wBhNH2E1rfufej9z71XMXym26imvWZb6x9prTSb7R715E4TgeRykO/npxUE9vEauNBzzULpzRzBz8hj3miw3Fb3h74m+O/A0HlaJ4w1zSof+ecd6/lf9+3qs/J65qJ4K7qWKrUfgmXzG9N+0T8UPtHmzeMLyX/rpHF5f/fvZUFz+0H8RdQPkzeMNU8r/p32Rf8AoCVz0um4FUJtNr1I5viZx5PbS/8AAjSM4HS6brn2i486WWSWaT53kkkb95W7C9ecwxzQXFdXpWo496+dxWH+3Azq0jf8yn+ZTEk+0UeXXmHGP8ypkkqrUiSUAWfMoeTFMxxUVdNKZnyn1B+zZ+1tp/w+8PWng/x3aXF3olnvTTNYt4/Nl03f/wAs5I/40/u7PuV9Ef8ADR/wU0/T7WaL4gaf9ks4X2W8cb+bJv8A+meyvzSeT34pjvmvq8LneLw1LkNoTnA+pvi7+3d9n0/+xPhJp8mlfJsm8UapGv2mT/rhH/yy/wB9/nr4zv7uXUNQlu7u7ku7u4ffNcXEjSyvJ/z0kkf79bFzBWPNHXnVcfVxk+esaF7w9P8A6R6V3Vhz+5/56V5tZz+RcQ13+mzZ8qvm8yj7/OQcn4q0P7Pcda+pv2MdVm1DwNoelmXVJpdE1+6SCz+0f8S2SRrf7RB5kf8AvtNuf+D5P+elfPviqD7R5UtfSH7OWgf2f8J9b/0u8tP7cvXsvL0uNftM++JIZI/Mf7ibH3ts+d9iV6uVv67yUGdsKp7Z4S/s/wAQeF9Eu9V0/wD4p/UH/wCEZ1C3j3f8edw7vptxHIn/AHxv/g3/APTOvQvDMGtaf4fl0TxLLHLqFvdXVr/akciy+fZ/8s7iT/prs+8n99H/AOelQ+KtYuvA/iHxqPD+nx3cVnNoXhnT7OST/RnuPKlf+D7mxHTdRrOuahbaP8P9V8H2tnqsviyyle1s7yT/AFl4kSXP2PzP4N6JcJ/v7K9PK8BhssxH1z3uf7P/AID/AF/UTbETnWhyHkqaNqPjj+1PDXjDT31XxBpcKw3Umj26y6klnv32l5BA/wDyE9Pf+5/roX3pvrPtvG1/4Y8P2Fn4l0/wv8RfAtw/kafqniS4aSxfa/z28GpOjvaS/wDTrfbHT7iTPXu3ijwHa/GjwdonxA8KWlxqGoafC82mfZ7j7Nc6jZv/AMfenxyfft5YXh/df3Jof7kj1wWlapi50nVYda0zT9f8UQCPTPF2r6eYvD3jqNvk+wazAnyRagj749/3/v7N/MVellUbQ9//AMBIqyOJ8Z+C/gJpHlS+Nfhfrnw6muH85NYt7e7ii/7/AKPKjp/ufJXjPiifw/o9xqv/AAqTxVrn9kyb/Okt7aWXz4/+uiInk7//ANuvqnwbFeeHfEOqeD/DWqXvwL8Une8PgTxnENS8N6ryN8mmu/3E3H7kL/xJ8leE/tB+HJfC/wBl/tr4P/8ACuvEtxM/2rxBod639kXX/TOPZ+7Tf/cev03KZ+0rez/9u/r/AMllI5o/GeR6bBFb3Est3p+oWk0aI/mR7/8A2f7lX9S0q1+IGj/2VLLHFLGjvp95JGv+iXH/AE02f8sn/i/uffpmm6ld2/lRSyyRRRpsT7RZLLF5ddI8cWseVLF5fm/ceO3j/wBXX2GMwUK9H2NaHuHrcvPA+RPEsd3o+oXen6hFJaahZu8E9vJ/BIlYRr6O+P3w5m8Q+HpfFVpCP7a0dETUI/KP+l2afJHJ/tvD9xv9jZ/cr5l8+vwvH5dPLMR7E5eXkNC171pJJk1T0qH7Sa330v8AcYFePOR3QiZ++jfS/Z/YUfZ/YVHMXylSw8MahXU6b4bu+PNr2dNHtLf/AJZUeXaf88Y6+bnmU6h5Z57a+GJae/hiu2uZ4qpzXHNYfWJmE+Q46Tw/zimf2GfWulc+lVm4FbQqzOYwX0eq02lRVvTVQm6VpzC5jDn0bNV4rH7PW29QbfwrqhOZpzD7eatBBmsmTg5o+1fZ6wnSMOY16Kz4dSqyl9FXL7KQy1UD9KPPpKuHuARO9FMmpm+vRjIB8yVm3MFaSPUM0dBsc9NHXSaDqX+j1j3MFQwz/Z6KtL28AO2S4/tC5itf9uvs74f32q/Dj4HRa1p8WnxXWiO+oW1xqcbSW0dxLKltB8iffl373VPufI7v/BXxp4HvorbUoruX/ln/AM9K+0fBfiOK48K+BdV1W1uNV8NSf6bp+j2+2STVbxH2QR/7HnS7IVT+4kzvXr8NYGpLFubh7nKED6Av/D2jeF/if8GvhpaXg1abT59Q8Yate3FwouZnit3T7ZP/ANdri4f/AIAnyfcryeaDW7j9l/8AZ51Dw1/pfiDT9Wl8QWscf/Lf7Ol3NJH/ALe+Len/AHxUvhPXovgR4p+KfxR8azSa/r4kTQL24j73n2f7RPHBv/5Yo/k2y/7CV13whtP+EX/4ZE8P6gPsvm6Tqt7JbyfwSPY7/L/8jPX2lTDex5Pt/wD7MpSOg7H4V+MNL8H/ABmtLS1ljuPAPxMtZfEvhC8jB/0K8dEe/tP9jzl2TL/t+dXFfHW4034AeKNc0vxB4ek8X/A34nzPLe2FpH5suians3zyRp/cmVPO+T50dHdK5LVNR1W4/Yx0/wAQaf8A8jh8K/E1xdWf2iT7n2K+dPs8mz+/bzbK9T8d6jF+0xoNnYWl4mgf25plvr/ha8uLj7Nc2uqRJvjkg/56/f2SpXJHC+xxHO/g+1/26Z8/PA8y1nUNL0/wBoFj451C3+L37OOoHybDxnJE8uraBJ/yz8+RP7j/ACeft3/wPXl3jz4jfErw/wCGP+EP8TS3Hjv4Vahc/ZtI8SR7ftM/z74I5J/uTPsT/gf9+ue8OfGgQaBd6h4Flt/CvxAvHey8U/Di8tmk0jXJPnSS4gjf5IX+/uT5K5vUNc0q28ES6N4P1q//AOEQ1OSL/hIPBeoD95Y3G/55IP8AY+T76fOnyV+gZZgmp8/97+v+3v732jGPxl2z0PSvtEVp4a1D+0LuRP32lyRy/Js/5ZyRv9z/AIBWxbWv+q+16VJpP9y8s5Gi/wD2P+B1zHi2+u7e4iitLv8AtvT96JpniCTbFcx/8845/wC/8iff/jrpPDfi2W4/4lV3/rfn2eZt8p//AGpv/wBivtPjgfQUpm8mm/2fbwy/a7i0i+eH7PJGssUkb/8ALP8A296fer4n/aI+Fkfwr8fNHpfmf8I3qkP2zTJZQ3yJ/HHn+LY3yf8AfNfb1nJFp/lS2nlxeZ/y0s5F/wBZ/wBc680/bD0r+2PgfpWoSyxzXWj6yqJJJH5Uvlyo6SR/99olfD8R4WFbD8/8hhXPkTwz3rt3T/R64vw4nWu0/wCXevxOr8Z1UvhMnyKPIqTfRvrI35T2B56rPPVOa7qnNd18nCB8iX3kqtNPVB56rPPXVCIFma7qs93mqc0dQ7K6oxK9wuPPVKd+KbJxVaSTFbQgEgeSofMp1V3krcwJXfHNQyvTZOajdq0iacobaPNlo3UzdV8oyyl3WhDd4rJRPTmn7Md6znSgBpPcCmeb71Q8w+lH2s+n60eyA00oeq0N3U3mVBZDNHVCaCtaqs3SrhIsprdy5ENfVXw5+Il/8OvCvgvVNL0/yrnRLKV7PzLfzI59Ym+T7R5f8fkxOif77/8ATSvk6bmvcNl3o+n6fFF+6l+yxO9xH/rfM2fu/wD0P5dn+/X6fwmliJTpv+U3pR5z3H4iXuoT/C7w14Jimj1rxVqeoPDNJ5iySajrlxL/AKfcSSf9MYnS2V/77v8A8866r4rfG+XTv2mPCmoQ3Xk6T4DTUNM+0XGz9/cPZO8lvH/uIiIr14L4B8aS6B4o0rxLq0sc3/CN2rzW1xJG3ybInS0t440/6avv/wDH3qrf63/Z2geFdKu7SS71DT7m41ma8uNvmT3F3En/AH38/wDHX3EMq9+09v8A5IJUpnuV/wCMYri48axQ6V/avh+38Z6b4j1ny7xvnt72xRJPM/vpvf7/APB9+vPdY+K8Nh8B/Cuiafd6fd6r4D8YXFra/vD5j2cW94JP9z53TeleY6V481vR7DxLaebHNaeI7WKyuZPL/wCWdo6eX/7JWLYeVp/9oXf9nxzRagj2SfvP9Rcb0eOT/wBDrqhl8Kfv/wAkjP2R6J4+1XRPEHi/UPEHlR6fp/jDZq2n6hb7o/7K1RNnnx/9cnff9/8A2HrF8SeMdV8UeIItQ1X7P/bcaRI95HH/AMfWz5PM+T79cfbSfaLf7JL/AKn76Vbtrf8AtC38qaX99H8nlx7vNgk/6Z16tGEKHwHVSibk2vy2/wBrl/5+H2ahp/mL5Un/AE0re0rxPFp9vF5v2PVdP+55f/LVP/i65KGx8+3/AH0Ufmx/5/d1paJof2i4/wBb/q/uSf360nVPRpHoVh4ql+0f6JLH9k+55cn73Z/1zkrK/aX1+E/AeLT5vM8281O1SGPn93s3vJ/v/JWl4b0aW41CKWXy5fn2JJb7f3leUftV/EO11/xRp/g7TyRZ+HQ/22Tj95qD/wCs/wC+F+T/AL7r4riDEcmEmZ1/5DyLR7Suj8v/AEWsLTZK6aOPivxGqdVIyNlGyr3kUeRUcx2HaeTUElpmt/yIqhmkir5P258lEwXsarPpstbz3cVVZb+E1vCqXymDLYzd6h+yHNa02pRVSnvc1t7WZE5FN4OPWq0kHPWppr/NRPfRVvzFwnAhkTFVRBxTprrHvVV7vPNbwkRIsmPNRyRwmqkl16VA913rSMmYSL75pmw1R+1fWnfbBW3MSTYwc08vmmRyHOKY74rqhICd3qF+tQvJQklWBYTFTJOKp+cKejCjlLL6XGabN0qrvzyOtTxvisZwFESSA3HSvf8AR4PtHhfStQ83zfM0yJIZJP8AlnJ9z/xxEevA434r134SzxeINHu/D37z+1o386y/243/ANZ/3x/7PX2vCGKhhcx5J/bid1KfvlyfTtQ/4Re7tIZfKi1DZvj+X95Gn+r/APQKwZry71D7JLNL5ssaO73En8f3K9A1KD7Rbxf6yX5JXT/ppH9yOuVvNK/s+4u4pf8AW7HT93/wCv3HmPQlExLmCL7PpPlRf6X5z+dJ5n+s3pTJv+PeW0l/57f9+/uVq2cf2e4tPN8v/XbP3n/PTZTHg/4+4v3nlSbE8z5f9Z/+xWPMRylBLT7TcRS+V+9j+/H/ANNP/s0rYm06L9zdxfvbSRER/L/df9c6e+my/aJbv/VeYkTvb/8APSP/AJ6V23h7wr9o0eW0/wBbFcI7/u/4/wDpn/6A61n7UImPbabL+6ll8v7Jv/4+I/8AWwSf9NK6TR9Dl+0S/wDQQs/ne3t//Rkf/wARU2iaV/xL7TzftF39o/c3Ucf8EddtZ+H/AOyNP/tDUNQt9Ki0ff52sSSLHH9n/wA/991y1a/IdXNyGP4h8XaV8J/A+oeNbqL7XqFu6Q6ZZ/6qKe4f/V/8AT77J/sV8GX9/d6jqF3qF3N9q1C8neaa4k/5aSO++T/x+vWv2h/i3F8V/FEUOiRXEXhTSwyafHOn7yeR/v3En+//AA/7FeVw+GdQ1D/VRV+RZzmMMbV5IfBA4pz+2O0e7/0jpXeWD5t6ytH+GuoczfvK2H0ubRv3UvSvjas4TmdVKYUVW832o832qOU25jsbzWKx7nWK4O58aVmT+KpbjtXhUsrmeFyTO/fVhVaXUs1x8WtVZ/tKuz6hyC5TZm1KqUms+tZU9x0rNmHFd1LBwNPZG8+uZ96rPruK59/aoxHXTHBwL5Tp4NSzWhD/AKR2rkLZ+MVv2N0Kxq0IQL5IF25jrDvbv3rpHH2isHUrOilyG/soGauq5+lWYtSwc1iXMHpTF6ZzXoewhM5fZHVR3/OKebrNcxHdykZNTJqNc0sPyGE6R1CT03eDmsVdS/CrMN7ml78DGUTQd6Yk9Q+fTPMrTmA0knqZJKx/PqaG7okBrpwa2fD3iPUPC+sWmq6fN5N3bv8AJ/00/wCmf+49c8lxVlJOaz9+E+eARPpNLq08QafF4g0qX/RJEiRLeP8A5dJPv+X/AL9F5pX2jzfK/wBbsR/L/wCB14b4Y8Vah4X1D7VpV35M38ccn+qf/rpHXptt8fNPuLf/AImHhryrv/n40+4/+Lr9UwHFWHnDkxXuTPQhX/nNObw5Lb/8sv8Ab/8AH0q/baHF/wAtbT91I8Sf9s9lc0/7Tdpp/leV4P8Atcsez/j8vf8AY/2Ern9Y/ar8YagJf7P0/R9E8z5P9Ht2uZf+/j16NXijA/YmE656ilpqFvcafL/Z9x5UabHkkjb5/n/+IrrfAehy2+oRfupJYrff5Mkf8Ee//lnXxlqvirW/EGoS3eq6rqGozSPveS4uGrsPBnxJ8TeGPKi0nxDqGlf9M7eRq8SfGEP+fJj7WZ9Za9d6J8P7f+0PEGoR6faSPvht4/3tzP8A9c46+aPij8TdW+LGoGKWH+yfDNu++y0eP+D+DzJP78v/AKB/BWdqt9d+ILiXUNQu5NQ1CT79xcSNLLJWDcz18hmnEeIxvuQ9yAvaz+2db4Y8FWmof63y69O0rwPp+n/8sfNrw3TfEE2j3EX/ADxr3Lwf4ji1i3/1tfAYqrWgROPt4HQ2draf88o647xz4RiuLaWWGuuh/wBHuKuXn+kW9ePDEThW5zfLZzn7h86/8IzLR/wjMtes/wBlH0FH9lH0Fe99cPovZSPi5EqbZS4FOTpX2h4BLE+DmrKzZqpHzmpehrKcQLH2sUvniq2TRk1h7MC1TPJplPSmQI0NXLV+KrDtTx0rCRBuW19UN5PWYlCVycpvzFa4hzVV7XFaA6U08GuvmM5SKD2lVngrYcVA1bwqMDO8ub1p6SVdoo5gGJcGpklNRZNSoTWXKHKS9KlV80xOlNzisTCcS/DPVmGesynwmugzNhbrNXI7jNZUPBqwveueUQLsi8Vnz2npWhBz1psoBFcvwHQUNlPhn+z096h/5eK6DlOktruW4t6aOKSwH+i0lx94150/jN+YifpVnQvGsvhfUIovN/dSP/3xUC9q4/xIM3Nbwoxr+5Mzw/xn2Pomsw+INHh8n/W7Kv2b14Z8F9Tujp9rmd/zr3K2/wCPmvksVSVGfIiH+4xHuE/2Kj7FVmiubmPofrEz/9k=)"
      ]
    },
    {
      "cell_type": "markdown",
      "metadata": {
        "id": "exjOMaHBlNa5"
      },
      "source": [
        "Run dari sini untuk latihan"
      ]
    },
    {
      "cell_type": "code",
      "metadata": {
        "id": "DmEev4AgPOcH"
      },
      "source": [
        "from numpy import argmax\n",
        "from pandas import read_csv\n",
        "from sklearn.model_selection import train_test_split\n",
        "from sklearn.preprocessing import LabelEncoder\n",
        "from tensorflow.keras import Sequential\n",
        "from tensorflow.keras.layers import Dense\n"
      ],
      "execution_count": null,
      "outputs": []
    },
    {
      "cell_type": "code",
      "metadata": {
        "id": "EG0I4qU8PSo6",
        "colab": {
          "base_uri": "https://localhost:8080/",
          "height": 424
        },
        "outputId": "f398f8b3-8724-4475-8415-fb1ec50d992d"
      },
      "source": [
        "# load dataset\n",
        "path = 'https://raw.githubusercontent.com/febbyanindya/MSIB-OrbitFutureAcademy/Python/Data/Iris.csv'\n",
        "df = read_csv(path)\n",
        "\n",
        "df"
      ],
      "execution_count": null,
      "outputs": [
        {
          "output_type": "execute_result",
          "data": {
            "text/html": [
              "<div>\n",
              "<style scoped>\n",
              "    .dataframe tbody tr th:only-of-type {\n",
              "        vertical-align: middle;\n",
              "    }\n",
              "\n",
              "    .dataframe tbody tr th {\n",
              "        vertical-align: top;\n",
              "    }\n",
              "\n",
              "    .dataframe thead th {\n",
              "        text-align: right;\n",
              "    }\n",
              "</style>\n",
              "<table border=\"1\" class=\"dataframe\">\n",
              "  <thead>\n",
              "    <tr style=\"text-align: right;\">\n",
              "      <th></th>\n",
              "      <th>Id</th>\n",
              "      <th>SepalLengthCm</th>\n",
              "      <th>SepalWidthCm</th>\n",
              "      <th>PetalLengthCm</th>\n",
              "      <th>PetalWidthCm</th>\n",
              "      <th>Species</th>\n",
              "    </tr>\n",
              "  </thead>\n",
              "  <tbody>\n",
              "    <tr>\n",
              "      <th>0</th>\n",
              "      <td>1</td>\n",
              "      <td>5.1</td>\n",
              "      <td>3.5</td>\n",
              "      <td>1.4</td>\n",
              "      <td>0.2</td>\n",
              "      <td>Iris-setosa</td>\n",
              "    </tr>\n",
              "    <tr>\n",
              "      <th>1</th>\n",
              "      <td>2</td>\n",
              "      <td>4.9</td>\n",
              "      <td>3.0</td>\n",
              "      <td>1.4</td>\n",
              "      <td>0.2</td>\n",
              "      <td>Iris-setosa</td>\n",
              "    </tr>\n",
              "    <tr>\n",
              "      <th>2</th>\n",
              "      <td>3</td>\n",
              "      <td>4.7</td>\n",
              "      <td>3.2</td>\n",
              "      <td>1.3</td>\n",
              "      <td>0.2</td>\n",
              "      <td>Iris-setosa</td>\n",
              "    </tr>\n",
              "    <tr>\n",
              "      <th>3</th>\n",
              "      <td>4</td>\n",
              "      <td>4.6</td>\n",
              "      <td>3.1</td>\n",
              "      <td>1.5</td>\n",
              "      <td>0.2</td>\n",
              "      <td>Iris-setosa</td>\n",
              "    </tr>\n",
              "    <tr>\n",
              "      <th>4</th>\n",
              "      <td>5</td>\n",
              "      <td>5.0</td>\n",
              "      <td>3.6</td>\n",
              "      <td>1.4</td>\n",
              "      <td>0.2</td>\n",
              "      <td>Iris-setosa</td>\n",
              "    </tr>\n",
              "    <tr>\n",
              "      <th>...</th>\n",
              "      <td>...</td>\n",
              "      <td>...</td>\n",
              "      <td>...</td>\n",
              "      <td>...</td>\n",
              "      <td>...</td>\n",
              "      <td>...</td>\n",
              "    </tr>\n",
              "    <tr>\n",
              "      <th>145</th>\n",
              "      <td>146</td>\n",
              "      <td>6.7</td>\n",
              "      <td>3.0</td>\n",
              "      <td>5.2</td>\n",
              "      <td>2.3</td>\n",
              "      <td>Iris-virginica</td>\n",
              "    </tr>\n",
              "    <tr>\n",
              "      <th>146</th>\n",
              "      <td>147</td>\n",
              "      <td>6.3</td>\n",
              "      <td>2.5</td>\n",
              "      <td>5.0</td>\n",
              "      <td>1.9</td>\n",
              "      <td>Iris-virginica</td>\n",
              "    </tr>\n",
              "    <tr>\n",
              "      <th>147</th>\n",
              "      <td>148</td>\n",
              "      <td>6.5</td>\n",
              "      <td>3.0</td>\n",
              "      <td>5.2</td>\n",
              "      <td>2.0</td>\n",
              "      <td>Iris-virginica</td>\n",
              "    </tr>\n",
              "    <tr>\n",
              "      <th>148</th>\n",
              "      <td>149</td>\n",
              "      <td>6.2</td>\n",
              "      <td>3.4</td>\n",
              "      <td>5.4</td>\n",
              "      <td>2.3</td>\n",
              "      <td>Iris-virginica</td>\n",
              "    </tr>\n",
              "    <tr>\n",
              "      <th>149</th>\n",
              "      <td>150</td>\n",
              "      <td>5.9</td>\n",
              "      <td>3.0</td>\n",
              "      <td>5.1</td>\n",
              "      <td>1.8</td>\n",
              "      <td>Iris-virginica</td>\n",
              "    </tr>\n",
              "  </tbody>\n",
              "</table>\n",
              "<p>150 rows × 6 columns</p>\n",
              "</div>"
            ],
            "text/plain": [
              "      Id  SepalLengthCm  ...  PetalWidthCm         Species\n",
              "0      1            5.1  ...           0.2     Iris-setosa\n",
              "1      2            4.9  ...           0.2     Iris-setosa\n",
              "2      3            4.7  ...           0.2     Iris-setosa\n",
              "3      4            4.6  ...           0.2     Iris-setosa\n",
              "4      5            5.0  ...           0.2     Iris-setosa\n",
              "..   ...            ...  ...           ...             ...\n",
              "145  146            6.7  ...           2.3  Iris-virginica\n",
              "146  147            6.3  ...           1.9  Iris-virginica\n",
              "147  148            6.5  ...           2.0  Iris-virginica\n",
              "148  149            6.2  ...           2.3  Iris-virginica\n",
              "149  150            5.9  ...           1.8  Iris-virginica\n",
              "\n",
              "[150 rows x 6 columns]"
            ]
          },
          "metadata": {},
          "execution_count": 5
        }
      ]
    },
    {
      "cell_type": "code",
      "metadata": {
        "id": "qoh5IfcUthTx"
      },
      "source": [
        "df.drop('Id', axis=1, inplace=True)"
      ],
      "execution_count": null,
      "outputs": []
    },
    {
      "cell_type": "code",
      "metadata": {
        "id": "isuFigKlPVFB",
        "colab": {
          "base_uri": "https://localhost:8080/"
        },
        "outputId": "bb6678cd-92cc-4a79-ae78-f8ba2cb65805"
      },
      "source": [
        "# split data \n",
        "X, y = df.values[:, :-1], df.values[:, -1]\n",
        "# ubah tipe data menjadi float32\n",
        "X = X.astype('float32')\n",
        "\n",
        "# encode string menjadi integer\n",
        "y = LabelEncoder().fit_transform(y)\n",
        "\n",
        "# split dataset menjadi 80% data training dan 20% data testing\n",
        "X_train, X_test, y_train, y_test = train_test_split(X, y, test_size=0.2)\n",
        "print(X_train.shape, X_test.shape, y_train.shape, y_test.shape)\n",
        "\n",
        "# memperoleh banyaknya jumlah fitur pada input\n",
        "n_features = X_train.shape[1]\n"
      ],
      "execution_count": null,
      "outputs": [
        {
          "output_type": "stream",
          "name": "stdout",
          "text": [
            "(120, 4) (30, 4) (120,) (30,)\n"
          ]
        }
      ]
    },
    {
      "cell_type": "markdown",
      "metadata": {
        "id": "dtHknn_zuXwS"
      },
      "source": [
        "## Latihan 1 \n",
        "Membangun model"
      ]
    },
    {
      "cell_type": "markdown",
      "metadata": {
        "id": "sd_R96Gwu0O8"
      },
      "source": [
        "![perbaikan.PNG](data:image/png;base64,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)\n",
        "\n",
        "\n"
      ]
    },
    {
      "cell_type": "code",
      "metadata": {
        "id": "lOZaEhEynPwh"
      },
      "source": [
        "# TODO 1 : Ketik kode di atas pada cell ini\n",
        "# define the model\n",
        "model = Sequential()\n",
        "model.add(Dense(10, activation='relu', input_shape=(n_features,)))\n",
        "model.add(Dense(8, activation='relu', ))\n",
        "model.add(Dense(3, activation='sigmoid'))"
      ],
      "execution_count": null,
      "outputs": []
    },
    {
      "cell_type": "markdown",
      "metadata": {
        "id": "1Xsa3ZcVvhmv"
      },
      "source": [
        "![2.PNG](data:image/png;base64,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)"
      ]
    },
    {
      "cell_type": "code",
      "metadata": {
        "id": "H5mpxjE7nRWS"
      },
      "source": [
        "# TODO 2 : Ketik kode di atas pada cell ini\n",
        "# compile the model\n",
        "model.compile(optimizer='adam', loss='sparse_categorical_crossentropy',\n",
        "              metrics=['accuracy'])"
      ],
      "execution_count": null,
      "outputs": []
    },
    {
      "cell_type": "markdown",
      "metadata": {
        "id": "_hVOZ1B3vl9r"
      },
      "source": [
        "![3.PNG](data:image/png;base64,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)"
      ]
    },
    {
      "cell_type": "code",
      "metadata": {
        "id": "0gMDQcawnrs7",
        "colab": {
          "base_uri": "https://localhost:8080/"
        },
        "outputId": "c7edbfe0-9cfd-46a0-efbf-2576db798a87"
      },
      "source": [
        "# TODO 3 : Ketik kode di atas pada cell ini\n",
        "\n",
        "# fit the model\n",
        "model.fit(X_train, y_train, epochs=150, batch_size=32, verbose=0)"
      ],
      "execution_count": null,
      "outputs": [
        {
          "output_type": "execute_result",
          "data": {
            "text/plain": [
              "<keras.callbacks.History at 0x7f233e82d750>"
            ]
          },
          "metadata": {},
          "execution_count": 10
        }
      ]
    },
    {
      "cell_type": "markdown",
      "metadata": {
        "id": "30x9pKBFvod6"
      },
      "source": [
        "![4.PNG](data:image/png;base64,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)"
      ]
    },
    {
      "cell_type": "code",
      "metadata": {
        "id": "A-kYQcaInuGM",
        "colab": {
          "base_uri": "https://localhost:8080/"
        },
        "outputId": "0db08e85-5d7e-4f99-e4ff-76d40206291e"
      },
      "source": [
        "# TODO 4 : Ketik kode di atas pada cell ini\n",
        "\n",
        "# evaluate the model\n",
        "loss, acc = model.evaluate(X_test, y_test, verbose=0)\n",
        "print('Test Accuracy: %.3f' % acc)"
      ],
      "execution_count": null,
      "outputs": [
        {
          "output_type": "stream",
          "name": "stdout",
          "text": [
            "Test Accuracy: 0.967\n"
          ]
        }
      ]
    },
    {
      "cell_type": "markdown",
      "metadata": {
        "id": "_jeNZZNYvqwX"
      },
      "source": [
        "![5.PNG](data:image/png;base64,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)"
      ]
    },
    {
      "cell_type": "code",
      "metadata": {
        "id": "r1HW8eCknul5",
        "colab": {
          "base_uri": "https://localhost:8080/"
        },
        "outputId": "456505cf-f286-42d9-d2ed-fcbce0830c30"
      },
      "source": [
        "# TODO 5 : Ketik kode di atas pada cell ini\n",
        "# make a prediction\n",
        "row = [5.1,3.5,1.4,0.2]\n",
        "yhat = model.predict([row])\n",
        "print('Predicted: %s (class=%d)'%(yhat, argmax(yhat)))"
      ],
      "execution_count": null,
      "outputs": [
        {
          "output_type": "stream",
          "name": "stdout",
          "text": [
            "Predicted: [[0.99043155 0.2914773  0.12798494]] (class=0)\n"
          ]
        }
      ]
    },
    {
      "cell_type": "markdown",
      "metadata": {
        "id": "3OhlbDqewc95"
      },
      "source": [
        "# Visualize Deep Learning Model"
      ]
    },
    {
      "cell_type": "markdown",
      "metadata": {
        "id": "7NkMeZjewmOR"
      },
      "source": [
        "### Model Text Description"
      ]
    },
    {
      "cell_type": "code",
      "metadata": {
        "id": "37stvA1Vwogp"
      },
      "source": [
        "# Contoh \n",
        "from tensorflow.keras.layers import Dense\n",
        "# define model1\n",
        "model1 = Sequential()\n",
        "model1.add(Dense(100, input_shape=(10,)))\n",
        "model1.add(Dense(80))\n",
        "model1.add(Dense(30))\n",
        "model1.add(Dense(10))\n",
        "model1.add(Dense(5))\n",
        "model1.add(Dense(1))"
      ],
      "execution_count": null,
      "outputs": []
    },
    {
      "cell_type": "code",
      "metadata": {
        "id": "dSCjgS4d0Izk",
        "colab": {
          "base_uri": "https://localhost:8080/"
        },
        "outputId": "102ccb4d-8913-4a4b-871f-c936e34f475d"
      },
      "source": [
        "# Model text description model 1\n",
        "model1.summary()"
      ],
      "execution_count": null,
      "outputs": [
        {
          "output_type": "stream",
          "name": "stdout",
          "text": [
            "Model: \"sequential_3\"\n",
            "_________________________________________________________________\n",
            " Layer (type)                Output Shape              Param #   \n",
            "=================================================================\n",
            " dense_13 (Dense)            (None, 100)               1100      \n",
            "                                                                 \n",
            " dense_14 (Dense)            (None, 80)                8080      \n",
            "                                                                 \n",
            " dense_15 (Dense)            (None, 30)                2430      \n",
            "                                                                 \n",
            " dense_16 (Dense)            (None, 10)                310       \n",
            "                                                                 \n",
            " dense_17 (Dense)            (None, 5)                 55        \n",
            "                                                                 \n",
            " dense_18 (Dense)            (None, 1)                 6         \n",
            "                                                                 \n",
            "=================================================================\n",
            "Total params: 11,981\n",
            "Trainable params: 11,981\n",
            "Non-trainable params: 0\n",
            "_________________________________________________________________\n"
          ]
        }
      ]
    },
    {
      "cell_type": "markdown",
      "metadata": {
        "id": "vXuvOtGwxfcU"
      },
      "source": [
        "### Model Architecture Plot"
      ]
    },
    {
      "cell_type": "code",
      "metadata": {
        "id": "8ftNrut00REr",
        "colab": {
          "base_uri": "https://localhost:8080/",
          "height": 754
        },
        "outputId": "545f7b0e-16c6-4f1f-a8c2-ac1c06c8071c"
      },
      "source": [
        "# Contoh model architecture plot\n",
        "from tensorflow.keras.utils import plot_model\n",
        "# summarize model 1\n",
        "plot_model(model1, 'model_1_summary.png', show_shapes=True)"
      ],
      "execution_count": null,
      "outputs": [
        {
          "output_type": "execute_result",
          "data": {
            "image/png": "[encoded data removed]",
            "text/plain": [
              "<IPython.core.display.Image object>"
            ]
          },
          "metadata": {},
          "execution_count": 15
        }
      ]
    },
    {
      "cell_type": "markdown",
      "metadata": {
        "id": "jHCURZsDH1Me"
      },
      "source": [
        "### Plotting Learning curves"
      ]
    },
    {
      "cell_type": "code",
      "metadata": {
        "id": "MQlHk9FKyKee"
      },
      "source": [
        "# Contoh plotting learning curves\n",
        "# define model 2 \n",
        "model2 = Sequential()\n",
        "model2.add(Dense(10, activation='relu', input_shape=(n_features,)))\n",
        "model2.add(Dense(8, activation='relu', ))\n",
        "model2.add(Dense(3, activation='softmax'))\n",
        "\n",
        "# compile model 2\n",
        "model2.compile(optimizer='adam', loss='sparse_categorical_crossentropy', metrics=['accuracy'])\n",
        "\n",
        "# fit model 2\n",
        "history = model2.fit(X_train, y_train, epochs=150, batch_size=32, verbose=0,validation_split=0.3)"
      ],
      "execution_count": null,
      "outputs": []
    },
    {
      "cell_type": "code",
      "metadata": {
        "id": "cqCy-TTWyhpQ",
        "colab": {
          "base_uri": "https://localhost:8080/",
          "height": 294
        },
        "outputId": "ad36e07a-49a6-41f3-e2a3-8974c07abd6b"
      },
      "source": [
        "from matplotlib import pyplot\n",
        "# plot learning curves\n",
        "pyplot.title('Learning Curves')\n",
        "pyplot.xlabel('Epoch')\n",
        "pyplot.ylabel('Loss function')\n",
        "pyplot.plot(history.history['loss'], label='train')\n",
        "pyplot.plot(history.history['val_loss'], label='val')\n",
        "pyplot.legend()\n",
        "pyplot.show()"
      ],
      "execution_count": null,
      "outputs": [
        {
          "output_type": "display_data",
          "data": {
            "image/png": "[encoded data removed]",
            "text/plain": [
              "<Figure size 432x288 with 1 Axes>"
            ]
          },
          "metadata": {
            "needs_background": "light"
          }
        }
      ]
    },
    {
      "cell_type": "markdown",
      "metadata": {
        "id": "De6g0TPey5Ek"
      },
      "source": [
        "### Save and Load Model"
      ]
    },
    {
      "cell_type": "code",
      "metadata": {
        "id": "US2PFoguzCwO"
      },
      "source": [
        "# save model 2 ke dalam file dengan nama \"model_2.h5\"\n",
        "model2.save('model_2.h5')"
      ],
      "execution_count": null,
      "outputs": []
    },
    {
      "cell_type": "markdown",
      "metadata": {
        "id": "jKW_wuvqzLSG"
      },
      "source": [
        "Load Model"
      ]
    },
    {
      "cell_type": "code",
      "metadata": {
        "id": "ED5neCBdzNAW",
        "colab": {
          "base_uri": "https://localhost:8080/"
        },
        "outputId": "eb66a486-8385-4337-bb20-484bcb550d71"
      },
      "source": [
        "from tensorflow.keras.models import load_model\n",
        "# load model 2 untuk digunakan lagi dari file\n",
        "model3 = load_model('model_2.h5')\n",
        "\n",
        "loss, acc = model3.evaluate(X_test, y_test, verbose=0)\n",
        "print('Test Accuracy_model_3: %.3f' % acc)\n",
        "\n",
        "# Buat prediksi\n",
        "row = [0.1,0.5,7.4,7.2]\n",
        "yhat = model3.predict([row])\n",
        "print('Predicted: %s (class=%d)' % (yhat, argmax(yhat)))"
      ],
      "execution_count": null,
      "outputs": [
        {
          "output_type": "stream",
          "name": "stdout",
          "text": [
            "Test Accuracy_model_3: 1.000\n",
            "Predicted: [[0.00371898 0.2853795  0.7109015 ]] (class=2)\n"
          ]
        }
      ]
    },
    {
      "cell_type": "markdown",
      "metadata": {
        "id": "zKURV_KFqMob"
      },
      "source": [
        "# Latihan 2"
      ]
    },
    {
      "cell_type": "markdown",
      "metadata": {
        "id": "mBcluqtnqPv8"
      },
      "source": [
        "1. Tampilkan deskripsi text dari model pada latihan 1\n",
        "2. Plot arsitektur dari model pada latihan 1\n",
        "3. Save model pada latihan 1 dengan nama \"nama_kelas.h5\""
      ]
    },
    {
      "cell_type": "markdown",
      "metadata": {
        "id": "04UG9lzizjaI"
      },
      "source": [
        "# Get Better Model Performance"
      ]
    },
    {
      "cell_type": "markdown",
      "metadata": {
        "id": "5_YPNvZwzrQn"
      },
      "source": [
        "### Menggunakan Dropout untuk mengurangi overfitting\n"
      ]
    },
    {
      "cell_type": "code",
      "metadata": {
        "id": "yXbGa62Lzt_q"
      },
      "source": [
        "from tensorflow.keras.layers import Dropout\n",
        "\n",
        "model = Sequential()\n",
        "model.add(Dense(100, input_shape=(10,)))\n",
        "model.add(Dropout(0.5))\n",
        "model.add(Dense(80))\n",
        "model.add(Dropout(0.5))\n",
        "model.add(Dense(30))\n",
        "model.add(Dropout(0.5))\n",
        "model.add(Dense(10))\n",
        "model.add(Dropout(0.5))\n",
        "model.add(Dense(5))\n",
        "model.add(Dense(1))"
      ],
      "execution_count": null,
      "outputs": []
    },
    {
      "cell_type": "markdown",
      "metadata": {
        "id": "nqlNDEcWz4yH"
      },
      "source": [
        "### Mempercepat Training dengan Batch Normalization"
      ]
    },
    {
      "cell_type": "code",
      "metadata": {
        "id": "rbDqWFrbz545"
      },
      "source": [
        "from tensorflow.keras.layers import BatchNormalization\n",
        "\n",
        "model = Sequential()\n",
        "model.add(Dense(100, input_shape=(10,)))\n",
        "model.add(Dense(80))\n",
        "model.add(BatchNormalization())\n",
        "model.add(Dense(30))\n",
        "model.add(BatchNormalization())\n",
        "model.add(Dense(10))\n",
        "model.add(BatchNormalization())\n",
        "model.add(Dense(5))\n",
        "model.add(Dense(1))"
      ],
      "execution_count": null,
      "outputs": []
    },
    {
      "cell_type": "markdown",
      "metadata": {
        "id": "u7-rZWpp0N5Z"
      },
      "source": [
        "# Activity "
      ]
    },
    {
      "cell_type": "markdown",
      "metadata": {
        "id": "uYTJ3xPT0cMC"
      },
      "source": [
        "### Fashion-MNIST adalah kumpulan dataset terdiri dari 28x28 gambar grayscale dari 70.000 produk fashion dari 10 kategori, dengan 7.000 gambar per kategori.Training set memiliki 60.000 gambar dan testing set memiliki 10.000 gambar. \n",
        "\n",
        "\n",
        "<table>\n",
        "  <tr><td>\n",
        "    <img src=\"https://tensorflow.org/images/fashion-mnist-sprite.png\"\n",
        "         alt=\"Fashion MNIST sprite\"  width=\"600\">\n",
        "  </td></tr>\n",
        "  <tr><td align=\"center\">\n",
        "    <b>Figure</b> <a href=\"https://github.com/zalandoresearch/fashion-mnist\">Fashion-MNIST samples</a> (by Zalando, MIT License).<br/>&nbsp;\n",
        "  </td></tr>\n",
        "</table>\n",
        "\n",
        "### Buat model neural network untuk menyelesaikan permasalahan klasifikasi pada dataset Fashion-MNIST\n",
        "\n",
        "### Silahkan buka link berikut, kemudian save as copy \n",
        "\n",
        "[![Open In Colab](https://colab.research.google.com/assets/colab-badge.svg)](https://colab.research.google.com/drive/1LAkpMgD0IRfgUQP9CcGpkgMDt-QXY_uK?usp=sharing)\n"
      ]
    }
  ]
}