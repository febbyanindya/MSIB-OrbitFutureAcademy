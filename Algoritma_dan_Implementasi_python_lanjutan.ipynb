{
  "nbformat": 4,
  "nbformat_minor": 0,
  "metadata": {
    "colab": {
      "name": "Algoritma dan Implementasi python lanjutan.ipynb",
      "provenance": [],
      "collapsed_sections": [],
      "authorship_tag": "ABX9TyPH24EIwz93IHDhwp0ImjTJ",
      "include_colab_link": true
    },
    "kernelspec": {
      "name": "python3",
      "display_name": "Python 3"
    },
    "language_info": {
      "name": "python"
    }
  },
  "cells": [
    {
      "cell_type": "markdown",
      "metadata": {
        "id": "view-in-github",
        "colab_type": "text"
      },
      "source": [
        "<a href=\"https://colab.research.google.com/github/febbyanindya/MSIB-OrbitFutureAcademy/blob/Python/Algoritma_dan_Implementasi_python_lanjutan.ipynb\" target=\"_parent\"><img src=\"https://colab.research.google.com/assets/colab-badge.svg\" alt=\"Open In Colab\"/></a>"
      ]
    },
    {
      "cell_type": "markdown",
      "metadata": {
        "id": "nza3uox8_7bS"
      },
      "source": [
        "# Algoritma, Flowchart, dan Pengkondisian Lanjutan"
      ]
    },
    {
      "cell_type": "markdown",
      "metadata": {
        "id": "N62cNBhlASvQ"
      },
      "source": [
        "Menghitung luas dan keliling persegi"
      ]
    },
    {
      "cell_type": "code",
      "metadata": {
        "colab": {
          "base_uri": "https://localhost:8080/"
        },
        "id": "P29jLfs9AGv3",
        "outputId": "8315d07a-c845-44fe-bc46-aca4f72e1625"
      },
      "source": [
        "print(\"MENGHITUNG LUAS & KELILING PERSEGI\")\n",
        "\n",
        "s = float(input(\"\\nMasukkan Panjang sisi dalam cm : \"))\n",
        "\n",
        "luas = s**2\n",
        "keliling = 4*s\n",
        "\n",
        "print(\"\\nLuas Persegi \\t\\t:\",luas,\"cm^2\")\n",
        "print(\"\\nKeliling Persegi \\t:\",keliling,\"cm\")"
      ],
      "execution_count": null,
      "outputs": [
        {
          "output_type": "stream",
          "name": "stdout",
          "text": [
            "MENGHITUNG LUAS & KELILING PERSEGI\n",
            "\n",
            "Masukkan Panjang sisi dalam cm : 4\n",
            "\n",
            "Luas Persegi \t\t: 16.0 cm^2\n",
            "\n",
            "Keliling Persegi \t: 16.0 cm\n"
          ]
        }
      ]
    },
    {
      "cell_type": "markdown",
      "metadata": {
        "id": "zlgmvO8zBL6d"
      },
      "source": [
        "Menghitung Volume dan Luas Permukaan Bola"
      ]
    },
    {
      "cell_type": "code",
      "metadata": {
        "colab": {
          "base_uri": "https://localhost:8080/"
        },
        "id": "iw1OPn6z_oKG",
        "outputId": "50fb50f3-bec5-486d-d68d-bec4a9199e61"
      },
      "source": [
        "print(\"MENGHITUNG VOLUME DAN LUAS PERMUKAAN BOLA\")\n",
        "\n",
        "jari = float(input(\"\\nMasukkan jari-jari dalam cm : \"))\n",
        "\n",
        "phi = 3.14\n",
        "volume = 4/3*phi*jari**3\n",
        "lp = 4*phi*jari**2\n",
        "\n",
        "print(\"\\nVolume Bola adalah\",volume,\"cm^3\")\n",
        "print(\"\\nLuas Permukaan Bola adalah\",lp,\"cm^2\")"
      ],
      "execution_count": null,
      "outputs": [
        {
          "output_type": "stream",
          "name": "stdout",
          "text": [
            "MENGHITUNG VOLUME DAN LUAS PERMUKAAN BOLA\n",
            "\n",
            "Masukkan jari-jari dalam cm : 4\n",
            "\n",
            "Volume Bola adalah 267.94666666666666 cm^3\n",
            "\n",
            "Luas Permukaan Bola adalah 200.96 cm^2\n"
          ]
        }
      ]
    },
    {
      "cell_type": "markdown",
      "metadata": {
        "id": "WshBkHDyCTug"
      },
      "source": [
        "Percabangan pada konversi nilai ke heksa, oktal, dan biner "
      ]
    },
    {
      "cell_type": "code",
      "metadata": {
        "colab": {
          "base_uri": "https://localhost:8080/"
        },
        "id": "vJed_tCCCZ_P",
        "outputId": "cf6ddb48-b5c2-43f2-d729-893f5cfb967c"
      },
      "source": [
        "#Program konversi bilangan sederhana\n",
        "#untuk membantu memahami terkait bilangan biner, oktal, dan heksadesimal\n",
        "#program konversi bilangan desimal berbasis 10\n",
        "\n",
        "number = int(input(\"Masukkan bilangan berbasis 10 (Desimal)\\n\"))\n",
        "\n",
        "#Pilih konversi\n",
        "print(\"a. Desimal menjadi Heksadesimal\")\n",
        "print(\"b. Desimal menjadi Oktal\")\n",
        "print(\"c. Desimal menjadi Biner\")\n",
        "\n",
        "#Memasukkan input\n",
        "print(\"Pilih konversi : \")\n",
        "choice =c input()\n",
        "\n",
        "#Variabel pemilihan kondisi\n",
        "\n",
        "if choice is 'a' :\n",
        "  print(\"Heksadesimal dari bilangan \" + str(number) + \n",
        "        \" adalah \" + hex(number).lstrip(\"0x\").rstrip(\"L\"))\n",
        "  \n",
        "if choice is 'b' :\n",
        "  print(\"Oktal dari bilangan \" + str(number) + \n",
        "        \" adalah \" + oct(number).lstrip(\"0o\").rstrip(\"L\"))\n",
        "\n",
        "if choice is 'c' :\n",
        "  print(\"Biner dari bilangan \" + str(number) + \n",
        "        \" adalah \" + bin(number).lstrip(\"0b\").rstrip(\"L\"))    "
      ],
      "execution_count": null,
      "outputs": [
        {
          "output_type": "stream",
          "name": "stdout",
          "text": [
            "Masukkan bilangan berbasis 10 (Desimal)\n",
            "6\n",
            "a. Desimal menjadi Heksadesimal\n",
            "b. Desimal menjadi Oktal\n",
            "c. Desimal menjadi Biner\n",
            "Pilih konversi : \n",
            "c\n",
            "Biner dari bilangan 6 adalah 110\n"
          ]
        }
      ]
    },
    {
      "cell_type": "markdown",
      "metadata": {
        "id": "oqNa1-02HKwl"
      },
      "source": [
        "Percabangan Model 1"
      ]
    },
    {
      "cell_type": "code",
      "metadata": {
        "colab": {
          "base_uri": "https://localhost:8080/"
        },
        "id": "crbY7GCLHhav",
        "outputId": "e325c1ca-e34d-4db0-b39d-dd5de1eba0a1"
      },
      "source": [
        "print(\"SELAMAT DATANG DI PROGRAM\\nMENGHITUNG VOLUME DAN LUAS PERMUKAAN BOLA\")\n",
        "\n",
        "jari_jari = float(input(\"\\nMasukan jari-jari dalam cm: \"))\n",
        "print(\"\\nPilih 1 untuk menghitung volume\\nPilih 2 untuk menghitung luas permukaan\")\n",
        "pilihan = input(\"\\nInput pilihan: \")\n",
        "phi = 3.14\n",
        "\n",
        "if pilihan == \"1\":\n",
        "  volume = 4/3 * phi * jari_jari**3\n",
        "  print(\"\\nVolume Bola adalah\",volume, \"cm^3\")\n",
        "elif pilihan == \"2\":\n",
        "  luas_permukaan = 4 * phi * jari_jari**2\n",
        "  print(\"Luas Permukaan Bola adalah\",luas_permukaan, \"cm^2\")\n",
        "else:\n",
        "  print(\"\\nMaaf, pilihan tidak tersedia\")\n",
        "\n",
        "print(\"\\nTerimakasih telah menggunakan program ini.\")"
      ],
      "execution_count": null,
      "outputs": [
        {
          "output_type": "stream",
          "name": "stdout",
          "text": [
            "SELAMAT DATANG DI PROGRAM\n",
            "MENGHITUNG VOLUME DAN LUAS PERMUKAAN BOLA\n",
            "\n",
            "Masukan jari-jari dalam cm: 4\n",
            "\n",
            "Pilih 1 untuk menghitung volume\n",
            "Pilih 2 untuk menghitung luas permukaan\n",
            "\n",
            "Input pilihan: 1\n",
            "\n",
            "Volume Bola adalah 267.94666666666666 cm^3\n",
            "\n",
            "Terimakasih telah menggunakan program ini.\n"
          ]
        }
      ]
    },
    {
      "cell_type": "markdown",
      "metadata": {
        "id": "apEE-l96HNTn"
      },
      "source": [
        "Percabangan Model 2"
      ]
    },
    {
      "cell_type": "code",
      "metadata": {
        "colab": {
          "base_uri": "https://localhost:8080/"
        },
        "id": "QhkeLO5BMZT_",
        "outputId": "b17cfae5-5d6d-4963-ffd5-5dfea2fcb020"
      },
      "source": [
        "print(\"SELAMAT DATANG DI PROGRAM\\nMENGHITUNG VOLUME & LUAS PERMUKAAN BOLA\")\n",
        "\n",
        "def hitung(jari_jari, pilihan):\n",
        "  phi = 3.14\n",
        "  if pilihan == \"1\":\n",
        "    volume = 4/3 * phi * jari_jari**3\n",
        "    print(\"\\nVolume Bola adalah\",volume, \"cm^3\")\n",
        "  elif pilihan == \"2\":\n",
        "    luas_permukaan = 4 * phi * jari_jari**2\n",
        "    print(\"Luas Permukaan Bola adalah\",luas_permukaan, \"cm^2\")\n",
        "  else:\n",
        "    print(\"\\nMaaf, pilihan tidak tersedia\")\n",
        "\n",
        "jari_jari = float(input(\"\\nMasukan jari-jari dalam cm: \"))\n",
        "print(\"\\nPilih 1 untuk menghitung volume\\nPilih 2 untuk menghitung luas permukaan\")\n",
        "pilihan = input(\"\\nInput pilihan: \")\n",
        "\n",
        "hitung(jari_jari, pilihan)\n",
        "\n",
        "print(\"\\nTerimakasih telah menggunakan program ini.\")"
      ],
      "execution_count": null,
      "outputs": [
        {
          "output_type": "stream",
          "name": "stdout",
          "text": [
            "SELAMAT DATANG DI PROGRAM\n",
            "MENGHITUNG VOLUME & LUAS PERMUKAAN BOLA\n",
            "\n",
            "Masukan jari-jari dalam cm: 1\n",
            "\n",
            "Pilih 1 untuk menghitung volume\n",
            "Pilih 2 untuk menghitung luas permukaan\n",
            "\n",
            "Input pilihan: 1\n",
            "\n",
            "Volume Bola adalah 4.1866666666666665 cm^3\n",
            "\n",
            "Terimakasih telah menggunakan program ini.\n"
          ]
        }
      ]
    },
    {
      "cell_type": "markdown",
      "metadata": {
        "id": "_RB9r6sIHO_z"
      },
      "source": [
        "Perulangan Model 1"
      ]
    },
    {
      "cell_type": "code",
      "metadata": {
        "colab": {
          "base_uri": "https://localhost:8080/"
        },
        "id": "mYNSu3EoTjUn",
        "outputId": "0fb8d99d-b625-4d6d-d96a-3dd59e661541"
      },
      "source": [
        "print(\"SELAMAT DATANG DI PROGRAM\\nMENGHITUNG VOLUME & LUAS PERMUKAAN BOLA\")\n",
        "\n",
        "def hitung():\n",
        "  jari_jari = float(input(\"\\nMasukan jari-jari dalam cm: \"))\n",
        "  print(\"\\nPilih 1 untuk menghitung volume\\nPilih 2 untuk menghitung luas permukaan\")\n",
        "  pilihan_kalkulasi = input(\"\\nInput pilihan: \")\n",
        "  phi = 3.14\n",
        "\n",
        "  if pilihan_kalkulasi == \"1\":\n",
        "    volume = 4/3 * phi * jari_jari**3\n",
        "    print(\"\\nVolume Bola adalah\",volume, \"cm^3\")\n",
        "  elif pilihan_kalkulasi == \"2\":\n",
        "    luas_permukaan = 4 * phi * jari_jari**2\n",
        "    print(\"Luas Permukaan Bola adalah\",luas_permukaan, \"cm^2\")\n",
        "  else:\n",
        "    print(\"\\nMaaf, pilihan tidak tersedia\")\n",
        "\n",
        "\n",
        "if __name__ == '__main__':\n",
        "  while True:\n",
        "    print(\"\\nPilih 1 untuk melanjutkan\\nPilih 2 untuk keluar\")\n",
        "    pilihan_IO = input(\"\\nInput pilihan: \")\n",
        "\n",
        "    if pilihan_IO == \"1\":\n",
        "      hitung()\n",
        "    elif pilihan_IO == \"2\":\n",
        "      break\n",
        "    else:\n",
        "      print(\"Pilihan tidak ada\")\n",
        "  \n",
        "\n",
        "print(\"\\nTerimakasih telah menggunakan program ini.\")"
      ],
      "execution_count": null,
      "outputs": [
        {
          "output_type": "stream",
          "name": "stdout",
          "text": [
            "SELAMAT DATANG DI PROGRAM\n",
            "MENGHITUNG VOLUME & LUAS PERMUKAAN BOLA\n",
            "\n",
            "Pilih 1 untuk melanjutkan\n",
            "Pilih 2 untuk keluar\n",
            "\n",
            "Input pilihan: 1\n",
            "\n",
            "Masukan jari-jari dalam cm: 2\n",
            "\n",
            "Pilih 1 untuk menghitung volume\n",
            "Pilih 2 untuk menghitung luas permukaan\n",
            "\n",
            "Input pilihan: 1\n",
            "\n",
            "Volume Bola adalah 33.49333333333333 cm^3\n",
            "\n",
            "Pilih 1 untuk melanjutkan\n",
            "Pilih 2 untuk keluar\n",
            "\n",
            "Input pilihan: 2\n",
            "\n",
            "Terimakasih telah menggunakan program ini.\n"
          ]
        }
      ]
    },
    {
      "cell_type": "markdown",
      "metadata": {
        "id": "6IWKm-_6HQsC"
      },
      "source": [
        "Perulangan Model 2"
      ]
    },
    {
      "cell_type": "code",
      "metadata": {
        "colab": {
          "base_uri": "https://localhost:8080/"
        },
        "id": "x6pFoKYWWnF6",
        "outputId": "bd9b4e62-1bab-4bb1-ca9e-7972625abcaf"
      },
      "source": [
        "print(\"SELAMAT DATANG DI PROGRAM\\nMENGHITUNG VOLUME & LUAS PERMUKAAN BOLA\")\n",
        "\n",
        "def hitung(jari_jari, pilihan_kalkulasi):\n",
        "  phi = 3.14\n",
        "\n",
        "  if pilihan_kalkulasi == \"1\":\n",
        "    volume = 4/3 * phi * jari_jari**3\n",
        "    print(\"\\nVolume Bola adalah: \",volume, \"cm^3\")\n",
        "  elif pilihan_kalkulasi == \"2\":\n",
        "    luas_permukaan = 4 * phi * jari_jari**2\n",
        "    print(\"Luas Permukaan Bola adalah: \",luas_permukaan, \"cm^2\")\n",
        "  else:\n",
        "    print(\"\\nMaaf, pilihan tidak tersedia\")\n",
        "\n",
        "\n",
        "if __name__ == '__main__':\n",
        "  while True:\n",
        "    print(\"\\nPilih 1 untuk melanjutkan\\nPilih 2 untuk keluar\")\n",
        "    pilihan_IO = input(\"\\nInput pilihan: \")\n",
        "\n",
        "    if pilihan_IO == \"1\":\n",
        "      jari_jari = float(input(\"\\nMasukan jari-jari dalam cm: \"))\n",
        "      print(\"\\nPilih 1 untuk menghitung volume\\nPilih 2 untuk menghitung luas permukaan\")\n",
        "      pilihan_kalkulasi = input(\"\\nInput pilihan: \")\n",
        "\n",
        "      hitung(jari_jari, pilihan_kalkulasi)\n",
        "\n",
        "    elif pilihan_IO == \"2\":\n",
        "      break\n",
        "    else:\n",
        "      print(\"Pilihan tidak ada\")\n",
        "  \n",
        "\n",
        "print(\"\\nTerimakasih telah menggunakan program ini.\")"
      ],
      "execution_count": null,
      "outputs": [
        {
          "output_type": "stream",
          "name": "stdout",
          "text": [
            "SELAMAT DATANG DI PROGRAM\n",
            "MENGHITUNG VOLUME & LUAS PERMUKAAN BOLA\n",
            "\n",
            "Pilih 1 untuk melanjutkan\n",
            "Pilih 2 untuk keluar\n",
            "\n",
            "Input pilihan: 2\n",
            "\n",
            "Terimakasih telah menggunakan program ini.\n"
          ]
        }
      ]
    },
    {
      "cell_type": "markdown",
      "metadata": {
        "id": "Jo4hlogIHVOp"
      },
      "source": [
        "Membuat Program Sederhana untuk Menyelesaikan Kasus Fisika"
      ]
    },
    {
      "cell_type": "code",
      "metadata": {
        "colab": {
          "base_uri": "https://localhost:8080/"
        },
        "id": "q_MQY12QW1Dd",
        "outputId": "c203f2ae-9ef4-4b6b-e80d-61dabc6e0b3c"
      },
      "source": [
        "kecepatan_awal = 5 #m/s\n",
        "waktu = 2 #s\n",
        "percepatan = 10 #m/s^2\n",
        "s = kecepatan_awal*waktu + 0.5*percepatan*waktu**2\n",
        "print(\"Jarak yang ditempuh :\",s,'m')"
      ],
      "execution_count": null,
      "outputs": [
        {
          "output_type": "stream",
          "name": "stdout",
          "text": [
            "Jarak yang ditempuh : 30.0 m\n"
          ]
        }
      ]
    },
    {
      "cell_type": "code",
      "metadata": {
        "colab": {
          "base_uri": "https://localhost:8080/"
        },
        "id": "TAl6Bq7dXPu9",
        "outputId": "0106b7e8-705e-4a7d-bcf3-8a9d0f62a2ab"
      },
      "source": [
        "kecepatan_awal = int(input(\"Masukkan kecepatan awal (dalam m/s) :\"))\n",
        "waktu = int(input(\"Masukkan waktu tempuh (dalam detik) :\"))\n",
        "percepatan = int(input(\"Masukkan percepatannya (dalam m/s^2) :\"))\n",
        "s = kecepatan_awal*waktu + 0.5*percepatan*waktu**2\n",
        "print(\"Jarak yang ditempuh :\",s,'m')"
      ],
      "execution_count": null,
      "outputs": [
        {
          "output_type": "stream",
          "name": "stdout",
          "text": [
            "Masukkan kecepatan awal (dalam m/s) :5\n",
            "Masukkan waktu tempuh (dalam detik) :2\n",
            "Masukkan percepatannya (dalam m/s^2) :10\n",
            "Jarak yang ditempuh : 30.0 m\n"
          ]
        }
      ]
    },
    {
      "cell_type": "code",
      "metadata": {
        "id": "kj7Q-Xk5X_a8"
      },
      "source": [
        "#Gerak Lurus Berubah Beraturan\n",
        "def Jarak(kecepatan_awal, waktu_akhir, percepatan):\n",
        "    # Perhitungan jarak yang ditempuh setiap detiknya\n",
        "    f = open(\"data.txt\",'w')\n",
        "    waktu = 0\n",
        "    while waktu <= waktu_akhir:\n",
        "        s = kecepatan_awal * waktu + 0.5 * percepatan*waktu**2\n",
        "        print(waktu,'{:0.2f}'.format(s))\n",
        "        f.write('{:0.0f} {:0.2f}\\n'.format(waktu, s))\n",
        "        waktu +=1\n",
        "    f.close()"
      ],
      "execution_count": null,
      "outputs": []
    },
    {
      "cell_type": "code",
      "metadata": {
        "colab": {
          "base_uri": "https://localhost:8080/"
        },
        "id": "IrSLJiHzYi3s",
        "outputId": "23708f55-79e7-49cc-8c4b-2064a8059929"
      },
      "source": [
        "print(Jarak(1,20,10))"
      ],
      "execution_count": null,
      "outputs": [
        {
          "output_type": "stream",
          "name": "stdout",
          "text": [
            "0 0.00\n",
            "1 6.00\n",
            "2 22.00\n",
            "3 48.00\n",
            "4 84.00\n",
            "5 130.00\n",
            "6 186.00\n",
            "7 252.00\n",
            "8 328.00\n",
            "9 414.00\n",
            "10 510.00\n",
            "11 616.00\n",
            "12 732.00\n",
            "13 858.00\n",
            "14 994.00\n",
            "15 1140.00\n",
            "16 1296.00\n",
            "17 1462.00\n",
            "18 1638.00\n",
            "19 1824.00\n",
            "20 2020.00\n",
            "None\n"
          ]
        }
      ]
    },
    {
      "cell_type": "markdown",
      "metadata": {
        "id": "Uo1Kw-jdHbdD"
      },
      "source": [
        ""
      ]
    }
  ]
}