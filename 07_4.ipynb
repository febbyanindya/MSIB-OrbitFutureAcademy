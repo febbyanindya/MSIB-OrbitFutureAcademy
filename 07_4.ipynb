{
  "nbformat": 4,
  "nbformat_minor": 0,
  "metadata": {
    "kernelspec": {
      "display_name": "Python 3",
      "language": "python",
      "name": "python3"
    },
    "language_info": {
      "codemirror_mode": {
        "name": "ipython",
        "version": 3
      },
      "file_extension": ".py",
      "mimetype": "text/x-python",
      "name": "python",
      "nbconvert_exporter": "python",
      "pygments_lexer": "ipython3",
      "version": "3.7.6"
    },
    "colab": {
      "name": "07_4.ipynb",
      "provenance": [],
      "collapsed_sections": [],
      "include_colab_link": true
    }
  },
  "cells": [
    {
      "cell_type": "markdown",
      "metadata": {
        "id": "view-in-github",
        "colab_type": "text"
      },
      "source": [
        "<a href=\"https://colab.research.google.com/github/febbyanindya/MSIB-OrbitFutureAcademy/blob/Python/07_4.ipynb\" target=\"_parent\"><img src=\"https://colab.research.google.com/assets/colab-badge.svg\" alt=\"Open In Colab\"/></a>"
      ]
    },
    {
      "cell_type": "markdown",
      "metadata": {
        "id": "fXyErK3La9VY"
      },
      "source": [
        "## Import Library yg dibutuhkan"
      ]
    },
    {
      "cell_type": "code",
      "metadata": {
        "id": "o-sY0DCpa9Vi"
      },
      "source": [
        "import pandas as pd\n",
        "import matplotlib.pyplot as plt\n",
        "import numpy as np\n",
        "import warnings\n",
        "from sklearn import metrics\n",
        "import seaborn as sns\n",
        "warnings.filterwarnings(\"ignore\")\n",
        "%matplotlib inline\n",
        "#tambahkan library sesuai kebutuhan"
      ],
      "execution_count": 126,
      "outputs": []
    },
    {
      "cell_type": "code",
      "metadata": {
        "colab": {
          "base_uri": "https://localhost:8080/"
        },
        "id": "xMKa6pucOWbv",
        "outputId": "0f85c7ca-c244-4f09-fa63-88d18e4fe68b"
      },
      "source": [
        "!wget https://raw.githubusercontent.com/febbyanindya/MSIB-OrbitFutureAcademy/Python/Data/Activity_07_4.csv"
      ],
      "execution_count": 127,
      "outputs": [
        {
          "output_type": "stream",
          "name": "stdout",
          "text": [
            "--2021-11-12 14:04:07--  https://raw.githubusercontent.com/febbyanindya/MSIB-OrbitFutureAcademy/Python/Data/Activity_07_4.csv\n",
            "Resolving raw.githubusercontent.com (raw.githubusercontent.com)... 185.199.109.133, 185.199.111.133, 185.199.108.133, ...\n",
            "Connecting to raw.githubusercontent.com (raw.githubusercontent.com)|185.199.109.133|:443... connected.\n",
            "HTTP request sent, awaiting response... 200 OK\n",
            "Length: 34061 (33K) [text/plain]\n",
            "Saving to: ‘Activity_07_4.csv.6’\n",
            "\n",
            "\rActivity_07_4.csv.6   0%[                    ]       0  --.-KB/s               \rActivity_07_4.csv.6 100%[===================>]  33.26K  --.-KB/s    in 0.002s  \n",
            "\n",
            "2021-11-12 14:04:07 (14.7 MB/s) - ‘Activity_07_4.csv.6’ saved [34061/34061]\n",
            "\n"
          ]
        }
      ]
    },
    {
      "cell_type": "code",
      "metadata": {
        "id": "mdVVIvqIa9Vm",
        "colab": {
          "base_uri": "https://localhost:8080/",
          "height": 424
        },
        "outputId": "e5c88f93-b47b-47be-cecb-0721c71b65aa"
      },
      "source": [
        "data = pd.read_csv('Activity_07_4.csv')\n",
        "data"
      ],
      "execution_count": 128,
      "outputs": [
        {
          "output_type": "execute_result",
          "data": {
            "text/html": [
              "<div>\n",
              "<style scoped>\n",
              "    .dataframe tbody tr th:only-of-type {\n",
              "        vertical-align: middle;\n",
              "    }\n",
              "\n",
              "    .dataframe tbody tr th {\n",
              "        vertical-align: top;\n",
              "    }\n",
              "\n",
              "    .dataframe thead th {\n",
              "        text-align: right;\n",
              "    }\n",
              "</style>\n",
              "<table border=\"1\" class=\"dataframe\">\n",
              "  <thead>\n",
              "    <tr style=\"text-align: right;\">\n",
              "      <th></th>\n",
              "      <th>PH</th>\n",
              "      <th>cahaya</th>\n",
              "      <th>intensitas air</th>\n",
              "      <th>suhu</th>\n",
              "      <th>PPM</th>\n",
              "      <th>tinggi air</th>\n",
              "      <th>aksi</th>\n",
              "    </tr>\n",
              "  </thead>\n",
              "  <tbody>\n",
              "    <tr>\n",
              "      <th>0</th>\n",
              "      <td>6.5</td>\n",
              "      <td>Ada</td>\n",
              "      <td>Tinggi</td>\n",
              "      <td>27.0</td>\n",
              "      <td>188.0</td>\n",
              "      <td>622</td>\n",
              "      <td>Hidupkan Lampu dan Pompa nutrisi TDS</td>\n",
              "    </tr>\n",
              "    <tr>\n",
              "      <th>1</th>\n",
              "      <td>5.7</td>\n",
              "      <td>Ada</td>\n",
              "      <td>Tinggi</td>\n",
              "      <td>26.9</td>\n",
              "      <td>79.0</td>\n",
              "      <td>557</td>\n",
              "      <td>Hidupkan Lampu dan Pompa nutrisi TDS</td>\n",
              "    </tr>\n",
              "    <tr>\n",
              "      <th>2</th>\n",
              "      <td>6.0</td>\n",
              "      <td>Ada</td>\n",
              "      <td>Tinggi</td>\n",
              "      <td>27.0</td>\n",
              "      <td>11.0</td>\n",
              "      <td>491</td>\n",
              "      <td>Hidupkan Lampu dan Pompa nutrisi TDS</td>\n",
              "    </tr>\n",
              "    <tr>\n",
              "      <th>3</th>\n",
              "      <td>6.5</td>\n",
              "      <td>Ada</td>\n",
              "      <td>Tinggi</td>\n",
              "      <td>27.1</td>\n",
              "      <td>345.0</td>\n",
              "      <td>12000</td>\n",
              "      <td>Tidak melakukan apa-apa</td>\n",
              "    </tr>\n",
              "    <tr>\n",
              "      <th>4</th>\n",
              "      <td>6.2</td>\n",
              "      <td>NaN</td>\n",
              "      <td>Tinggi</td>\n",
              "      <td>27.1</td>\n",
              "      <td>602.0</td>\n",
              "      <td>444</td>\n",
              "      <td>Tidak melakukan apa-apa</td>\n",
              "    </tr>\n",
              "    <tr>\n",
              "      <th>...</th>\n",
              "      <td>...</td>\n",
              "      <td>...</td>\n",
              "      <td>...</td>\n",
              "      <td>...</td>\n",
              "      <td>...</td>\n",
              "      <td>...</td>\n",
              "      <td>...</td>\n",
              "    </tr>\n",
              "    <tr>\n",
              "      <th>611</th>\n",
              "      <td>4.6</td>\n",
              "      <td>Ada</td>\n",
              "      <td>Rendah sekali</td>\n",
              "      <td>25.3</td>\n",
              "      <td>904.0</td>\n",
              "      <td>47</td>\n",
              "      <td>Hidupkan Lampu</td>\n",
              "    </tr>\n",
              "    <tr>\n",
              "      <th>612</th>\n",
              "      <td>2.1</td>\n",
              "      <td>Ada</td>\n",
              "      <td>Rendah sekali</td>\n",
              "      <td>25.0</td>\n",
              "      <td>388.0</td>\n",
              "      <td>18</td>\n",
              "      <td>Hidupkan Lampu dan Pompa nutrisi TDS</td>\n",
              "    </tr>\n",
              "    <tr>\n",
              "      <th>613</th>\n",
              "      <td>3.2</td>\n",
              "      <td>Ada</td>\n",
              "      <td>Rendah sekali</td>\n",
              "      <td>25.3</td>\n",
              "      <td>793.0</td>\n",
              "      <td>19</td>\n",
              "      <td>Hidupkan Lampu</td>\n",
              "    </tr>\n",
              "    <tr>\n",
              "      <th>614</th>\n",
              "      <td>1.4</td>\n",
              "      <td>Ada</td>\n",
              "      <td>Rendah sekali</td>\n",
              "      <td>25.4</td>\n",
              "      <td>1052.0</td>\n",
              "      <td>3</td>\n",
              "      <td>Hidupkan Lampu</td>\n",
              "    </tr>\n",
              "    <tr>\n",
              "      <th>615</th>\n",
              "      <td>5.0</td>\n",
              "      <td>Ada</td>\n",
              "      <td>Rendah sekali</td>\n",
              "      <td>25.3</td>\n",
              "      <td>977.0</td>\n",
              "      <td>19</td>\n",
              "      <td>Hidupkan Lampu</td>\n",
              "    </tr>\n",
              "  </tbody>\n",
              "</table>\n",
              "<p>616 rows × 7 columns</p>\n",
              "</div>"
            ],
            "text/plain": [
              "      PH cahaya  ... tinggi air                                  aksi\n",
              "0    6.5    Ada  ...        622  Hidupkan Lampu dan Pompa nutrisi TDS\n",
              "1    5.7    Ada  ...        557  Hidupkan Lampu dan Pompa nutrisi TDS\n",
              "2    6.0    Ada  ...        491  Hidupkan Lampu dan Pompa nutrisi TDS\n",
              "3    6.5    Ada  ...      12000               Tidak melakukan apa-apa\n",
              "4    6.2    NaN  ...        444               Tidak melakukan apa-apa\n",
              "..   ...    ...  ...        ...                                   ...\n",
              "611  4.6    Ada  ...         47                        Hidupkan Lampu\n",
              "612  2.1    Ada  ...         18  Hidupkan Lampu dan Pompa nutrisi TDS\n",
              "613  3.2    Ada  ...         19                        Hidupkan Lampu\n",
              "614  1.4    Ada  ...          3                        Hidupkan Lampu\n",
              "615  5.0    Ada  ...         19                        Hidupkan Lampu\n",
              "\n",
              "[616 rows x 7 columns]"
            ]
          },
          "metadata": {},
          "execution_count": 128
        }
      ]
    },
    {
      "cell_type": "markdown",
      "metadata": {
        "id": "WZ3GE8pya9Vr"
      },
      "source": [
        "## 1. Mengganti nama kolom yang menggunakan spasi"
      ]
    },
    {
      "cell_type": "code",
      "metadata": {
        "id": "v0csWHwRa9Vs",
        "colab": {
          "base_uri": "https://localhost:8080/",
          "height": 424
        },
        "outputId": "0d23ff6f-08ef-4919-bc82-d59fd663c0b2"
      },
      "source": [
        "data2 = pd.DataFrame(data)\n",
        "# df_data = df.columns.str.replace(' ', '_')\n",
        "data2.rename(columns = {'intensitas air':'intensitas_air', 'tinggi air':'tinggi_air'}, inplace=True)\n",
        "data2"
      ],
      "execution_count": 129,
      "outputs": [
        {
          "output_type": "execute_result",
          "data": {
            "text/html": [
              "<div>\n",
              "<style scoped>\n",
              "    .dataframe tbody tr th:only-of-type {\n",
              "        vertical-align: middle;\n",
              "    }\n",
              "\n",
              "    .dataframe tbody tr th {\n",
              "        vertical-align: top;\n",
              "    }\n",
              "\n",
              "    .dataframe thead th {\n",
              "        text-align: right;\n",
              "    }\n",
              "</style>\n",
              "<table border=\"1\" class=\"dataframe\">\n",
              "  <thead>\n",
              "    <tr style=\"text-align: right;\">\n",
              "      <th></th>\n",
              "      <th>PH</th>\n",
              "      <th>cahaya</th>\n",
              "      <th>intensitas_air</th>\n",
              "      <th>suhu</th>\n",
              "      <th>PPM</th>\n",
              "      <th>tinggi_air</th>\n",
              "      <th>aksi</th>\n",
              "    </tr>\n",
              "  </thead>\n",
              "  <tbody>\n",
              "    <tr>\n",
              "      <th>0</th>\n",
              "      <td>6.5</td>\n",
              "      <td>Ada</td>\n",
              "      <td>Tinggi</td>\n",
              "      <td>27.0</td>\n",
              "      <td>188.0</td>\n",
              "      <td>622</td>\n",
              "      <td>Hidupkan Lampu dan Pompa nutrisi TDS</td>\n",
              "    </tr>\n",
              "    <tr>\n",
              "      <th>1</th>\n",
              "      <td>5.7</td>\n",
              "      <td>Ada</td>\n",
              "      <td>Tinggi</td>\n",
              "      <td>26.9</td>\n",
              "      <td>79.0</td>\n",
              "      <td>557</td>\n",
              "      <td>Hidupkan Lampu dan Pompa nutrisi TDS</td>\n",
              "    </tr>\n",
              "    <tr>\n",
              "      <th>2</th>\n",
              "      <td>6.0</td>\n",
              "      <td>Ada</td>\n",
              "      <td>Tinggi</td>\n",
              "      <td>27.0</td>\n",
              "      <td>11.0</td>\n",
              "      <td>491</td>\n",
              "      <td>Hidupkan Lampu dan Pompa nutrisi TDS</td>\n",
              "    </tr>\n",
              "    <tr>\n",
              "      <th>3</th>\n",
              "      <td>6.5</td>\n",
              "      <td>Ada</td>\n",
              "      <td>Tinggi</td>\n",
              "      <td>27.1</td>\n",
              "      <td>345.0</td>\n",
              "      <td>12000</td>\n",
              "      <td>Tidak melakukan apa-apa</td>\n",
              "    </tr>\n",
              "    <tr>\n",
              "      <th>4</th>\n",
              "      <td>6.2</td>\n",
              "      <td>NaN</td>\n",
              "      <td>Tinggi</td>\n",
              "      <td>27.1</td>\n",
              "      <td>602.0</td>\n",
              "      <td>444</td>\n",
              "      <td>Tidak melakukan apa-apa</td>\n",
              "    </tr>\n",
              "    <tr>\n",
              "      <th>...</th>\n",
              "      <td>...</td>\n",
              "      <td>...</td>\n",
              "      <td>...</td>\n",
              "      <td>...</td>\n",
              "      <td>...</td>\n",
              "      <td>...</td>\n",
              "      <td>...</td>\n",
              "    </tr>\n",
              "    <tr>\n",
              "      <th>611</th>\n",
              "      <td>4.6</td>\n",
              "      <td>Ada</td>\n",
              "      <td>Rendah sekali</td>\n",
              "      <td>25.3</td>\n",
              "      <td>904.0</td>\n",
              "      <td>47</td>\n",
              "      <td>Hidupkan Lampu</td>\n",
              "    </tr>\n",
              "    <tr>\n",
              "      <th>612</th>\n",
              "      <td>2.1</td>\n",
              "      <td>Ada</td>\n",
              "      <td>Rendah sekali</td>\n",
              "      <td>25.0</td>\n",
              "      <td>388.0</td>\n",
              "      <td>18</td>\n",
              "      <td>Hidupkan Lampu dan Pompa nutrisi TDS</td>\n",
              "    </tr>\n",
              "    <tr>\n",
              "      <th>613</th>\n",
              "      <td>3.2</td>\n",
              "      <td>Ada</td>\n",
              "      <td>Rendah sekali</td>\n",
              "      <td>25.3</td>\n",
              "      <td>793.0</td>\n",
              "      <td>19</td>\n",
              "      <td>Hidupkan Lampu</td>\n",
              "    </tr>\n",
              "    <tr>\n",
              "      <th>614</th>\n",
              "      <td>1.4</td>\n",
              "      <td>Ada</td>\n",
              "      <td>Rendah sekali</td>\n",
              "      <td>25.4</td>\n",
              "      <td>1052.0</td>\n",
              "      <td>3</td>\n",
              "      <td>Hidupkan Lampu</td>\n",
              "    </tr>\n",
              "    <tr>\n",
              "      <th>615</th>\n",
              "      <td>5.0</td>\n",
              "      <td>Ada</td>\n",
              "      <td>Rendah sekali</td>\n",
              "      <td>25.3</td>\n",
              "      <td>977.0</td>\n",
              "      <td>19</td>\n",
              "      <td>Hidupkan Lampu</td>\n",
              "    </tr>\n",
              "  </tbody>\n",
              "</table>\n",
              "<p>616 rows × 7 columns</p>\n",
              "</div>"
            ],
            "text/plain": [
              "      PH cahaya  ... tinggi_air                                  aksi\n",
              "0    6.5    Ada  ...        622  Hidupkan Lampu dan Pompa nutrisi TDS\n",
              "1    5.7    Ada  ...        557  Hidupkan Lampu dan Pompa nutrisi TDS\n",
              "2    6.0    Ada  ...        491  Hidupkan Lampu dan Pompa nutrisi TDS\n",
              "3    6.5    Ada  ...      12000               Tidak melakukan apa-apa\n",
              "4    6.2    NaN  ...        444               Tidak melakukan apa-apa\n",
              "..   ...    ...  ...        ...                                   ...\n",
              "611  4.6    Ada  ...         47                        Hidupkan Lampu\n",
              "612  2.1    Ada  ...         18  Hidupkan Lampu dan Pompa nutrisi TDS\n",
              "613  3.2    Ada  ...         19                        Hidupkan Lampu\n",
              "614  1.4    Ada  ...          3                        Hidupkan Lampu\n",
              "615  5.0    Ada  ...         19                        Hidupkan Lampu\n",
              "\n",
              "[616 rows x 7 columns]"
            ]
          },
          "metadata": {},
          "execution_count": 129
        }
      ]
    },
    {
      "cell_type": "markdown",
      "metadata": {
        "id": "vCYDhpdfa9Vt"
      },
      "source": [
        "## 2. Mengganti data kategorikal menjadi bentuk numerical (Clue : Labelencoder tidak bekerja ketika ada missing value, gunakan metode lain)"
      ]
    },
    {
      "cell_type": "code",
      "metadata": {
        "colab": {
          "base_uri": "https://localhost:8080/"
        },
        "id": "RylZ8KP1YqB2",
        "outputId": "155606c7-ac93-47a7-ddbf-351b1536aab0"
      },
      "source": [
        "data2['aksi'].unique()"
      ],
      "execution_count": 130,
      "outputs": [
        {
          "output_type": "execute_result",
          "data": {
            "text/plain": [
              "array(['Hidupkan Lampu dan Pompa nutrisi TDS', 'Tidak melakukan apa-apa',\n",
              "       'Hidupkan Lampu', 'Hidupkan Pompa nutrisi TDS'], dtype=object)"
            ]
          },
          "metadata": {},
          "execution_count": 130
        }
      ]
    },
    {
      "cell_type": "code",
      "metadata": {
        "id": "HNAJfwlCa9Vu",
        "colab": {
          "base_uri": "https://localhost:8080/",
          "height": 424
        },
        "outputId": "07ca24d9-939a-4b0f-ba6d-162398d6122b"
      },
      "source": [
        "def aksi(category):\n",
        "    if category==\"Tidak melakukan apa-apa\":\n",
        "        return 0\n",
        "    elif category==\"Hidupkan Lampu\":\n",
        "        return 1\n",
        "    elif category==\"Hidupkan Pompa nutrisi TDS\":\n",
        "        return 2\n",
        "    elif category==\"Hidupkan Lampu dan Pompa nutrisi TDS\":\n",
        "        return 3\n",
        "    else:\n",
        "        return category\n",
        "data2[\"aksi\"]=data2[\"aksi\"].apply(aksi)\n",
        "data2"
      ],
      "execution_count": 131,
      "outputs": [
        {
          "output_type": "execute_result",
          "data": {
            "text/html": [
              "<div>\n",
              "<style scoped>\n",
              "    .dataframe tbody tr th:only-of-type {\n",
              "        vertical-align: middle;\n",
              "    }\n",
              "\n",
              "    .dataframe tbody tr th {\n",
              "        vertical-align: top;\n",
              "    }\n",
              "\n",
              "    .dataframe thead th {\n",
              "        text-align: right;\n",
              "    }\n",
              "</style>\n",
              "<table border=\"1\" class=\"dataframe\">\n",
              "  <thead>\n",
              "    <tr style=\"text-align: right;\">\n",
              "      <th></th>\n",
              "      <th>PH</th>\n",
              "      <th>cahaya</th>\n",
              "      <th>intensitas_air</th>\n",
              "      <th>suhu</th>\n",
              "      <th>PPM</th>\n",
              "      <th>tinggi_air</th>\n",
              "      <th>aksi</th>\n",
              "    </tr>\n",
              "  </thead>\n",
              "  <tbody>\n",
              "    <tr>\n",
              "      <th>0</th>\n",
              "      <td>6.5</td>\n",
              "      <td>Ada</td>\n",
              "      <td>Tinggi</td>\n",
              "      <td>27.0</td>\n",
              "      <td>188.0</td>\n",
              "      <td>622</td>\n",
              "      <td>3</td>\n",
              "    </tr>\n",
              "    <tr>\n",
              "      <th>1</th>\n",
              "      <td>5.7</td>\n",
              "      <td>Ada</td>\n",
              "      <td>Tinggi</td>\n",
              "      <td>26.9</td>\n",
              "      <td>79.0</td>\n",
              "      <td>557</td>\n",
              "      <td>3</td>\n",
              "    </tr>\n",
              "    <tr>\n",
              "      <th>2</th>\n",
              "      <td>6.0</td>\n",
              "      <td>Ada</td>\n",
              "      <td>Tinggi</td>\n",
              "      <td>27.0</td>\n",
              "      <td>11.0</td>\n",
              "      <td>491</td>\n",
              "      <td>3</td>\n",
              "    </tr>\n",
              "    <tr>\n",
              "      <th>3</th>\n",
              "      <td>6.5</td>\n",
              "      <td>Ada</td>\n",
              "      <td>Tinggi</td>\n",
              "      <td>27.1</td>\n",
              "      <td>345.0</td>\n",
              "      <td>12000</td>\n",
              "      <td>0</td>\n",
              "    </tr>\n",
              "    <tr>\n",
              "      <th>4</th>\n",
              "      <td>6.2</td>\n",
              "      <td>NaN</td>\n",
              "      <td>Tinggi</td>\n",
              "      <td>27.1</td>\n",
              "      <td>602.0</td>\n",
              "      <td>444</td>\n",
              "      <td>0</td>\n",
              "    </tr>\n",
              "    <tr>\n",
              "      <th>...</th>\n",
              "      <td>...</td>\n",
              "      <td>...</td>\n",
              "      <td>...</td>\n",
              "      <td>...</td>\n",
              "      <td>...</td>\n",
              "      <td>...</td>\n",
              "      <td>...</td>\n",
              "    </tr>\n",
              "    <tr>\n",
              "      <th>611</th>\n",
              "      <td>4.6</td>\n",
              "      <td>Ada</td>\n",
              "      <td>Rendah sekali</td>\n",
              "      <td>25.3</td>\n",
              "      <td>904.0</td>\n",
              "      <td>47</td>\n",
              "      <td>1</td>\n",
              "    </tr>\n",
              "    <tr>\n",
              "      <th>612</th>\n",
              "      <td>2.1</td>\n",
              "      <td>Ada</td>\n",
              "      <td>Rendah sekali</td>\n",
              "      <td>25.0</td>\n",
              "      <td>388.0</td>\n",
              "      <td>18</td>\n",
              "      <td>3</td>\n",
              "    </tr>\n",
              "    <tr>\n",
              "      <th>613</th>\n",
              "      <td>3.2</td>\n",
              "      <td>Ada</td>\n",
              "      <td>Rendah sekali</td>\n",
              "      <td>25.3</td>\n",
              "      <td>793.0</td>\n",
              "      <td>19</td>\n",
              "      <td>1</td>\n",
              "    </tr>\n",
              "    <tr>\n",
              "      <th>614</th>\n",
              "      <td>1.4</td>\n",
              "      <td>Ada</td>\n",
              "      <td>Rendah sekali</td>\n",
              "      <td>25.4</td>\n",
              "      <td>1052.0</td>\n",
              "      <td>3</td>\n",
              "      <td>1</td>\n",
              "    </tr>\n",
              "    <tr>\n",
              "      <th>615</th>\n",
              "      <td>5.0</td>\n",
              "      <td>Ada</td>\n",
              "      <td>Rendah sekali</td>\n",
              "      <td>25.3</td>\n",
              "      <td>977.0</td>\n",
              "      <td>19</td>\n",
              "      <td>1</td>\n",
              "    </tr>\n",
              "  </tbody>\n",
              "</table>\n",
              "<p>616 rows × 7 columns</p>\n",
              "</div>"
            ],
            "text/plain": [
              "      PH cahaya intensitas_air  suhu     PPM  tinggi_air  aksi\n",
              "0    6.5    Ada         Tinggi  27.0   188.0         622     3\n",
              "1    5.7    Ada         Tinggi  26.9    79.0         557     3\n",
              "2    6.0    Ada         Tinggi  27.0    11.0         491     3\n",
              "3    6.5    Ada         Tinggi  27.1   345.0       12000     0\n",
              "4    6.2    NaN         Tinggi  27.1   602.0         444     0\n",
              "..   ...    ...            ...   ...     ...         ...   ...\n",
              "611  4.6    Ada  Rendah sekali  25.3   904.0          47     1\n",
              "612  2.1    Ada  Rendah sekali  25.0   388.0          18     3\n",
              "613  3.2    Ada  Rendah sekali  25.3   793.0          19     1\n",
              "614  1.4    Ada  Rendah sekali  25.4  1052.0           3     1\n",
              "615  5.0    Ada  Rendah sekali  25.3   977.0          19     1\n",
              "\n",
              "[616 rows x 7 columns]"
            ]
          },
          "metadata": {},
          "execution_count": 131
        }
      ]
    },
    {
      "cell_type": "code",
      "metadata": {
        "colab": {
          "base_uri": "https://localhost:8080/"
        },
        "id": "38JYfqKWRUlK",
        "outputId": "4fb1a58c-4243-4265-90bf-044fa2a89cf5"
      },
      "source": [
        "data2['intensitas_air'].unique()"
      ],
      "execution_count": 132,
      "outputs": [
        {
          "output_type": "execute_result",
          "data": {
            "text/plain": [
              "array(['Tinggi', 'Cukup', 'Rendah', 'Rendah sekali'], dtype=object)"
            ]
          },
          "metadata": {},
          "execution_count": 132
        }
      ]
    },
    {
      "cell_type": "code",
      "metadata": {
        "colab": {
          "base_uri": "https://localhost:8080/",
          "height": 424
        },
        "id": "N3M4F5QJ8nsY",
        "outputId": "a9016b83-ac6a-4315-8077-ab27b3370867"
      },
      "source": [
        "def intensitas(category):\n",
        "    if category==\"Rendah sekali\":\n",
        "        return 0\n",
        "    elif category==\"Rendah\":\n",
        "        return 1\n",
        "    elif category==\"Cukup\":\n",
        "        return 2\n",
        "    elif category==\"Tinggi\":\n",
        "        return 3\n",
        "    else:\n",
        "        return category\n",
        "data2[\"intensitas_air\"]=data2[\"intensitas_air\"].apply(intensitas)\n",
        "data2"
      ],
      "execution_count": 133,
      "outputs": [
        {
          "output_type": "execute_result",
          "data": {
            "text/html": [
              "<div>\n",
              "<style scoped>\n",
              "    .dataframe tbody tr th:only-of-type {\n",
              "        vertical-align: middle;\n",
              "    }\n",
              "\n",
              "    .dataframe tbody tr th {\n",
              "        vertical-align: top;\n",
              "    }\n",
              "\n",
              "    .dataframe thead th {\n",
              "        text-align: right;\n",
              "    }\n",
              "</style>\n",
              "<table border=\"1\" class=\"dataframe\">\n",
              "  <thead>\n",
              "    <tr style=\"text-align: right;\">\n",
              "      <th></th>\n",
              "      <th>PH</th>\n",
              "      <th>cahaya</th>\n",
              "      <th>intensitas_air</th>\n",
              "      <th>suhu</th>\n",
              "      <th>PPM</th>\n",
              "      <th>tinggi_air</th>\n",
              "      <th>aksi</th>\n",
              "    </tr>\n",
              "  </thead>\n",
              "  <tbody>\n",
              "    <tr>\n",
              "      <th>0</th>\n",
              "      <td>6.5</td>\n",
              "      <td>Ada</td>\n",
              "      <td>3</td>\n",
              "      <td>27.0</td>\n",
              "      <td>188.0</td>\n",
              "      <td>622</td>\n",
              "      <td>3</td>\n",
              "    </tr>\n",
              "    <tr>\n",
              "      <th>1</th>\n",
              "      <td>5.7</td>\n",
              "      <td>Ada</td>\n",
              "      <td>3</td>\n",
              "      <td>26.9</td>\n",
              "      <td>79.0</td>\n",
              "      <td>557</td>\n",
              "      <td>3</td>\n",
              "    </tr>\n",
              "    <tr>\n",
              "      <th>2</th>\n",
              "      <td>6.0</td>\n",
              "      <td>Ada</td>\n",
              "      <td>3</td>\n",
              "      <td>27.0</td>\n",
              "      <td>11.0</td>\n",
              "      <td>491</td>\n",
              "      <td>3</td>\n",
              "    </tr>\n",
              "    <tr>\n",
              "      <th>3</th>\n",
              "      <td>6.5</td>\n",
              "      <td>Ada</td>\n",
              "      <td>3</td>\n",
              "      <td>27.1</td>\n",
              "      <td>345.0</td>\n",
              "      <td>12000</td>\n",
              "      <td>0</td>\n",
              "    </tr>\n",
              "    <tr>\n",
              "      <th>4</th>\n",
              "      <td>6.2</td>\n",
              "      <td>NaN</td>\n",
              "      <td>3</td>\n",
              "      <td>27.1</td>\n",
              "      <td>602.0</td>\n",
              "      <td>444</td>\n",
              "      <td>0</td>\n",
              "    </tr>\n",
              "    <tr>\n",
              "      <th>...</th>\n",
              "      <td>...</td>\n",
              "      <td>...</td>\n",
              "      <td>...</td>\n",
              "      <td>...</td>\n",
              "      <td>...</td>\n",
              "      <td>...</td>\n",
              "      <td>...</td>\n",
              "    </tr>\n",
              "    <tr>\n",
              "      <th>611</th>\n",
              "      <td>4.6</td>\n",
              "      <td>Ada</td>\n",
              "      <td>0</td>\n",
              "      <td>25.3</td>\n",
              "      <td>904.0</td>\n",
              "      <td>47</td>\n",
              "      <td>1</td>\n",
              "    </tr>\n",
              "    <tr>\n",
              "      <th>612</th>\n",
              "      <td>2.1</td>\n",
              "      <td>Ada</td>\n",
              "      <td>0</td>\n",
              "      <td>25.0</td>\n",
              "      <td>388.0</td>\n",
              "      <td>18</td>\n",
              "      <td>3</td>\n",
              "    </tr>\n",
              "    <tr>\n",
              "      <th>613</th>\n",
              "      <td>3.2</td>\n",
              "      <td>Ada</td>\n",
              "      <td>0</td>\n",
              "      <td>25.3</td>\n",
              "      <td>793.0</td>\n",
              "      <td>19</td>\n",
              "      <td>1</td>\n",
              "    </tr>\n",
              "    <tr>\n",
              "      <th>614</th>\n",
              "      <td>1.4</td>\n",
              "      <td>Ada</td>\n",
              "      <td>0</td>\n",
              "      <td>25.4</td>\n",
              "      <td>1052.0</td>\n",
              "      <td>3</td>\n",
              "      <td>1</td>\n",
              "    </tr>\n",
              "    <tr>\n",
              "      <th>615</th>\n",
              "      <td>5.0</td>\n",
              "      <td>Ada</td>\n",
              "      <td>0</td>\n",
              "      <td>25.3</td>\n",
              "      <td>977.0</td>\n",
              "      <td>19</td>\n",
              "      <td>1</td>\n",
              "    </tr>\n",
              "  </tbody>\n",
              "</table>\n",
              "<p>616 rows × 7 columns</p>\n",
              "</div>"
            ],
            "text/plain": [
              "      PH cahaya  intensitas_air  suhu     PPM  tinggi_air  aksi\n",
              "0    6.5    Ada               3  27.0   188.0         622     3\n",
              "1    5.7    Ada               3  26.9    79.0         557     3\n",
              "2    6.0    Ada               3  27.0    11.0         491     3\n",
              "3    6.5    Ada               3  27.1   345.0       12000     0\n",
              "4    6.2    NaN               3  27.1   602.0         444     0\n",
              "..   ...    ...             ...   ...     ...         ...   ...\n",
              "611  4.6    Ada               0  25.3   904.0          47     1\n",
              "612  2.1    Ada               0  25.0   388.0          18     3\n",
              "613  3.2    Ada               0  25.3   793.0          19     1\n",
              "614  1.4    Ada               0  25.4  1052.0           3     1\n",
              "615  5.0    Ada               0  25.3   977.0          19     1\n",
              "\n",
              "[616 rows x 7 columns]"
            ]
          },
          "metadata": {},
          "execution_count": 133
        }
      ]
    },
    {
      "cell_type": "code",
      "metadata": {
        "colab": {
          "base_uri": "https://localhost:8080/"
        },
        "id": "Rgo4u9PydLTG",
        "outputId": "a05d5fae-c1fa-406d-84cb-d731a4960f08"
      },
      "source": [
        "data2['cahaya'].unique()"
      ],
      "execution_count": 134,
      "outputs": [
        {
          "output_type": "execute_result",
          "data": {
            "text/plain": [
              "array(['Ada', nan, 'Tidak ada'], dtype=object)"
            ]
          },
          "metadata": {},
          "execution_count": 134
        }
      ]
    },
    {
      "cell_type": "code",
      "metadata": {
        "colab": {
          "base_uri": "https://localhost:8080/",
          "height": 424
        },
        "id": "Yo66NFRndRvy",
        "outputId": "7079fee7-c926-4c13-ad6a-90e89a91dd2d"
      },
      "source": [
        "def cahaya(category):\n",
        "    if category==\"Tidak ada\":\n",
        "        return 0\n",
        "    elif category==\"Ada\":\n",
        "        return 1\n",
        "    else:\n",
        "        return category\n",
        "data2[\"cahaya\"]=data2[\"cahaya\"].apply(cahaya)\n",
        "data2"
      ],
      "execution_count": 135,
      "outputs": [
        {
          "output_type": "execute_result",
          "data": {
            "text/html": [
              "<div>\n",
              "<style scoped>\n",
              "    .dataframe tbody tr th:only-of-type {\n",
              "        vertical-align: middle;\n",
              "    }\n",
              "\n",
              "    .dataframe tbody tr th {\n",
              "        vertical-align: top;\n",
              "    }\n",
              "\n",
              "    .dataframe thead th {\n",
              "        text-align: right;\n",
              "    }\n",
              "</style>\n",
              "<table border=\"1\" class=\"dataframe\">\n",
              "  <thead>\n",
              "    <tr style=\"text-align: right;\">\n",
              "      <th></th>\n",
              "      <th>PH</th>\n",
              "      <th>cahaya</th>\n",
              "      <th>intensitas_air</th>\n",
              "      <th>suhu</th>\n",
              "      <th>PPM</th>\n",
              "      <th>tinggi_air</th>\n",
              "      <th>aksi</th>\n",
              "    </tr>\n",
              "  </thead>\n",
              "  <tbody>\n",
              "    <tr>\n",
              "      <th>0</th>\n",
              "      <td>6.5</td>\n",
              "      <td>1.0</td>\n",
              "      <td>3</td>\n",
              "      <td>27.0</td>\n",
              "      <td>188.0</td>\n",
              "      <td>622</td>\n",
              "      <td>3</td>\n",
              "    </tr>\n",
              "    <tr>\n",
              "      <th>1</th>\n",
              "      <td>5.7</td>\n",
              "      <td>1.0</td>\n",
              "      <td>3</td>\n",
              "      <td>26.9</td>\n",
              "      <td>79.0</td>\n",
              "      <td>557</td>\n",
              "      <td>3</td>\n",
              "    </tr>\n",
              "    <tr>\n",
              "      <th>2</th>\n",
              "      <td>6.0</td>\n",
              "      <td>1.0</td>\n",
              "      <td>3</td>\n",
              "      <td>27.0</td>\n",
              "      <td>11.0</td>\n",
              "      <td>491</td>\n",
              "      <td>3</td>\n",
              "    </tr>\n",
              "    <tr>\n",
              "      <th>3</th>\n",
              "      <td>6.5</td>\n",
              "      <td>1.0</td>\n",
              "      <td>3</td>\n",
              "      <td>27.1</td>\n",
              "      <td>345.0</td>\n",
              "      <td>12000</td>\n",
              "      <td>0</td>\n",
              "    </tr>\n",
              "    <tr>\n",
              "      <th>4</th>\n",
              "      <td>6.2</td>\n",
              "      <td>NaN</td>\n",
              "      <td>3</td>\n",
              "      <td>27.1</td>\n",
              "      <td>602.0</td>\n",
              "      <td>444</td>\n",
              "      <td>0</td>\n",
              "    </tr>\n",
              "    <tr>\n",
              "      <th>...</th>\n",
              "      <td>...</td>\n",
              "      <td>...</td>\n",
              "      <td>...</td>\n",
              "      <td>...</td>\n",
              "      <td>...</td>\n",
              "      <td>...</td>\n",
              "      <td>...</td>\n",
              "    </tr>\n",
              "    <tr>\n",
              "      <th>611</th>\n",
              "      <td>4.6</td>\n",
              "      <td>1.0</td>\n",
              "      <td>0</td>\n",
              "      <td>25.3</td>\n",
              "      <td>904.0</td>\n",
              "      <td>47</td>\n",
              "      <td>1</td>\n",
              "    </tr>\n",
              "    <tr>\n",
              "      <th>612</th>\n",
              "      <td>2.1</td>\n",
              "      <td>1.0</td>\n",
              "      <td>0</td>\n",
              "      <td>25.0</td>\n",
              "      <td>388.0</td>\n",
              "      <td>18</td>\n",
              "      <td>3</td>\n",
              "    </tr>\n",
              "    <tr>\n",
              "      <th>613</th>\n",
              "      <td>3.2</td>\n",
              "      <td>1.0</td>\n",
              "      <td>0</td>\n",
              "      <td>25.3</td>\n",
              "      <td>793.0</td>\n",
              "      <td>19</td>\n",
              "      <td>1</td>\n",
              "    </tr>\n",
              "    <tr>\n",
              "      <th>614</th>\n",
              "      <td>1.4</td>\n",
              "      <td>1.0</td>\n",
              "      <td>0</td>\n",
              "      <td>25.4</td>\n",
              "      <td>1052.0</td>\n",
              "      <td>3</td>\n",
              "      <td>1</td>\n",
              "    </tr>\n",
              "    <tr>\n",
              "      <th>615</th>\n",
              "      <td>5.0</td>\n",
              "      <td>1.0</td>\n",
              "      <td>0</td>\n",
              "      <td>25.3</td>\n",
              "      <td>977.0</td>\n",
              "      <td>19</td>\n",
              "      <td>1</td>\n",
              "    </tr>\n",
              "  </tbody>\n",
              "</table>\n",
              "<p>616 rows × 7 columns</p>\n",
              "</div>"
            ],
            "text/plain": [
              "      PH  cahaya  intensitas_air  suhu     PPM  tinggi_air  aksi\n",
              "0    6.5     1.0               3  27.0   188.0         622     3\n",
              "1    5.7     1.0               3  26.9    79.0         557     3\n",
              "2    6.0     1.0               3  27.0    11.0         491     3\n",
              "3    6.5     1.0               3  27.1   345.0       12000     0\n",
              "4    6.2     NaN               3  27.1   602.0         444     0\n",
              "..   ...     ...             ...   ...     ...         ...   ...\n",
              "611  4.6     1.0               0  25.3   904.0          47     1\n",
              "612  2.1     1.0               0  25.0   388.0          18     3\n",
              "613  3.2     1.0               0  25.3   793.0          19     1\n",
              "614  1.4     1.0               0  25.4  1052.0           3     1\n",
              "615  5.0     1.0               0  25.3   977.0          19     1\n",
              "\n",
              "[616 rows x 7 columns]"
            ]
          },
          "metadata": {},
          "execution_count": 135
        }
      ]
    },
    {
      "cell_type": "markdown",
      "metadata": {
        "id": "W5Ka60uYa9Vv"
      },
      "source": [
        "## 3. Handle Missing Value"
      ]
    },
    {
      "cell_type": "code",
      "metadata": {
        "id": "z6BbPoqPa9Vv",
        "colab": {
          "base_uri": "https://localhost:8080/",
          "height": 269
        },
        "outputId": "8d95dfae-215b-4e2b-8639-241d67f3fc8e"
      },
      "source": [
        "#Isi Code\n",
        "missing_data = pd.DataFrame({'total_missing': data2.isnull().sum(), 'perc_missing': (data2.isnull().sum()/616)*100})\n",
        "missing_data"
      ],
      "execution_count": 136,
      "outputs": [
        {
          "output_type": "execute_result",
          "data": {
            "text/html": [
              "<div>\n",
              "<style scoped>\n",
              "    .dataframe tbody tr th:only-of-type {\n",
              "        vertical-align: middle;\n",
              "    }\n",
              "\n",
              "    .dataframe tbody tr th {\n",
              "        vertical-align: top;\n",
              "    }\n",
              "\n",
              "    .dataframe thead th {\n",
              "        text-align: right;\n",
              "    }\n",
              "</style>\n",
              "<table border=\"1\" class=\"dataframe\">\n",
              "  <thead>\n",
              "    <tr style=\"text-align: right;\">\n",
              "      <th></th>\n",
              "      <th>total_missing</th>\n",
              "      <th>perc_missing</th>\n",
              "    </tr>\n",
              "  </thead>\n",
              "  <tbody>\n",
              "    <tr>\n",
              "      <th>PH</th>\n",
              "      <td>16</td>\n",
              "      <td>2.597403</td>\n",
              "    </tr>\n",
              "    <tr>\n",
              "      <th>cahaya</th>\n",
              "      <td>26</td>\n",
              "      <td>4.220779</td>\n",
              "    </tr>\n",
              "    <tr>\n",
              "      <th>intensitas_air</th>\n",
              "      <td>0</td>\n",
              "      <td>0.000000</td>\n",
              "    </tr>\n",
              "    <tr>\n",
              "      <th>suhu</th>\n",
              "      <td>27</td>\n",
              "      <td>4.383117</td>\n",
              "    </tr>\n",
              "    <tr>\n",
              "      <th>PPM</th>\n",
              "      <td>5</td>\n",
              "      <td>0.811688</td>\n",
              "    </tr>\n",
              "    <tr>\n",
              "      <th>tinggi_air</th>\n",
              "      <td>0</td>\n",
              "      <td>0.000000</td>\n",
              "    </tr>\n",
              "    <tr>\n",
              "      <th>aksi</th>\n",
              "      <td>0</td>\n",
              "      <td>0.000000</td>\n",
              "    </tr>\n",
              "  </tbody>\n",
              "</table>\n",
              "</div>"
            ],
            "text/plain": [
              "                total_missing  perc_missing\n",
              "PH                         16      2.597403\n",
              "cahaya                     26      4.220779\n",
              "intensitas_air              0      0.000000\n",
              "suhu                       27      4.383117\n",
              "PPM                         5      0.811688\n",
              "tinggi_air                  0      0.000000\n",
              "aksi                        0      0.000000"
            ]
          },
          "metadata": {},
          "execution_count": 136
        }
      ]
    },
    {
      "cell_type": "markdown",
      "metadata": {
        "id": "GELQ5uyda9Vw"
      },
      "source": [
        "## 4. Detect outliers dan handling (bisa dihapus atau diganti nilainya dengan mean/modus/median)"
      ]
    },
    {
      "cell_type": "code",
      "metadata": {
        "id": "ll-868ipa9Vx",
        "colab": {
          "base_uri": "https://localhost:8080/"
        },
        "outputId": "b5a87a2f-29de-410a-e736-c2098bd49a98"
      },
      "source": [
        "#Isi Code\n",
        "#Handling Missing Value pada kolom non-kategorik\n",
        "columns_missing = ['PH', 'suhu', 'PPM']\n",
        "for col in columns_missing:\n",
        "  data2[col].replace(np.nan, data2[col].mean(), inplace=True)\n",
        "  \n",
        "data2.isnull().sum()"
      ],
      "execution_count": 137,
      "outputs": [
        {
          "output_type": "execute_result",
          "data": {
            "text/plain": [
              "PH                 0\n",
              "cahaya            26\n",
              "intensitas_air     0\n",
              "suhu               0\n",
              "PPM                0\n",
              "tinggi_air         0\n",
              "aksi               0\n",
              "dtype: int64"
            ]
          },
          "metadata": {},
          "execution_count": 137
        }
      ]
    },
    {
      "cell_type": "code",
      "metadata": {
        "colab": {
          "base_uri": "https://localhost:8080/"
        },
        "id": "EKL_82UcT3qo",
        "outputId": "69d4c18a-4ccf-430d-a884-cd505ad5ced1"
      },
      "source": [
        "data2['cahaya'].mode()"
      ],
      "execution_count": 138,
      "outputs": [
        {
          "output_type": "execute_result",
          "data": {
            "text/plain": [
              "0    1.0\n",
              "dtype: float64"
            ]
          },
          "metadata": {},
          "execution_count": 138
        }
      ]
    },
    {
      "cell_type": "code",
      "metadata": {
        "colab": {
          "base_uri": "https://localhost:8080/"
        },
        "id": "-T3v1buDUIWe",
        "outputId": "a41f342c-358e-4df2-e715-a171017789e3"
      },
      "source": [
        "#Handling Missing Value pada kolom kategorik menggunakan modus\n",
        "columns_missing = ['cahaya']\n",
        "for col in columns_missing:\n",
        "  data2[col].replace(np.nan, 1.0, inplace=True)\n",
        "  \n",
        "data2.isnull().sum()"
      ],
      "execution_count": 139,
      "outputs": [
        {
          "output_type": "execute_result",
          "data": {
            "text/plain": [
              "PH                0\n",
              "cahaya            0\n",
              "intensitas_air    0\n",
              "suhu              0\n",
              "PPM               0\n",
              "tinggi_air        0\n",
              "aksi              0\n",
              "dtype: int64"
            ]
          },
          "metadata": {},
          "execution_count": 139
        }
      ]
    },
    {
      "cell_type": "markdown",
      "metadata": {
        "id": "EFQ0YfYLa9Vy"
      },
      "source": [
        "## 5. Pisahkan data feature dengan label"
      ]
    },
    {
      "cell_type": "code",
      "metadata": {
        "id": "Jjxt06KTa9Vy"
      },
      "source": [
        "#Isi Code\n",
        "x = data2[['PH',\t'cahaya',\t'intensitas_air',\t'suhu',\t'PPM',\t'tinggi_air']]\n",
        "y = data2['aksi']"
      ],
      "execution_count": 140,
      "outputs": []
    },
    {
      "cell_type": "markdown",
      "metadata": {
        "id": "YCGKwPFra9Vz"
      },
      "source": [
        "## 6. Check Imbalanced Dataset, jika imbalanced, gunakan smote"
      ]
    },
    {
      "cell_type": "code",
      "metadata": {
        "id": "5YI-izdXa9V0",
        "colab": {
          "base_uri": "https://localhost:8080/"
        },
        "outputId": "f52a6284-74fc-462a-dd93-c9a7e7147b6b"
      },
      "source": [
        "#pip install imbalanced-learn\n",
        "!pip install imbalanced-learn"
      ],
      "execution_count": 141,
      "outputs": [
        {
          "output_type": "stream",
          "name": "stdout",
          "text": [
            "Requirement already satisfied: imbalanced-learn in /usr/local/lib/python3.7/dist-packages (0.4.3)\n",
            "Requirement already satisfied: numpy>=1.8.2 in /usr/local/lib/python3.7/dist-packages (from imbalanced-learn) (1.19.5)\n",
            "Requirement already satisfied: scipy>=0.13.3 in /usr/local/lib/python3.7/dist-packages (from imbalanced-learn) (1.4.1)\n",
            "Requirement already satisfied: scikit-learn>=0.20 in /usr/local/lib/python3.7/dist-packages (from imbalanced-learn) (0.22.2.post1)\n",
            "Requirement already satisfied: joblib>=0.11 in /usr/local/lib/python3.7/dist-packages (from scikit-learn>=0.20->imbalanced-learn) (1.1.0)\n"
          ]
        }
      ]
    },
    {
      "cell_type": "code",
      "metadata": {
        "id": "DIfkA5_da9V0",
        "colab": {
          "base_uri": "https://localhost:8080/"
        },
        "outputId": "97196e83-df9c-4250-e383-494bc670a15f"
      },
      "source": [
        "#Isi Code\n",
        "data2.aksi.value_counts()"
      ],
      "execution_count": 120,
      "outputs": [
        {
          "output_type": "execute_result",
          "data": {
            "text/plain": [
              "0    473\n",
              "1     92\n",
              "3     39\n",
              "2     12\n",
              "Name: aksi, dtype: int64"
            ]
          },
          "metadata": {},
          "execution_count": 120
        }
      ]
    },
    {
      "cell_type": "code",
      "metadata": {
        "colab": {
          "base_uri": "https://localhost:8080/"
        },
        "id": "M72IgfDba6_1",
        "outputId": "f4ba9a58-8ba1-4eb6-ffb7-afd88452903f"
      },
      "source": [
        "from collections import Counter\n",
        "counter = Counter(y)\n",
        "print(counter)"
      ],
      "execution_count": 99,
      "outputs": [
        {
          "output_type": "stream",
          "name": "stdout",
          "text": [
            "Counter({0: 473, 1: 92, 3: 39, 2: 12})\n"
          ]
        }
      ]
    },
    {
      "cell_type": "code",
      "metadata": {
        "colab": {
          "base_uri": "https://localhost:8080/"
        },
        "id": "WjvqBxPab_jp",
        "outputId": "0e498344-610a-46d5-ac3e-c55d90bb4c48"
      },
      "source": [
        "from imblearn.over_sampling import SMOTE\n",
        "oversample = SMOTE(k_neighbors=5)\n",
        "x_smote, y_smote = oversample.fit_resample(x, y)\n",
        "counter = Counter(y_smote)\n",
        "print(counter)"
      ],
      "execution_count": 145,
      "outputs": [
        {
          "output_type": "stream",
          "name": "stdout",
          "text": [
            "Counter({3: 473, 0: 473, 1: 473, 2: 473})\n"
          ]
        }
      ]
    },
    {
      "cell_type": "markdown",
      "metadata": {
        "id": "2gLiWKVza9V1"
      },
      "source": [
        "## 7. Visualisasikan Tiap feature dengan label"
      ]
    },
    {
      "cell_type": "code",
      "metadata": {
        "id": "hJMzN-gMa9V2",
        "colab": {
          "base_uri": "https://localhost:8080/"
        },
        "outputId": "18eb1bde-9fea-41bb-9d51-04a434f3742b"
      },
      "source": [
        "#Isi Code\n",
        "data['cahaya'].value_counts()"
      ],
      "execution_count": 146,
      "outputs": [
        {
          "output_type": "execute_result",
          "data": {
            "text/plain": [
              "1.0    328\n",
              "0.0    288\n",
              "Name: cahaya, dtype: int64"
            ]
          },
          "metadata": {},
          "execution_count": 146
        }
      ]
    },
    {
      "cell_type": "code",
      "metadata": {
        "colab": {
          "base_uri": "https://localhost:8080/",
          "height": 253
        },
        "id": "DWJS-dxre8w5",
        "outputId": "1beabebe-84ff-4c92-bd61-3b614c3e7025"
      },
      "source": [
        "import matplotlib.pyplot as plt\n",
        "from matplotlib import style\n",
        "ada_cahaya = (data2['cahaya'] == 1).sum()\n",
        "tidak_ada_cahaya = (data2['cahaya'] == 0).sum()\n",
        "p = [ada_cahaya, tidak_ada_cahaya]\n",
        "plt.pie(p,    #array kategori pie chart\n",
        "        autopct='%1.1f%%', labels = ['Ada Cahaya', 'Tidak Ada Cahaya'], #Label tiap kategori\n",
        "        colors = ['green', 'yellow'],   #Memberikan warna sesuai urutan array\n",
        "        explode = (0.15, 0),    #Memberikan efek seolah bagian 1 menjauh      \n",
        "        startangle = 0)  #Sudut mulai\n",
        "plt.axis('equal')\n",
        "plt.show()"
      ],
      "execution_count": 151,
      "outputs": [
        {
          "output_type": "display_data",
          "data": {
            "image/png": "[encoded data removed]",
            "text/plain": [
              "<Figure size 432x288 with 1 Axes>"
            ]
          },
          "metadata": {}
        }
      ]
    },
    {
      "cell_type": "code",
      "metadata": {
        "id": "dOqUFa-zhaNq"
      },
      "source": [
        "# Aksi dengan ada cahaya\n",
        "cahaya_0 = data2[data2['cahaya'] == 1][data2['aksi'] == 0].shape[0]\n",
        "cahaya_1 = data2[data2['cahaya'] == 1][data2['aksi'] == 1].shape[0]\n",
        "cahaya_2 = data2[data2['cahaya'] == 1][data2['aksi'] == 2].shape[0]\n",
        "cahaya_3 = data2[data2['cahaya'] == 1][data2['aksi'] == 3].shape[0]\n",
        "# Aksi tanpa ada cahaya\n",
        "no_cahaya_0 = data2[data2['cahaya'] == 0][data2['aksi'] == 0].shape[0]\n",
        "no_cahaya_1 = data2[data2['cahaya'] == 0][data2['aksi'] == 1].shape[0]\n",
        "no_cahaya_2 = data2[data2['cahaya'] == 0][data2['aksi'] == 2].shape[0]\n",
        "no_cahaya_3 = data2[data2['cahaya'] == 0][data2['aksi'] == 3].shape[0]"
      ],
      "execution_count": 152,
      "outputs": []
    },
    {
      "cell_type": "code",
      "metadata": {
        "colab": {
          "base_uri": "https://localhost:8080/",
          "height": 472
        },
        "id": "ZXDOnnASginL",
        "outputId": "7e24fe27-a129-48d7-83f1-d2c24ce9246c"
      },
      "source": [
        "chart=[cahaya_0, cahaya_1, cahaya_2, cahaya_3, no_cahaya_0, no_cahaya_1, no_cahaya_2, no_cahaya_3]\n",
        "colors=['lightskyblue','yellowgreen','Yellow','Orange', 'Pink', 'Red', 'Blue', 'Green']\n",
        "labels=[\"Aksi 0 ada cahaya\",\"Aksi 1 ada cahaya\",\"Aksi 2 ada cahaya\",\"Aksi 3 ada cahaya\", \n",
        "        'Aksi 0 tidak ada cahaya', 'Aksi 1 tidak ada cahaya', 'Aksi 2 tidak ada cahaya', 'Aksi 3 tidak ada cahaya']\n",
        "y_pos = np.arange(len(labels))\n",
        "plt.rcdefaults()\n",
        "fig, ax = plt.subplots()\n",
        "ax.barh(y_pos, chart, align='center')\n",
        "ax.set_yticks(y_pos)\n",
        "ax.set_yticklabels(labels)\n",
        "ax.invert_yaxis()  # labels read top-to-bottom\n",
        "ax.set_xlabel('Banyak Aksi')\n",
        "ax.set_title('Jumlah Tiap Aksi dilihat dari Ada atau Tidaknya Cahaya');"
      ],
      "execution_count": 154,
      "outputs": [
        {
          "output_type": "display_data",
          "data": {
            "image/png": "[encoded data removed]",
            "text/plain": [
              "<Figure size 640x480 with 1 Axes>"
            ]
          },
          "metadata": {}
        }
      ]
    },
    {
      "cell_type": "markdown",
      "metadata": {
        "id": "byMOPkmra9V2"
      },
      "source": [
        "## 8. Lakukan Normalization menggunakan MinMaxScaler atau Standardization menggunakan StandarScaler"
      ]
    },
    {
      "cell_type": "code",
      "metadata": {
        "id": "i0XxulQra9V3",
        "colab": {
          "base_uri": "https://localhost:8080/"
        },
        "outputId": "a51b1c6d-565d-40ac-93b2-25291a775ba9"
      },
      "source": [
        "#Isi Kode\n",
        "from sklearn.preprocessing import StandardScaler\n",
        "scaler = StandardScaler()\n",
        "# transform data\n",
        "scaled = scaler.fit_transform(x)\n",
        "print(scaled)"
      ],
      "execution_count": 156,
      "outputs": [
        {
          "output_type": "stream",
          "name": "stdout",
          "text": [
            "[[-0.05170588  0.93704257  1.34164079 -0.16198388 -1.3420191   0.53673942]\n",
            " [-0.31828832  0.93704257  1.34164079 -0.16883597 -1.51516516  0.43222979]\n",
            " [-0.21831991  0.93704257  1.34164079 -0.16198388 -1.62318289  0.32611233]\n",
            " ...\n",
            " [-1.15135843  0.93704257 -1.34164079 -0.27846942 -0.38097905 -0.43278836]\n",
            " [-1.75116891  0.93704257 -1.34164079 -0.27161733  0.03044141 -0.45851381]\n",
            " [-0.55154795  0.93704257 -1.34164079 -0.27846942 -0.08869579 -0.43278836]]\n"
          ]
        }
      ]
    },
    {
      "cell_type": "code",
      "metadata": {
        "colab": {
          "base_uri": "https://localhost:8080/"
        },
        "id": "8FpFAD7Vi19s",
        "outputId": "52019266-9d83-4fcd-bb8e-b82d135328e8"
      },
      "source": [
        "from sklearn.preprocessing import MinMaxScaler\n",
        "scaler =  MinMaxScaler()\n",
        "# transform data\n",
        "scaled_smote = scaler.fit_transform(x_smote)\n",
        "print(scaled_smote)"
      ],
      "execution_count": 158,
      "outputs": [
        {
          "output_type": "stream",
          "name": "stdout",
          "text": [
            "[[0.46428571 1.         1.         0.96007046 0.08705773 0.05183333]\n",
            " [0.40714286 1.         1.         0.95977686 0.03631285 0.04641667]\n",
            " [0.42857143 1.         1.         0.96007046 0.00465549 0.04091667]\n",
            " ...\n",
            " [0.67221168 1.         0.09032389 0.95900214 0.09256322 0.05077204]\n",
            " [0.42050259 1.         0.24118185 0.95892713 0.09092501 0.01985439]\n",
            " [0.49054339 1.         0.02159503 0.96005144 0.18376597 0.02063828]]\n"
          ]
        }
      ]
    },
    {
      "cell_type": "code",
      "metadata": {
        "colab": {
          "base_uri": "https://localhost:8080/"
        },
        "id": "3TkhevtzjSvR",
        "outputId": "0fe4176f-9ae6-41d6-bc3e-e5e0197da8c6"
      },
      "source": [
        "scaler =  MinMaxScaler()\n",
        "# transform data\n",
        "scaled = scaler.fit_transform(x)\n",
        "print(scaled)"
      ],
      "execution_count": 160,
      "outputs": [
        {
          "output_type": "stream",
          "name": "stdout",
          "text": [
            "[[4.64285714e-01 1.00000000e+00 1.00000000e+00 9.60070464e-01\n",
            "  8.70577281e-02 5.18333333e-02]\n",
            " [4.07142857e-01 1.00000000e+00 1.00000000e+00 9.59776864e-01\n",
            "  3.63128492e-02 4.64166667e-02]\n",
            " [4.28571429e-01 1.00000000e+00 1.00000000e+00 9.60070464e-01\n",
            "  4.65549348e-03 4.09166667e-02]\n",
            " ...\n",
            " [2.28571429e-01 1.00000000e+00 0.00000000e+00 9.55079272e-01\n",
            "  3.68715084e-01 1.58333333e-03]\n",
            " [1.00000000e-01 1.00000000e+00 0.00000000e+00 9.55372871e-01\n",
            "  4.89292365e-01 2.50000000e-04]\n",
            " [3.57142857e-01 1.00000000e+00 0.00000000e+00 9.55079272e-01\n",
            "  4.54376164e-01 1.58333333e-03]]\n"
          ]
        }
      ]
    },
    {
      "cell_type": "markdown",
      "metadata": {
        "id": "FJpwBxZfa9V3"
      },
      "source": [
        "## 9. Buat model ANN"
      ]
    },
    {
      "cell_type": "code",
      "metadata": {
        "id": "1Zo0ODA8a9V4"
      },
      "source": [
        "#Isi Code\n",
        "from tensorflow.keras import Sequential\n",
        "from tensorflow.keras.layers import Dense"
      ],
      "execution_count": 165,
      "outputs": []
    },
    {
      "cell_type": "code",
      "metadata": {
        "id": "hwQxXGtlkd57"
      },
      "source": [
        "model = Sequential()\n",
        "model.add(Dense(16, input_shape=(6,), activation='relu'))\n",
        "model.add(Dense(32, activation='relu'))\n",
        "model.add(Dense(4, activation='sigmoid'))\n",
        "model.compile(optimizer = 'adam', loss = 'sparse_categorical_crossentropy', metrics = ['accuracy'])"
      ],
      "execution_count": 166,
      "outputs": []
    },
    {
      "cell_type": "code",
      "metadata": {
        "colab": {
          "base_uri": "https://localhost:8080/"
        },
        "id": "E1K60p3yj_ux",
        "outputId": "bcda1b25-5244-45df-da60-af4779ee9979"
      },
      "source": [
        "from sklearn.model_selection import train_test_split\n",
        "\n",
        "x_train, x_test, y_train, y_test = train_test_split(scaled_smote,y_smote, test_size = 0.2, random_state = 42)\n",
        "hasil = model.fit(x_train, y_train, batch_size = 32, epochs = 100, validation_split=0.3)\n",
        "loss, acc = model.evaluate(x_test, y_test, verbose=0)"
      ],
      "execution_count": 168,
      "outputs": [
        {
          "output_type": "stream",
          "name": "stdout",
          "text": [
            "Epoch 1/100\n",
            "34/34 [==============================] - 0s 4ms/step - loss: 0.2232 - accuracy: 0.9216 - val_loss: 0.2295 - val_accuracy: 0.9163\n",
            "Epoch 2/100\n",
            "34/34 [==============================] - 0s 3ms/step - loss: 0.2207 - accuracy: 0.9197 - val_loss: 0.2263 - val_accuracy: 0.9163\n",
            "Epoch 3/100\n",
            "34/34 [==============================] - 0s 3ms/step - loss: 0.2166 - accuracy: 0.9263 - val_loss: 0.2258 - val_accuracy: 0.9207\n",
            "Epoch 4/100\n",
            "34/34 [==============================] - 0s 3ms/step - loss: 0.2198 - accuracy: 0.9245 - val_loss: 0.2246 - val_accuracy: 0.9207\n",
            "Epoch 5/100\n",
            "34/34 [==============================] - 0s 3ms/step - loss: 0.2173 - accuracy: 0.9216 - val_loss: 0.2246 - val_accuracy: 0.9163\n",
            "Epoch 6/100\n",
            "34/34 [==============================] - 0s 3ms/step - loss: 0.2186 - accuracy: 0.9263 - val_loss: 0.2332 - val_accuracy: 0.9097\n",
            "Epoch 7/100\n",
            "34/34 [==============================] - 0s 3ms/step - loss: 0.2174 - accuracy: 0.9226 - val_loss: 0.2232 - val_accuracy: 0.9229\n",
            "Epoch 8/100\n",
            "34/34 [==============================] - 0s 3ms/step - loss: 0.2164 - accuracy: 0.9245 - val_loss: 0.2226 - val_accuracy: 0.9229\n",
            "Epoch 9/100\n",
            "34/34 [==============================] - 0s 3ms/step - loss: 0.2177 - accuracy: 0.9263 - val_loss: 0.2284 - val_accuracy: 0.9097\n",
            "Epoch 10/100\n",
            "34/34 [==============================] - 0s 3ms/step - loss: 0.2149 - accuracy: 0.9273 - val_loss: 0.2210 - val_accuracy: 0.9207\n",
            "Epoch 11/100\n",
            "34/34 [==============================] - 0s 3ms/step - loss: 0.2170 - accuracy: 0.9197 - val_loss: 0.2232 - val_accuracy: 0.9207\n",
            "Epoch 12/100\n",
            "34/34 [==============================] - 0s 3ms/step - loss: 0.2129 - accuracy: 0.9263 - val_loss: 0.2211 - val_accuracy: 0.9229\n",
            "Epoch 13/100\n",
            "34/34 [==============================] - 0s 3ms/step - loss: 0.2138 - accuracy: 0.9216 - val_loss: 0.2247 - val_accuracy: 0.9119\n",
            "Epoch 14/100\n",
            "34/34 [==============================] - 0s 3ms/step - loss: 0.2128 - accuracy: 0.9263 - val_loss: 0.2237 - val_accuracy: 0.9163\n",
            "Epoch 15/100\n",
            "34/34 [==============================] - 0s 3ms/step - loss: 0.2143 - accuracy: 0.9226 - val_loss: 0.2215 - val_accuracy: 0.9229\n",
            "Epoch 16/100\n",
            "34/34 [==============================] - 0s 3ms/step - loss: 0.2140 - accuracy: 0.9254 - val_loss: 0.2218 - val_accuracy: 0.9207\n",
            "Epoch 17/100\n",
            "34/34 [==============================] - 0s 3ms/step - loss: 0.2123 - accuracy: 0.9235 - val_loss: 0.2198 - val_accuracy: 0.9207\n",
            "Epoch 18/100\n",
            "34/34 [==============================] - 0s 3ms/step - loss: 0.2102 - accuracy: 0.9311 - val_loss: 0.2214 - val_accuracy: 0.9185\n",
            "Epoch 19/100\n",
            "34/34 [==============================] - 0s 3ms/step - loss: 0.2108 - accuracy: 0.9226 - val_loss: 0.2229 - val_accuracy: 0.9141\n",
            "Epoch 20/100\n",
            "34/34 [==============================] - 0s 3ms/step - loss: 0.2119 - accuracy: 0.9263 - val_loss: 0.2210 - val_accuracy: 0.9229\n",
            "Epoch 21/100\n",
            "34/34 [==============================] - 0s 3ms/step - loss: 0.2122 - accuracy: 0.9263 - val_loss: 0.2212 - val_accuracy: 0.9251\n",
            "Epoch 22/100\n",
            "34/34 [==============================] - 0s 3ms/step - loss: 0.2109 - accuracy: 0.9273 - val_loss: 0.2199 - val_accuracy: 0.9229\n",
            "Epoch 23/100\n",
            "34/34 [==============================] - 0s 3ms/step - loss: 0.2102 - accuracy: 0.9245 - val_loss: 0.2235 - val_accuracy: 0.9097\n",
            "Epoch 24/100\n",
            "34/34 [==============================] - 0s 3ms/step - loss: 0.2100 - accuracy: 0.9301 - val_loss: 0.2251 - val_accuracy: 0.9097\n",
            "Epoch 25/100\n",
            "34/34 [==============================] - 0s 3ms/step - loss: 0.2095 - accuracy: 0.9235 - val_loss: 0.2283 - val_accuracy: 0.9097\n",
            "Epoch 26/100\n",
            "34/34 [==============================] - 0s 3ms/step - loss: 0.2215 - accuracy: 0.9160 - val_loss: 0.2217 - val_accuracy: 0.9185\n",
            "Epoch 27/100\n",
            "34/34 [==============================] - 0s 3ms/step - loss: 0.2097 - accuracy: 0.9245 - val_loss: 0.2211 - val_accuracy: 0.9163\n",
            "Epoch 28/100\n",
            "34/34 [==============================] - 0s 3ms/step - loss: 0.2073 - accuracy: 0.9263 - val_loss: 0.2191 - val_accuracy: 0.9185\n",
            "Epoch 29/100\n",
            "34/34 [==============================] - 0s 3ms/step - loss: 0.2101 - accuracy: 0.9282 - val_loss: 0.2203 - val_accuracy: 0.9251\n",
            "Epoch 30/100\n",
            "34/34 [==============================] - 0s 3ms/step - loss: 0.2104 - accuracy: 0.9254 - val_loss: 0.2203 - val_accuracy: 0.9185\n",
            "Epoch 31/100\n",
            "34/34 [==============================] - 0s 3ms/step - loss: 0.2082 - accuracy: 0.9292 - val_loss: 0.2198 - val_accuracy: 0.9251\n",
            "Epoch 32/100\n",
            "34/34 [==============================] - 0s 3ms/step - loss: 0.2059 - accuracy: 0.9301 - val_loss: 0.2219 - val_accuracy: 0.9119\n",
            "Epoch 33/100\n",
            "34/34 [==============================] - 0s 3ms/step - loss: 0.2142 - accuracy: 0.9292 - val_loss: 0.2212 - val_accuracy: 0.9163\n",
            "Epoch 34/100\n",
            "34/34 [==============================] - 0s 3ms/step - loss: 0.2061 - accuracy: 0.9263 - val_loss: 0.2234 - val_accuracy: 0.9119\n",
            "Epoch 35/100\n",
            "34/34 [==============================] - 0s 3ms/step - loss: 0.2088 - accuracy: 0.9226 - val_loss: 0.2180 - val_accuracy: 0.9229\n",
            "Epoch 36/100\n",
            "34/34 [==============================] - 0s 3ms/step - loss: 0.2060 - accuracy: 0.9311 - val_loss: 0.2195 - val_accuracy: 0.9207\n",
            "Epoch 37/100\n",
            "34/34 [==============================] - 0s 3ms/step - loss: 0.2044 - accuracy: 0.9254 - val_loss: 0.2208 - val_accuracy: 0.9119\n",
            "Epoch 38/100\n",
            "34/34 [==============================] - 0s 4ms/step - loss: 0.2064 - accuracy: 0.9263 - val_loss: 0.2239 - val_accuracy: 0.9119\n",
            "Epoch 39/100\n",
            "34/34 [==============================] - 0s 3ms/step - loss: 0.2092 - accuracy: 0.9216 - val_loss: 0.2187 - val_accuracy: 0.9185\n",
            "Epoch 40/100\n",
            "34/34 [==============================] - 0s 3ms/step - loss: 0.2058 - accuracy: 0.9263 - val_loss: 0.2193 - val_accuracy: 0.9207\n",
            "Epoch 41/100\n",
            "34/34 [==============================] - 0s 3ms/step - loss: 0.2031 - accuracy: 0.9292 - val_loss: 0.2244 - val_accuracy: 0.9097\n",
            "Epoch 42/100\n",
            "34/34 [==============================] - 0s 3ms/step - loss: 0.2064 - accuracy: 0.9273 - val_loss: 0.2248 - val_accuracy: 0.9097\n",
            "Epoch 43/100\n",
            "34/34 [==============================] - 0s 3ms/step - loss: 0.2026 - accuracy: 0.9301 - val_loss: 0.2178 - val_accuracy: 0.9207\n",
            "Epoch 44/100\n",
            "34/34 [==============================] - 0s 3ms/step - loss: 0.2030 - accuracy: 0.9301 - val_loss: 0.2191 - val_accuracy: 0.9207\n",
            "Epoch 45/100\n",
            "34/34 [==============================] - 0s 4ms/step - loss: 0.2031 - accuracy: 0.9292 - val_loss: 0.2180 - val_accuracy: 0.9163\n",
            "Epoch 46/100\n",
            "34/34 [==============================] - 0s 3ms/step - loss: 0.2059 - accuracy: 0.9273 - val_loss: 0.2167 - val_accuracy: 0.9207\n",
            "Epoch 47/100\n",
            "34/34 [==============================] - 0s 3ms/step - loss: 0.2053 - accuracy: 0.9263 - val_loss: 0.2194 - val_accuracy: 0.9185\n",
            "Epoch 48/100\n",
            "34/34 [==============================] - 0s 3ms/step - loss: 0.2015 - accuracy: 0.9320 - val_loss: 0.2315 - val_accuracy: 0.9075\n",
            "Epoch 49/100\n",
            "34/34 [==============================] - 0s 3ms/step - loss: 0.2100 - accuracy: 0.9245 - val_loss: 0.2176 - val_accuracy: 0.9185\n",
            "Epoch 50/100\n",
            "34/34 [==============================] - 0s 3ms/step - loss: 0.2035 - accuracy: 0.9235 - val_loss: 0.2269 - val_accuracy: 0.9097\n",
            "Epoch 51/100\n",
            "34/34 [==============================] - 0s 3ms/step - loss: 0.2049 - accuracy: 0.9301 - val_loss: 0.2181 - val_accuracy: 0.9251\n",
            "Epoch 52/100\n",
            "34/34 [==============================] - 0s 3ms/step - loss: 0.2037 - accuracy: 0.9320 - val_loss: 0.2178 - val_accuracy: 0.9185\n",
            "Epoch 53/100\n",
            "34/34 [==============================] - 0s 3ms/step - loss: 0.2018 - accuracy: 0.9292 - val_loss: 0.2177 - val_accuracy: 0.9185\n",
            "Epoch 54/100\n",
            "34/34 [==============================] - 0s 3ms/step - loss: 0.2013 - accuracy: 0.9245 - val_loss: 0.2181 - val_accuracy: 0.9163\n",
            "Epoch 55/100\n",
            "34/34 [==============================] - 0s 3ms/step - loss: 0.2025 - accuracy: 0.9292 - val_loss: 0.2202 - val_accuracy: 0.9185\n",
            "Epoch 56/100\n",
            "34/34 [==============================] - 0s 3ms/step - loss: 0.2051 - accuracy: 0.9245 - val_loss: 0.2171 - val_accuracy: 0.9207\n",
            "Epoch 57/100\n",
            "34/34 [==============================] - 0s 3ms/step - loss: 0.1981 - accuracy: 0.9282 - val_loss: 0.2254 - val_accuracy: 0.9053\n",
            "Epoch 58/100\n",
            "34/34 [==============================] - 0s 3ms/step - loss: 0.2020 - accuracy: 0.9282 - val_loss: 0.2193 - val_accuracy: 0.9185\n",
            "Epoch 59/100\n",
            "34/34 [==============================] - 0s 3ms/step - loss: 0.1997 - accuracy: 0.9292 - val_loss: 0.2160 - val_accuracy: 0.9185\n",
            "Epoch 60/100\n",
            "34/34 [==============================] - 0s 4ms/step - loss: 0.2012 - accuracy: 0.9320 - val_loss: 0.2202 - val_accuracy: 0.9163\n",
            "Epoch 61/100\n",
            "34/34 [==============================] - 0s 3ms/step - loss: 0.2032 - accuracy: 0.9226 - val_loss: 0.2157 - val_accuracy: 0.9207\n",
            "Epoch 62/100\n",
            "34/34 [==============================] - 0s 3ms/step - loss: 0.1994 - accuracy: 0.9292 - val_loss: 0.2172 - val_accuracy: 0.9207\n",
            "Epoch 63/100\n",
            "34/34 [==============================] - 0s 3ms/step - loss: 0.2012 - accuracy: 0.9263 - val_loss: 0.2159 - val_accuracy: 0.9185\n",
            "Epoch 64/100\n",
            "34/34 [==============================] - 0s 3ms/step - loss: 0.2029 - accuracy: 0.9367 - val_loss: 0.2191 - val_accuracy: 0.9273\n",
            "Epoch 65/100\n",
            "34/34 [==============================] - 0s 3ms/step - loss: 0.1992 - accuracy: 0.9273 - val_loss: 0.2161 - val_accuracy: 0.9185\n",
            "Epoch 66/100\n",
            "34/34 [==============================] - 0s 3ms/step - loss: 0.1984 - accuracy: 0.9263 - val_loss: 0.2155 - val_accuracy: 0.9207\n",
            "Epoch 67/100\n",
            "34/34 [==============================] - 0s 3ms/step - loss: 0.1989 - accuracy: 0.9301 - val_loss: 0.2190 - val_accuracy: 0.9185\n",
            "Epoch 68/100\n",
            "34/34 [==============================] - 0s 3ms/step - loss: 0.1995 - accuracy: 0.9311 - val_loss: 0.2157 - val_accuracy: 0.9229\n",
            "Epoch 69/100\n",
            "34/34 [==============================] - 0s 3ms/step - loss: 0.2009 - accuracy: 0.9254 - val_loss: 0.2151 - val_accuracy: 0.9207\n",
            "Epoch 70/100\n",
            "34/34 [==============================] - 0s 3ms/step - loss: 0.2000 - accuracy: 0.9301 - val_loss: 0.2234 - val_accuracy: 0.9053\n",
            "Epoch 71/100\n",
            "34/34 [==============================] - 0s 3ms/step - loss: 0.2016 - accuracy: 0.9263 - val_loss: 0.2166 - val_accuracy: 0.9207\n",
            "Epoch 72/100\n",
            "34/34 [==============================] - 0s 3ms/step - loss: 0.1990 - accuracy: 0.9311 - val_loss: 0.2160 - val_accuracy: 0.9207\n",
            "Epoch 73/100\n",
            "34/34 [==============================] - 0s 3ms/step - loss: 0.1984 - accuracy: 0.9273 - val_loss: 0.2146 - val_accuracy: 0.9207\n",
            "Epoch 74/100\n",
            "34/34 [==============================] - 0s 3ms/step - loss: 0.1994 - accuracy: 0.9301 - val_loss: 0.2194 - val_accuracy: 0.9097\n",
            "Epoch 75/100\n",
            "34/34 [==============================] - 0s 3ms/step - loss: 0.1967 - accuracy: 0.9282 - val_loss: 0.2172 - val_accuracy: 0.9141\n",
            "Epoch 76/100\n",
            "34/34 [==============================] - 0s 3ms/step - loss: 0.1989 - accuracy: 0.9245 - val_loss: 0.2238 - val_accuracy: 0.9163\n",
            "Epoch 77/100\n",
            "34/34 [==============================] - 0s 3ms/step - loss: 0.1996 - accuracy: 0.9301 - val_loss: 0.2162 - val_accuracy: 0.9185\n",
            "Epoch 78/100\n",
            "34/34 [==============================] - 0s 3ms/step - loss: 0.1963 - accuracy: 0.9301 - val_loss: 0.2148 - val_accuracy: 0.9207\n",
            "Epoch 79/100\n",
            "34/34 [==============================] - 0s 4ms/step - loss: 0.1961 - accuracy: 0.9292 - val_loss: 0.2156 - val_accuracy: 0.9251\n",
            "Epoch 80/100\n",
            "34/34 [==============================] - 0s 3ms/step - loss: 0.1977 - accuracy: 0.9311 - val_loss: 0.2150 - val_accuracy: 0.9207\n",
            "Epoch 81/100\n",
            "34/34 [==============================] - 0s 3ms/step - loss: 0.1991 - accuracy: 0.9339 - val_loss: 0.2170 - val_accuracy: 0.9207\n",
            "Epoch 82/100\n",
            "34/34 [==============================] - 0s 3ms/step - loss: 0.1981 - accuracy: 0.9292 - val_loss: 0.2149 - val_accuracy: 0.9185\n",
            "Epoch 83/100\n",
            "34/34 [==============================] - 0s 3ms/step - loss: 0.1943 - accuracy: 0.9282 - val_loss: 0.2156 - val_accuracy: 0.9207\n",
            "Epoch 84/100\n",
            "34/34 [==============================] - 0s 3ms/step - loss: 0.1936 - accuracy: 0.9348 - val_loss: 0.2252 - val_accuracy: 0.9163\n",
            "Epoch 85/100\n",
            "34/34 [==============================] - 0s 3ms/step - loss: 0.2013 - accuracy: 0.9273 - val_loss: 0.2152 - val_accuracy: 0.9185\n",
            "Epoch 86/100\n",
            "34/34 [==============================] - 0s 3ms/step - loss: 0.1960 - accuracy: 0.9330 - val_loss: 0.2155 - val_accuracy: 0.9185\n",
            "Epoch 87/100\n",
            "34/34 [==============================] - 0s 3ms/step - loss: 0.1963 - accuracy: 0.9263 - val_loss: 0.2175 - val_accuracy: 0.9141\n",
            "Epoch 88/100\n",
            "34/34 [==============================] - 0s 3ms/step - loss: 0.1982 - accuracy: 0.9301 - val_loss: 0.2161 - val_accuracy: 0.9185\n",
            "Epoch 89/100\n",
            "34/34 [==============================] - 0s 3ms/step - loss: 0.2021 - accuracy: 0.9301 - val_loss: 0.2204 - val_accuracy: 0.9119\n",
            "Epoch 90/100\n",
            "34/34 [==============================] - 0s 3ms/step - loss: 0.1953 - accuracy: 0.9301 - val_loss: 0.2152 - val_accuracy: 0.9185\n",
            "Epoch 91/100\n",
            "34/34 [==============================] - 0s 3ms/step - loss: 0.1966 - accuracy: 0.9292 - val_loss: 0.2167 - val_accuracy: 0.9163\n",
            "Epoch 92/100\n",
            "34/34 [==============================] - 0s 3ms/step - loss: 0.1933 - accuracy: 0.9292 - val_loss: 0.2156 - val_accuracy: 0.9207\n",
            "Epoch 93/100\n",
            "34/34 [==============================] - 0s 3ms/step - loss: 0.1977 - accuracy: 0.9263 - val_loss: 0.2152 - val_accuracy: 0.9185\n",
            "Epoch 94/100\n",
            "34/34 [==============================] - 0s 3ms/step - loss: 0.1955 - accuracy: 0.9282 - val_loss: 0.2147 - val_accuracy: 0.9207\n",
            "Epoch 95/100\n",
            "34/34 [==============================] - 0s 3ms/step - loss: 0.1998 - accuracy: 0.9263 - val_loss: 0.2179 - val_accuracy: 0.9097\n",
            "Epoch 96/100\n",
            "34/34 [==============================] - 0s 3ms/step - loss: 0.2006 - accuracy: 0.9263 - val_loss: 0.2149 - val_accuracy: 0.9185\n",
            "Epoch 97/100\n",
            "34/34 [==============================] - 0s 3ms/step - loss: 0.1947 - accuracy: 0.9273 - val_loss: 0.2148 - val_accuracy: 0.9119\n",
            "Epoch 98/100\n",
            "34/34 [==============================] - 0s 3ms/step - loss: 0.1972 - accuracy: 0.9245 - val_loss: 0.2159 - val_accuracy: 0.9185\n",
            "Epoch 99/100\n",
            "34/34 [==============================] - 0s 3ms/step - loss: 0.1933 - accuracy: 0.9320 - val_loss: 0.2226 - val_accuracy: 0.9119\n",
            "Epoch 100/100\n",
            "34/34 [==============================] - 0s 3ms/step - loss: 0.1923 - accuracy: 0.9330 - val_loss: 0.2161 - val_accuracy: 0.9207\n"
          ]
        }
      ]
    },
    {
      "cell_type": "code",
      "metadata": {
        "colab": {
          "base_uri": "https://localhost:8080/"
        },
        "id": "LbZJtWrwk0xd",
        "outputId": "a6def776-e0b4-45de-a0b5-a294cc64e4a7"
      },
      "source": [
        "print('Test Accuracy_model: %.3f' % acc)"
      ],
      "execution_count": 169,
      "outputs": [
        {
          "output_type": "stream",
          "name": "stdout",
          "text": [
            "Test Accuracy_model: 0.913\n"
          ]
        }
      ]
    },
    {
      "cell_type": "markdown",
      "metadata": {
        "id": "ZVuY2QdwW6dO"
      },
      "source": [
        "## 10. Build Model KNN"
      ]
    },
    {
      "cell_type": "code",
      "metadata": {
        "id": "Dks_OpdeW9fY"
      },
      "source": [
        "from sklearn.neighbors import KNeighborsClassifier\n",
        "\n",
        "k = 3\n",
        "#Train Model and Predict  \n",
        "knn = KNeighborsClassifier(n_neighbors = k).fit(x_train,y_train)"
      ],
      "execution_count": 178,
      "outputs": []
    },
    {
      "cell_type": "code",
      "metadata": {
        "colab": {
          "base_uri": "https://localhost:8080/"
        },
        "id": "XeO3UKSimqO6",
        "outputId": "73d97643-2ffb-4383-f1f7-a753d160c30c"
      },
      "source": [
        "from sklearn import metrics\n",
        "\n",
        "yhat = knn.predict(x_test)\n",
        "print(\"Train set Accuracy: \", metrics.accuracy_score(y_train, knn.predict(x_train)))\n",
        "print(\"Test set Accuracy: \", metrics.accuracy_score(y_test, yhat))"
      ],
      "execution_count": 179,
      "outputs": [
        {
          "output_type": "stream",
          "name": "stdout",
          "text": [
            "Train set Accuracy:  0.9610046265697291\n",
            "Test set Accuracy:  0.9340369393139841\n"
          ]
        }
      ]
    }
  ]
}