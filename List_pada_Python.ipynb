{
  "nbformat": 4,
  "nbformat_minor": 0,
  "metadata": {
    "colab": {
      "name": "List pada Python.ipynb",
      "provenance": [],
      "collapsed_sections": [],
      "toc_visible": true,
      "authorship_tag": "ABX9TyO/V5QXwgnYUmfaTPM4NsvZ",
      "include_colab_link": true
    },
    "kernelspec": {
      "name": "python3",
      "display_name": "Python 3"
    },
    "language_info": {
      "name": "python"
    }
  },
  "cells": [
    {
      "cell_type": "markdown",
      "metadata": {
        "id": "view-in-github",
        "colab_type": "text"
      },
      "source": [
        "<a href=\"https://colab.research.google.com/github/febbyanindya/MSIB-OrbitFutureAcademy/blob/Python/List_pada_Python.ipynb\" target=\"_parent\"><img src=\"https://colab.research.google.com/assets/colab-badge.svg\" alt=\"Open In Colab\"/></a>"
      ]
    },
    {
      "cell_type": "code",
      "metadata": {
        "id": "_5Nl47JMubrf"
      },
      "source": [
        "import pandas as pd"
      ],
      "execution_count": null,
      "outputs": []
    },
    {
      "cell_type": "code",
      "metadata": {
        "id": "NE7XyPkbvRA6"
      },
      "source": [
        "df1 = pd.DataFrame([\n",
        "    [\"Andien\",\"P\", 21, \"Belum Menikah\"],\n",
        "    [\"Raka\", \"L\", 25, \"Belum Menikah\"],\n",
        "    [\"Bobby\", \"L\", 23, \"Sudah Menikah\"] \n",
        "])"
      ],
      "execution_count": null,
      "outputs": []
    },
    {
      "cell_type": "code",
      "metadata": {
        "colab": {
          "base_uri": "https://localhost:8080/",
          "height": 142
        },
        "id": "rxuDcxMkv4X1",
        "outputId": "92b0cf8b-e255-4a22-d5ac-1255c21f36ce"
      },
      "source": [
        "df1.columns = [\"Nama\", \"Jenis Kelamin\", \"Usia\", \"Status\"]\n",
        "df1"
      ],
      "execution_count": null,
      "outputs": [
        {
          "output_type": "execute_result",
          "data": {
            "text/html": [
              "<div>\n",
              "<style scoped>\n",
              "    .dataframe tbody tr th:only-of-type {\n",
              "        vertical-align: middle;\n",
              "    }\n",
              "\n",
              "    .dataframe tbody tr th {\n",
              "        vertical-align: top;\n",
              "    }\n",
              "\n",
              "    .dataframe thead th {\n",
              "        text-align: right;\n",
              "    }\n",
              "</style>\n",
              "<table border=\"1\" class=\"dataframe\">\n",
              "  <thead>\n",
              "    <tr style=\"text-align: right;\">\n",
              "      <th></th>\n",
              "      <th>Nama</th>\n",
              "      <th>Jenis Kelamin</th>\n",
              "      <th>Usia</th>\n",
              "      <th>Status</th>\n",
              "    </tr>\n",
              "  </thead>\n",
              "  <tbody>\n",
              "    <tr>\n",
              "      <th>0</th>\n",
              "      <td>Andien</td>\n",
              "      <td>P</td>\n",
              "      <td>21</td>\n",
              "      <td>Belum Menikah</td>\n",
              "    </tr>\n",
              "    <tr>\n",
              "      <th>1</th>\n",
              "      <td>Raka</td>\n",
              "      <td>L</td>\n",
              "      <td>25</td>\n",
              "      <td>Belum Menikah</td>\n",
              "    </tr>\n",
              "    <tr>\n",
              "      <th>2</th>\n",
              "      <td>Bobby</td>\n",
              "      <td>L</td>\n",
              "      <td>23</td>\n",
              "      <td>Sudah Menikah</td>\n",
              "    </tr>\n",
              "  </tbody>\n",
              "</table>\n",
              "</div>"
            ],
            "text/plain": [
              "     Nama Jenis Kelamin  Usia         Status\n",
              "0  Andien             P    21  Belum Menikah\n",
              "1    Raka             L    25  Belum Menikah\n",
              "2   Bobby             L    23  Sudah Menikah"
            ]
          },
          "metadata": {},
          "execution_count": 27
        }
      ]
    },
    {
      "cell_type": "code",
      "metadata": {
        "id": "Osih9kFjwHyR"
      },
      "source": [
        "df1.to_csv('anggota_koperasi_sukanabung.csv')\n",
        "df1.to_excel('anggota_koperasi_sukanabung.xlsx')"
      ],
      "execution_count": null,
      "outputs": []
    },
    {
      "cell_type": "markdown",
      "metadata": {
        "id": "6_OwAS0Ij4ko"
      },
      "source": [
        "## Fungsi - Fungsi List pada Python\n",
        "- Quiz, studi kasus nyata"
      ]
    },
    {
      "cell_type": "markdown",
      "metadata": {
        "id": "MMU9bi85j4kp"
      },
      "source": [
        "- Bahas tentang fungsi yg ada di list (struktur data) dulu\n",
        "    - `append()`  # Menambahkan elemen di akhir list (hanya 1)\n",
        "    - `extend()`  # Menambahkan banyak elemen di akhir list\n",
        "    - `index()`   # Mencari index dari elemen tertentu yang ada di list\n",
        "    - `max(list)` # Mencari elemen terbesar dari list\n",
        "    - `min(list)` # Mencari elemen terkecil dari list\n",
        "    - `len(list)` # Menghitung jumlah elemen dalam list\n",
        "    - `clear()`   # Menghapus semua elemen dari list\n",
        "    - `insert()`  # Memasukkan elemen baru pada urutan tertentu\n",
        "    - `count()`   # Menghitung jumlah elemen dengan nilai tertentu\n",
        "    - `pop()`     # Menghapus elemen terakhir dari list\n",
        "    - `remove()`  # Menghapus elemen dengan nilai tertentu\n",
        "    - `reverse()` # Membalik urutan elemen dalam list\n",
        "    - `copy()`    # Menduplikat elemen dalam list ke dalam variabel baru\n",
        "    - `sort()`    # Mengurutkan (sorting)\n",
        "\n",
        "- TODO: Teori dan ilustrasi"
      ]
    },
    {
      "cell_type": "code",
      "metadata": {
        "id": "ZPAMUjUp1l7E"
      },
      "source": [
        "tumpukan_warna = ['Biru','Merah','Hijau','Ungu','Hitam']"
      ],
      "execution_count": null,
      "outputs": []
    },
    {
      "cell_type": "code",
      "metadata": {
        "colab": {
          "base_uri": "https://localhost:8080/"
        },
        "id": "u1CCoT9B1xSS",
        "outputId": "c3800352-56b4-4a35-f0ff-dc9a7d0f1878"
      },
      "source": [
        "#append, menambahkan niali diakhir list (hanya 1 nilai saja)\n",
        "tumpukan_warna.append('Jingga')\n",
        "tumpukan_warna"
      ],
      "execution_count": null,
      "outputs": [
        {
          "output_type": "execute_result",
          "data": {
            "text/plain": [
              "['Biru', 'Merah', 'Hijau', 'Ungu', 'Hitam', 'Jingga']"
            ]
          },
          "metadata": {},
          "execution_count": 30
        }
      ]
    },
    {
      "cell_type": "code",
      "metadata": {
        "colab": {
          "base_uri": "https://localhost:8080/"
        },
        "id": "nqQtNmOc187h",
        "outputId": "74c34ab3-6e12-48aa-e221-f9d927ad99d8"
      },
      "source": [
        "#extend, menambahkan banyak elemen di akhir list\n",
        "tumpukan_warna.extend(['Putih','Tosca'])\n",
        "tumpukan_warna"
      ],
      "execution_count": null,
      "outputs": [
        {
          "output_type": "execute_result",
          "data": {
            "text/plain": [
              "['Biru', 'Merah', 'Hijau', 'Ungu', 'Hitam', 'Jingga', 'Putih', 'Tosca']"
            ]
          },
          "metadata": {},
          "execution_count": 31
        }
      ]
    },
    {
      "cell_type": "code",
      "metadata": {
        "colab": {
          "base_uri": "https://localhost:8080/"
        },
        "id": "GIJcl5lb2LRx",
        "outputId": "ea3edf79-04e7-4aff-f13b-ac5d99c4006b"
      },
      "source": [
        "#index, mencari index dari nilai tertentu yang ada di list\n",
        "tumpukan_warna.index('Hijau')"
      ],
      "execution_count": null,
      "outputs": [
        {
          "output_type": "execute_result",
          "data": {
            "text/plain": [
              "2"
            ]
          },
          "metadata": {},
          "execution_count": 32
        }
      ]
    },
    {
      "cell_type": "code",
      "metadata": {
        "colab": {
          "base_uri": "https://localhost:8080/",
          "height": 35
        },
        "id": "o1ZNFNPg2Ti0",
        "outputId": "b5f6b768-a386-4cd4-b7de-0a4945c4ba2c"
      },
      "source": [
        "#min, mencari nilai terkecil dari list\n",
        "min(tumpukan_warna)"
      ],
      "execution_count": null,
      "outputs": [
        {
          "output_type": "execute_result",
          "data": {
            "application/vnd.google.colaboratory.intrinsic+json": {
              "type": "string"
            },
            "text/plain": [
              "'Biru'"
            ]
          },
          "metadata": {},
          "execution_count": 33
        }
      ]
    },
    {
      "cell_type": "code",
      "metadata": {
        "colab": {
          "base_uri": "https://localhost:8080/",
          "height": 35
        },
        "id": "2sAFXZAM2awY",
        "outputId": "7d97482e-bbc3-41c8-b9ad-62ac72f1e0b5"
      },
      "source": [
        "#max, mencari nilai terbesar dari list\n",
        "max(tumpukan_warna)"
      ],
      "execution_count": null,
      "outputs": [
        {
          "output_type": "execute_result",
          "data": {
            "application/vnd.google.colaboratory.intrinsic+json": {
              "type": "string"
            },
            "text/plain": [
              "'Ungu'"
            ]
          },
          "metadata": {},
          "execution_count": 34
        }
      ]
    },
    {
      "cell_type": "code",
      "metadata": {
        "colab": {
          "base_uri": "https://localhost:8080/"
        },
        "id": "rbcIn1ER2hkg",
        "outputId": "6b515f32-5521-4afb-8e87-de87fc0221b7"
      },
      "source": [
        "#sort, mengurutkan\n",
        "tumpukan_warna.sort()\n",
        "tumpukan_warna"
      ],
      "execution_count": null,
      "outputs": [
        {
          "output_type": "execute_result",
          "data": {
            "text/plain": [
              "['Biru', 'Hijau', 'Hitam', 'Jingga', 'Merah', 'Putih', 'Tosca', 'Ungu']"
            ]
          },
          "metadata": {},
          "execution_count": 35
        }
      ]
    },
    {
      "cell_type": "code",
      "metadata": {
        "colab": {
          "base_uri": "https://localhost:8080/"
        },
        "id": "bxPjdAJh2tEQ",
        "outputId": "048d2e56-90af-47ea-cadf-53fcac74ab6c"
      },
      "source": [
        "#clear, menghapus semua elemen dari list\n",
        "tumpukan_warna.clear()\n",
        "tumpukan_warna"
      ],
      "execution_count": null,
      "outputs": [
        {
          "output_type": "execute_result",
          "data": {
            "text/plain": [
              "[]"
            ]
          },
          "metadata": {},
          "execution_count": 36
        }
      ]
    },
    {
      "cell_type": "code",
      "metadata": {
        "id": "2Qy6nHBb21iw"
      },
      "source": [
        "tumpukan_warna = ['Biru','Merah','Hijau','Ungu','Hitam']"
      ],
      "execution_count": null,
      "outputs": []
    },
    {
      "cell_type": "code",
      "metadata": {
        "colab": {
          "base_uri": "https://localhost:8080/"
        },
        "id": "YowcXSHu29_D",
        "outputId": "a6aa4420-544e-4085-fb38-c92386c7515a"
      },
      "source": [
        "#len, menghitung jumlah elemen dalam list\n",
        "len(tumpukan_warna)"
      ],
      "execution_count": null,
      "outputs": [
        {
          "output_type": "execute_result",
          "data": {
            "text/plain": [
              "5"
            ]
          },
          "metadata": {},
          "execution_count": 38
        }
      ]
    },
    {
      "cell_type": "code",
      "metadata": {
        "colab": {
          "base_uri": "https://localhost:8080/"
        },
        "id": "yFidr4Ek3Ep1",
        "outputId": "128570e9-efd5-44d1-fa1b-3f524f27f70a"
      },
      "source": [
        "#insert, memasukkan elemen baru pada urutan tertentu\n",
        "tumpukan_warna.insert(0, 'Orange')\n",
        "tumpukan_warna"
      ],
      "execution_count": null,
      "outputs": [
        {
          "output_type": "execute_result",
          "data": {
            "text/plain": [
              "['Orange', 'Biru', 'Merah', 'Hijau', 'Ungu', 'Hitam']"
            ]
          },
          "metadata": {},
          "execution_count": 39
        }
      ]
    },
    {
      "cell_type": "code",
      "metadata": {
        "colab": {
          "base_uri": "https://localhost:8080/"
        },
        "id": "jnbZhhtx3QbN",
        "outputId": "eea99243-9174-41d3-cb73-f02871075321"
      },
      "source": [
        "#remove, menghapus elemen dengan nilai tertentu\n",
        "tumpukan_warna.remove('Orange')\n",
        "tumpukan_warna"
      ],
      "execution_count": null,
      "outputs": [
        {
          "output_type": "execute_result",
          "data": {
            "text/plain": [
              "['Biru', 'Merah', 'Hijau', 'Ungu', 'Hitam']"
            ]
          },
          "metadata": {},
          "execution_count": 40
        }
      ]
    },
    {
      "cell_type": "code",
      "metadata": {
        "colab": {
          "base_uri": "https://localhost:8080/"
        },
        "id": "bBM2eaXh3bHN",
        "outputId": "fac95584-b7df-4898-eaef-3fc302657ca6"
      },
      "source": [
        "#reverse, membalik urutan elemen dalam list\n",
        "tumpukan_warna.reverse()\n",
        "tumpukan_warna"
      ],
      "execution_count": null,
      "outputs": [
        {
          "output_type": "execute_result",
          "data": {
            "text/plain": [
              "['Hitam', 'Ungu', 'Hijau', 'Merah', 'Biru']"
            ]
          },
          "metadata": {},
          "execution_count": 41
        }
      ]
    },
    {
      "cell_type": "code",
      "metadata": {
        "colab": {
          "base_uri": "https://localhost:8080/"
        },
        "id": "CCInSmAz3t_R",
        "outputId": "12845199-334b-4dca-cb14-83d5e51e1233"
      },
      "source": [
        "#pop, menghapus elemen terakhir dari list\n",
        "tumpukan_warna.pop()\n",
        "tumpukan_warna"
      ],
      "execution_count": null,
      "outputs": [
        {
          "output_type": "execute_result",
          "data": {
            "text/plain": [
              "['Hitam', 'Ungu', 'Hijau', 'Merah']"
            ]
          },
          "metadata": {},
          "execution_count": 42
        }
      ]
    },
    {
      "cell_type": "code",
      "metadata": {
        "colab": {
          "base_uri": "https://localhost:8080/"
        },
        "id": "3xJhZJUT32Un",
        "outputId": "c9f7d5e6-f4ad-4e2d-d1de-23052bd33ea5"
      },
      "source": [
        "#count, menghitung jumlah elemen dengan nilai tertentu\n",
        "tumpukan_warna.count('Hijau')"
      ],
      "execution_count": null,
      "outputs": [
        {
          "output_type": "execute_result",
          "data": {
            "text/plain": [
              "1"
            ]
          },
          "metadata": {},
          "execution_count": 43
        }
      ]
    },
    {
      "cell_type": "code",
      "metadata": {
        "colab": {
          "base_uri": "https://localhost:8080/"
        },
        "id": "Inpr8vqY4I5E",
        "outputId": "2d792aa0-eeff-48e1-af7c-e6fb9fe1260d"
      },
      "source": [
        "#copy, menduplikat elemen dalam list ke dalam variabel baru\n",
        "tumpukan_warna2 = tumpukan_warna.copy()\n",
        "tumpukan_warna2"
      ],
      "execution_count": null,
      "outputs": [
        {
          "output_type": "execute_result",
          "data": {
            "text/plain": [
              "['Hitam', 'Ungu', 'Hijau', 'Merah']"
            ]
          },
          "metadata": {},
          "execution_count": 44
        }
      ]
    },
    {
      "cell_type": "code",
      "metadata": {
        "id": "BHr0569k4jCF",
        "colab": {
          "base_uri": "https://localhost:8080/"
        },
        "outputId": "3fa74021-83d2-4f1c-88bb-246b00761bcc"
      },
      "source": [
        "#perbedaan fungsi copy dan re-assignment\n",
        "a = [1,2,3]\n",
        "\n",
        "#isi b dengan a, tapi sebenarnya b hanya melakukan copy identitas objek a\n",
        "b = a\n",
        "c = a.copy()\n",
        "#apabila a[0] kita ubah, maka b[0] pun berubah\n",
        "a[0] = 100\n",
        "\n",
        "#fungsi id() dapat digunakan untuk mengetahui identitas dari suatu objek\n",
        "print(\"ID a:\", id(b))\n",
        "print(\"ID b:\", id(a))\n",
        "print(\"a:\", a)\n",
        "print(\"b:\", b)\n",
        "\n",
        "print(\"ID c:\", id(c))\n",
        "print(\"c:\", c)"
      ],
      "execution_count": null,
      "outputs": [
        {
          "output_type": "stream",
          "name": "stdout",
          "text": [
            "ID a: 139778254522320\n",
            "ID b: 139778254522320\n",
            "a: [100, 2, 3]\n",
            "b: [100, 2, 3]\n",
            "ID c: 139778254522400\n",
            "c: [1, 2, 3]\n"
          ]
        }
      ]
    },
    {
      "cell_type": "markdown",
      "metadata": {
        "id": "j_ibCI3qj4k0"
      },
      "source": [
        "## Stack (Tumpukan)"
      ]
    },
    {
      "cell_type": "code",
      "metadata": {
        "id": "V1UTz9blj4k0"
      },
      "source": [
        "angka = [1,3,5,3,3,5]"
      ],
      "execution_count": null,
      "outputs": []
    },
    {
      "cell_type": "code",
      "metadata": {
        "id": "C3Ny4Gdnj4k0",
        "colab": {
          "base_uri": "https://localhost:8080/"
        },
        "outputId": "98e6335f-d04e-42e6-cc92-2873c9a59847"
      },
      "source": [
        "# Stack -> First In Last Out\n",
        "lemari = [\"Sarung\", \"Celana Dasar\", \n",
        "        \"Kemeja Putih\", \"Selimut\"]\n",
        "lemari.append(\"Jaket Hoodie\")\n",
        "print(lemari)"
      ],
      "execution_count": null,
      "outputs": [
        {
          "output_type": "stream",
          "name": "stdout",
          "text": [
            "['Sarung', 'Celana Dasar', 'Kemeja Putih', 'Selimut', 'Jaket Hoodie']\n"
          ]
        }
      ]
    },
    {
      "cell_type": "code",
      "metadata": {
        "id": "u9Knuyymj4k1",
        "colab": {
          "base_uri": "https://localhost:8080/"
        },
        "outputId": "8c0191ef-f60a-4501-de7a-800cecb04a99"
      },
      "source": [
        "# Stack -> First In Last Out\n",
        "lemari = [\"Sarung\", \"Celana Dasar\"\n",
        "          , \"Kemeja Putih\", \"Selimut\"\n",
        "          , \"Jaket Hoodie\"\n",
        "         ]\n",
        "\n",
        "lemari.pop()\n",
        "print(lemari)"
      ],
      "execution_count": null,
      "outputs": [
        {
          "output_type": "stream",
          "name": "stdout",
          "text": [
            "['Sarung', 'Celana Dasar', 'Kemeja Putih', 'Selimut']\n"
          ]
        }
      ]
    },
    {
      "cell_type": "markdown",
      "metadata": {
        "id": "Ez0HhI01j4k1"
      },
      "source": [
        "## Queue (read: qiu)\n",
        "- TODO: Teori dan ilustrasi"
      ]
    },
    {
      "cell_type": "code",
      "metadata": {
        "id": "70DOHb6Rj4k2",
        "colab": {
          "base_uri": "https://localhost:8080/"
        },
        "outputId": "efe714be-1508-4ab5-f54c-8cfcb8a8df6c"
      },
      "source": [
        "# Queue -> First in First Out\n",
        "antrian_vaksin = [\"Andy\", \"Bobby\", \n",
        "                  \"Caca\", \"Doni\",\n",
        "                  \"Erna\"\n",
        "                 ]\n",
        "antrian_vaksin.append(\"Fani\")\n",
        "print(antrian_vaksin)"
      ],
      "execution_count": null,
      "outputs": [
        {
          "output_type": "stream",
          "name": "stdout",
          "text": [
            "['Andy', 'Bobby', 'Caca', 'Doni', 'Erna', 'Fani']\n"
          ]
        }
      ]
    },
    {
      "cell_type": "code",
      "metadata": {
        "id": "IuVj-512j4k2",
        "colab": {
          "base_uri": "https://localhost:8080/"
        },
        "outputId": "8368aa39-100d-4fac-e681-3c94539f0e30"
      },
      "source": [
        "antrian_vaksin = [\"Andy\", \"Bobby\", \n",
        "                  \"Caca\", \"Doni\",\n",
        "                  \"Erna\", \"Fani\"\n",
        "                 ]\n",
        "antrian_vaksin.pop(0)\n",
        "print(antrian_vaksin)"
      ],
      "execution_count": null,
      "outputs": [
        {
          "output_type": "stream",
          "name": "stdout",
          "text": [
            "['Bobby', 'Caca', 'Doni', 'Erna', 'Fani']\n"
          ]
        }
      ]
    },
    {
      "cell_type": "markdown",
      "metadata": {
        "id": "we0dYRpGs2Y1"
      },
      "source": [
        "## Queue (read: qiu)\n",
        "- TODO: Teori dan ilustrasi"
      ]
    },
    {
      "cell_type": "code",
      "metadata": {
        "colab": {
          "base_uri": "https://localhost:8080/"
        },
        "id": "3k-5RmuRs2Y2",
        "outputId": "c544998b-b5d7-4378-d288-761c16b14b5e"
      },
      "source": [
        "# Queue -> First in First Out\n",
        "antrian_vaksin = [\"Andy\", \"Bobby\", \n",
        "                  \"Caca\", \"Doni\",\n",
        "                  \"Erna\"\n",
        "                 ]\n",
        "antrian_vaksin.append(\"Fani\")\n",
        "print(antrian_vaksin)"
      ],
      "execution_count": null,
      "outputs": [
        {
          "output_type": "stream",
          "name": "stdout",
          "text": [
            "['Andy', 'Bobby', 'Caca', 'Doni', 'Erna', 'Fani']\n"
          ]
        }
      ]
    },
    {
      "cell_type": "code",
      "metadata": {
        "colab": {
          "base_uri": "https://localhost:8080/"
        },
        "id": "IWH7E36Ts2Y3",
        "outputId": "3a38272b-3664-4f5c-b576-bed39fbf8d93"
      },
      "source": [
        "antrian_vaksin = [\"Andy\", \"Bobby\", \n",
        "                  \"Caca\", \"Doni\",\n",
        "                  \"Erna\", \"Fani\"\n",
        "                 ]\n",
        "antrian_vaksin.pop(0)\n",
        "print(antrian_vaksin)"
      ],
      "execution_count": null,
      "outputs": [
        {
          "output_type": "stream",
          "name": "stdout",
          "text": [
            "['Bobby', 'Caca', 'Doni', 'Erna', 'Fani']\n"
          ]
        }
      ]
    },
    {
      "cell_type": "markdown",
      "metadata": {
        "id": "8Wk1mAaij4k2"
      },
      "source": [
        "# Activity\n",
        "## 1. Code Refactoring\n",
        "### 1.1 Ubah gaya penulisan kode program berikut sesuai dengan standar PEP8"
      ]
    },
    {
      "cell_type": "code",
      "metadata": {
        "colab": {
          "base_uri": "https://localhost:8080/"
        },
        "id": "xGU8-fQes5u7",
        "outputId": "bea8536b-91e9-44da-e888-01457d80fc19"
      },
      "source": [
        "#program untuk menghitung luas dan keliling lingkaran\n",
        "\n",
        "PI = 3.14\n",
        "\n",
        "def hitung_luas_lingkaran(jari_jari):\n",
        "  luas = PI * jari_jari**2\n",
        "  return luas\n",
        "\n",
        "def hitung_keliling_lingkaran(jari_jari):\n",
        "  keliling = 2 * PI * jari_jari\n",
        "  return keliling\n",
        "\n",
        "def tampilkan_menu():\n",
        "  print('')\n",
        "  print('----------------------------------------------------')\n",
        "  print('Program untuk Menghitung Luas dan Keliling Lingkaran')\n",
        "  print('Mau ngitung apa nih bre?')\n",
        "  print('1. Luas Lingkaran')\n",
        "  print('2. Keliling Lingkaran')\n",
        "  print('3. Stop Program')\n",
        "  print('')\n",
        "\n",
        "pil = 'bukan 3'\n",
        "while pil != '3':\n",
        "   tampilkan_menu()\n",
        "   pil = input('Pilihan: ')\n",
        "   \n",
        "   if pil == '1':\n",
        "     jari_jari = input('Jari-Jari: ')\n",
        "     jari_jari = float(jari_jari)\n",
        "     hasil_luas = hitung_luas_lingkaran(jari_jari)\n",
        "     print('Luas Lingkaran =',hasil_luas)\n",
        "   \n",
        "   elif pil == '2':\n",
        "     jari_jari = input('Jari-Jari: ')\n",
        "     jari_jari = float(jari_jari)\n",
        "     hasil_keliling = hitung_keliling_lingkaran(jari_jari)\n",
        "     print('Keliling Lingkaran =',hasil_keliling)\n",
        "   \n",
        "   elif pil == '3':\n",
        "     print('TERIMA KASIH TELAH MENGGUNAKAN PROGRAM INI')\n",
        "     break\n",
        "   \n",
        "   else:\n",
        "     print('Pilihan tidak tersedia')\n",
        "     tampilkan_menu()"
      ],
      "execution_count": null,
      "outputs": [
        {
          "output_type": "stream",
          "name": "stdout",
          "text": [
            "\n",
            "----------------------------------------------------\n",
            "Program untuk Menghitung Luas dan Keliling Lingkaran\n",
            "Mau ngitung apa nih bre?\n",
            "1. Luas Lingkaran\n",
            "2. Keliling Lingkaran\n",
            "3. Stop Program\n",
            "\n",
            "Pilihan: 3\n",
            "TERIMA KASIH TELAH MENGGUNAKAN PROGRAM INI\n"
          ]
        }
      ]
    },
    {
      "cell_type": "markdown",
      "metadata": {
        "id": "EI3tFPZD3ejW"
      },
      "source": [
        "### 1.2 Ubah gaya penulisan kode program berikut sesuai dengan standar PEP8"
      ]
    },
    {
      "cell_type": "code",
      "metadata": {
        "colab": {
          "base_uri": "https://localhost:8080/"
        },
        "id": "WHU00JwTzN5y",
        "outputId": "adf9ac13-6a22-4946-f178-2c0504ea9471"
      },
      "source": [
        "\"\"\"\n",
        "Requirement Main Layangan:\n",
        "- Nggak Hujan\n",
        "- Kecepatan angin 5-30 km/s\n",
        "\"\"\"\n",
        "\n",
        "def main_layangan():\n",
        "  \n",
        "  hujan = input(\"Lagi hujan nggak? (y/n) : \")\n",
        "  if hujan == 'y' or hujan == 'Y':\n",
        "    hujan = True\n",
        "  else:\n",
        "    hujan = False\n",
        "\n",
        "  kecepatan_angin = int(input('Masukkan kecepatan angin : '))\n",
        "\n",
        "  if hujan == True:\n",
        "    print('Nggak bisa main layangan')\n",
        "    return False\n",
        "  else:\n",
        "    if kecepatan_angin >= 5 and kecepatan_angin <= 30:\n",
        "      print('Asiiik, gass main layangan')\n",
        "      return True\n",
        "    else:\n",
        "      print('Skipp, mending main ep ep')\n",
        "      return False\n",
        "\n",
        "capek = main_layangan()\n",
        "if capek == True:\n",
        "  print('Istirahat')\n",
        "else:\n",
        "  print('Gass main ep ep')"
      ],
      "execution_count": null,
      "outputs": [
        {
          "output_type": "stream",
          "name": "stdout",
          "text": [
            "Lagi hujan nggak? (y/n) : n\n",
            "Masukkan kecepatan angin : 12\n",
            "Asiiik, gass main layangan\n",
            "Istirahat\n"
          ]
        }
      ]
    },
    {
      "cell_type": "markdown",
      "metadata": {
        "id": "T_62CS4pvl3O"
      },
      "source": [
        "## 2. Memilih delegasi Tim Sudirman Cup dari Indonesia\n",
        "\n",
        "Berikut adalah data nama pemain bulu tangkis Indonesia beserta medali yang sudah diraih selama 2020 - 2021: \n"
      ]
    },
    {
      "cell_type": "code",
      "metadata": {
        "id": "udgtporlGLnU"
      },
      "source": [
        "pemain_dan_medali = [[7, 'Ginting'], [5, 'Jonathan C.'], [9, 'Hendra'], \n",
        "                     [9, 'Ahsan'], [8, 'Markus'], [8, 'Kevin'], [4, 'Gregoria'],\n",
        "                     [6, 'Praveen'], [6, 'Melati'], [7, 'Greysia'], [7, 'Apriani'],\n",
        "                     [5, 'Putri'], [5, 'Rian'], [5, 'Fajar']]"
      ],
      "execution_count": null,
      "outputs": []
    },
    {
      "cell_type": "markdown",
      "metadata": {
        "id": "xmKFzuRgxB_S"
      },
      "source": [
        "> Buatlah program seleksi pemain bulu tangkis untuk Tim Sudirman dengan menerapkan konsep `Clean Code`"
      ]
    },
    {
      "cell_type": "code",
      "metadata": {
        "id": "dXKm2My10I5i",
        "colab": {
          "base_uri": "https://localhost:8080/"
        },
        "outputId": "6e84ae8c-643c-448b-e2fc-6b554a8674c7"
      },
      "source": [
        "\"\"\"\n",
        "Buat list baru dengan mengurutkan list diatas berdasarkan medali yang \n",
        "diraih dari yang paling banyak\n",
        "\"\"\"\n",
        "\n",
        "pemain_dan_medali.sort()\n",
        "pemain_dan_medali"
      ],
      "execution_count": null,
      "outputs": [
        {
          "output_type": "execute_result",
          "data": {
            "text/plain": [
              "[[4, 'Gregoria'],\n",
              " [5, 'Fajar'],\n",
              " [5, 'Jonathan C.'],\n",
              " [5, 'Putri'],\n",
              " [5, 'Rian'],\n",
              " [6, 'Melati'],\n",
              " [6, 'Praveen'],\n",
              " [7, 'Apriani'],\n",
              " [7, 'Ginting'],\n",
              " [7, 'Greysia'],\n",
              " [8, 'Kevin'],\n",
              " [8, 'Markus'],\n",
              " [9, 'Ahsan'],\n",
              " [9, 'Hendra']]"
            ]
          },
          "metadata": {},
          "execution_count": 124
        }
      ]
    },
    {
      "cell_type": "code",
      "metadata": {
        "colab": {
          "base_uri": "https://localhost:8080/"
        },
        "id": "Z6heJ6JWDCAm",
        "outputId": "9f2f4325-b977-4589-f323-46791e544f80"
      },
      "source": [
        "\"\"\"\n",
        "Dengan looping, buatlah 2 list terpisah dari pemain dan juga medalinya, namun urutannya\n",
        "harus tetap sama dengan yang diatas\n",
        "\"\"\"\n",
        "\n",
        "perolehan_medali = []\n",
        "pemain = []\n",
        "\n",
        "for i in range(len(pemain_dan_medali)):\n",
        "  perolehan_medali.append(pemain_dan_medali[i][0])\n",
        "  pemain.append(pemain_dan_medali[i][1])\n",
        "\n",
        "print(perolehan_medali)\n",
        "print(pemain)\n",
        "  "
      ],
      "execution_count": null,
      "outputs": [
        {
          "output_type": "stream",
          "name": "stdout",
          "text": [
            "[4, 5, 5, 5, 5, 6, 6, 7, 7, 7, 8, 8, 9, 9]\n",
            "['Gregoria', 'Fajar', 'Jonathan C.', 'Putri', 'Rian', 'Melati', 'Praveen', 'Apriani', 'Ginting', 'Greysia', 'Kevin', 'Markus', 'Ahsan', 'Hendra']\n"
          ]
        }
      ]
    }
  ]
}