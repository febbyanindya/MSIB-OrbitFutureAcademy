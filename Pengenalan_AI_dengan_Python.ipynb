{
  "nbformat": 4,
  "nbformat_minor": 0,
  "metadata": {
    "colab": {
      "name": "Pengenalan AI dengan Python.ipynb",
      "provenance": [],
      "collapsed_sections": [],
      "authorship_tag": "ABX9TyPuAUDsAkZbaGTJ04XVy6No",
      "include_colab_link": true
    },
    "kernelspec": {
      "name": "python3",
      "display_name": "Python 3"
    },
    "language_info": {
      "name": "python"
    }
  },
  "cells": [
    {
      "cell_type": "markdown",
      "metadata": {
        "id": "view-in-github",
        "colab_type": "text"
      },
      "source": [
        "<a href=\"https://colab.research.google.com/github/febbyanindya/MSIB-OrbitFutureAcademy/blob/Python/Pengenalan_AI_dengan_Python.ipynb\" target=\"_parent\"><img src=\"https://colab.research.google.com/assets/colab-badge.svg\" alt=\"Open In Colab\"/></a>"
      ]
    },
    {
      "cell_type": "markdown",
      "metadata": {
        "id": "YIhPyZKuJBXE"
      },
      "source": [
        "# Pengenalan AI dengan Python\n",
        "Sebelum lanjut, harap:\n",
        "1. Jika menggunakan jupyter, silahkan pilih \"File\" --> \"Download\" --> \"Download .ipynb\"\n",
        "2. Jika menggunakan colab, silahkan pilih \"File\" --> \"Save a copy in drive\""
      ]
    },
    {
      "cell_type": "markdown",
      "metadata": {
        "id": "-SXGWV2HJGeG"
      },
      "source": [
        "Materi : \n",
        "1. Reading & Writing File\n",
        "2. Operasi Matematika & Numpy\n",
        "3. Pandas & Statistik Deskriptif\n",
        "4. Library untuk Visualisasi"
      ]
    },
    {
      "cell_type": "markdown",
      "metadata": {
        "id": "dlWgedC5JLdL"
      },
      "source": [
        "## Reading & Writing File"
      ]
    },
    {
      "cell_type": "markdown",
      "metadata": {
        "id": "QB1BrF_pJMVW"
      },
      "source": [
        "### Fungsi 'open'\n",
        "1. Struktur menggunakan \"with\"\n",
        "<img src=\"https://s3-api.us-geo.objectstorage.softlayer.net/cf-courses-data/CognitiveClass/PY0101EN/Chapter%204/Images/ReadWith.png\" width=\"500\" />\n",
        "\n",
        "2. Struktur menggunakan \"file object\"\n",
        "<img src=\"https://s3-api.us-geo.objectstorage.softlayer.net/cf-courses-data/CognitiveClass/PY0101EN/Chapter%204/Images/ReadOpen.png\" width=\"500\" />\n",
        "\n",
        "Keterangan mode:\n",
        "*   Read (kode: **r**) – membaca sebuah file (**r+** artinya sekaligus menulis)\n",
        "*   Write (kode: **w**) – menulis sebuah file (**w+** artinya sekaligus membaca)\n",
        "*   Append (kode: **a**) – menambah isi sebuah file (**a+** artinya sekaligus membaca)\n"
      ]
    },
    {
      "cell_type": "code",
      "metadata": {
        "id": "ylUSGErII4b6"
      },
      "source": [
        "import os\n",
        "#menambah folder 'latihan'\n",
        "os.makedirs('latihan')"
      ],
      "execution_count": 2,
      "outputs": []
    },
    {
      "cell_type": "code",
      "metadata": {
        "id": "VClanwdnKhWi"
      },
      "source": [
        "# Menulis file baru\n",
        "with open('latihan/contoh.txt', 'w') as c:\n",
        "  c.write('saya keren.')  #hanya bisa menulis karena modenya 'w' bukan 'w+'"
      ],
      "execution_count": 3,
      "outputs": []
    },
    {
      "cell_type": "code",
      "metadata": {
        "colab": {
          "base_uri": "https://localhost:8080/",
          "height": 51
        },
        "id": "_DyTpXK9Ms1-",
        "outputId": "b2b2007a-978d-4ef2-9ea7-15dd5c33f93f"
      },
      "source": [
        "# Membaca file dengan 'with'\n",
        "with open('latihan/contoh.txt', 'r') as c:\n",
        "  print(c.read())\n",
        "# Membaca file dengan \"file object\"\n",
        "file = open('latihan/contoh.txt', 'r')\n",
        "file.read()"
      ],
      "execution_count": 4,
      "outputs": [
        {
          "output_type": "stream",
          "name": "stdout",
          "text": [
            "saya keren.\n"
          ]
        },
        {
          "output_type": "execute_result",
          "data": {
            "application/vnd.google.colaboratory.intrinsic+json": {
              "type": "string"
            },
            "text/plain": [
              "'saya keren.'"
            ]
          },
          "metadata": {},
          "execution_count": 4
        }
      ]
    },
    {
      "cell_type": "markdown",
      "metadata": {
        "id": "2y7B5y7qNZWV"
      },
      "source": [
        "### Membedakan \"write\" dan \"append\""
      ]
    },
    {
      "cell_type": "code",
      "metadata": {
        "colab": {
          "base_uri": "https://localhost:8080/",
          "height": 35
        },
        "id": "aA6ofpOKOAda",
        "outputId": "af2e4c6f-c920-46f3-ac0c-202d8df4a6ff"
      },
      "source": [
        "# Append\n",
        "file = open('latihan/contoh.txt', 'a+')\n",
        "file.write(' Belajar AI menyenangkan.')\n",
        "file.seek(0)    #seek(0) artinya mulai dari huruf yang pertama (indeks 0)\n",
        "file.read()     #bisa sekaligus read karena modenya a+"
      ],
      "execution_count": 5,
      "outputs": [
        {
          "output_type": "execute_result",
          "data": {
            "application/vnd.google.colaboratory.intrinsic+json": {
              "type": "string"
            },
            "text/plain": [
              "'saya keren. Belajar AI menyenangkan.'"
            ]
          },
          "metadata": {},
          "execution_count": 5
        }
      ]
    },
    {
      "cell_type": "code",
      "metadata": {
        "colab": {
          "base_uri": "https://localhost:8080/",
          "height": 35
        },
        "id": "uDS2k3oUOTSu",
        "outputId": "6bb9f20d-2756-4256-b4fa-d5719902ec29"
      },
      "source": [
        "# Write\n",
        "file = open('latihan/contoh.txt', 'w+')\n",
        "file.write(' Belajar AI menyenangkan.')\n",
        "file.seek(0)\n",
        "file.read()     #bisa sekaligus read karena modenya w+"
      ],
      "execution_count": 6,
      "outputs": [
        {
          "output_type": "execute_result",
          "data": {
            "application/vnd.google.colaboratory.intrinsic+json": {
              "type": "string"
            },
            "text/plain": [
              "' Belajar AI menyenangkan.'"
            ]
          },
          "metadata": {},
          "execution_count": 6
        }
      ]
    },
    {
      "cell_type": "markdown",
      "metadata": {
        "id": "ehevhkT7Ot_O"
      },
      "source": [
        "Bisa kah kamu melihat perbedaannya?"
      ]
    },
    {
      "cell_type": "code",
      "metadata": {
        "colab": {
          "base_uri": "https://localhost:8080/"
        },
        "id": "skZgdJfJOvAJ",
        "outputId": "421fba8a-f8e6-4ee3-ca62-f81637c10fc7"
      },
      "source": [
        "# Mengetahui nama file dan lokasinya\n",
        "print(file.name)\n",
        "\n",
        "# Mengetahui mode dari file\n",
        "print(file.mode)"
      ],
      "execution_count": 7,
      "outputs": [
        {
          "output_type": "stream",
          "name": "stdout",
          "text": [
            "latihan/contoh.txt\n",
            "w+\n"
          ]
        }
      ]
    },
    {
      "cell_type": "markdown",
      "metadata": {
        "id": "48U6Z4rJP53o"
      },
      "source": [
        "### Latihan 1 (menulis file)\n",
        "\n",
        "Buat file baru di folder \"latihan\", namanya \"kata bung karno.txt\". Isinya : \"Bermimpilah setinggi langit. Jika engkau jatuh, kau kan jatuh di antara bintang-bintang. \""
      ]
    },
    {
      "cell_type": "code",
      "metadata": {
        "colab": {
          "base_uri": "https://localhost:8080/",
          "height": 35
        },
        "id": "Zl6wFd_1QACH",
        "outputId": "ef528f2e-44b9-4290-8190-0246dc3d3471"
      },
      "source": [
        "#Jawaban\n",
        "file = open('latihan/kata_bung_karno.txt','w+')\n",
        "file.write('Bermimpilah setinggi langit. Jika engkau jatuh, kau akan \\\n",
        "jatuh diantara bintang-bintang.')\n",
        "file.seek(0)\n",
        "file.read()"
      ],
      "execution_count": 8,
      "outputs": [
        {
          "output_type": "execute_result",
          "data": {
            "application/vnd.google.colaboratory.intrinsic+json": {
              "type": "string"
            },
            "text/plain": [
              "'Bermimpilah setinggi langit. Jika engkau jatuh, kau akan jatuh diantara bintang-bintang.'"
            ]
          },
          "metadata": {},
          "execution_count": 8
        }
      ]
    },
    {
      "cell_type": "markdown",
      "metadata": {
        "id": "_CdCNZKlRqTe"
      },
      "source": [
        "## Operasi Matematika & Numpy\n",
        "Numpy → library untuk membantu operasi matematika di python.\n"
      ]
    },
    {
      "cell_type": "code",
      "metadata": {
        "id": "w4Ub-C2iRrOx"
      },
      "source": [
        "import numpy as np"
      ],
      "execution_count": 9,
      "outputs": []
    },
    {
      "cell_type": "markdown",
      "metadata": {
        "id": "oD7m-WDyRurw"
      },
      "source": [
        "### Pengenalan array"
      ]
    },
    {
      "cell_type": "code",
      "metadata": {
        "colab": {
          "base_uri": "https://localhost:8080/"
        },
        "id": "DFKdImA-Rxqc",
        "outputId": "eb99e5d4-0234-4c9e-82a0-e697d9ce7e4d"
      },
      "source": [
        "# 1D array\n",
        "a = np.array([3, 1, 5, 6])\n",
        "print('Banyaknya entri = ',a.size)\n",
        "print('Dimensi array = ',a.ndim)\n",
        "print('Ukuran array = ',a.shape)"
      ],
      "execution_count": 10,
      "outputs": [
        {
          "output_type": "stream",
          "name": "stdout",
          "text": [
            "Banyaknya entri =  4\n",
            "Dimensi array =  1\n",
            "Ukuran array =  (4,)\n"
          ]
        }
      ]
    },
    {
      "cell_type": "code",
      "metadata": {
        "colab": {
          "base_uri": "https://localhost:8080/"
        },
        "id": "0UiNGSlCSIdx",
        "outputId": "488829cf-a920-4f6d-9860-b56a2950e0bc"
      },
      "source": [
        "# Slicing\n",
        "a[1:]"
      ],
      "execution_count": 11,
      "outputs": [
        {
          "output_type": "execute_result",
          "data": {
            "text/plain": [
              "array([1, 5, 6])"
            ]
          },
          "metadata": {},
          "execution_count": 11
        }
      ]
    },
    {
      "cell_type": "code",
      "metadata": {
        "colab": {
          "base_uri": "https://localhost:8080/"
        },
        "id": "C9aw568zSQsQ",
        "outputId": "6d61ef36-75f5-4c35-d04e-b0b4cd3a4c78"
      },
      "source": [
        "print('a[1:3] = ',a[1:3])\n",
        "print('a[:3] = ',a[:3])"
      ],
      "execution_count": 12,
      "outputs": [
        {
          "output_type": "stream",
          "name": "stdout",
          "text": [
            "a[1:3] =  [1 5]\n",
            "a[:3] =  [3 1 5]\n"
          ]
        }
      ]
    },
    {
      "cell_type": "code",
      "metadata": {
        "colab": {
          "base_uri": "https://localhost:8080/"
        },
        "id": "ALI8wh4aSinz",
        "outputId": "4e355063-9484-470d-9bc1-eecc9a4c6c58"
      },
      "source": [
        "# 2D Array (Matriks)\n",
        "A = np.array([[1,2,3],[4,5,6],[7,8,9]])\n",
        "print(A)"
      ],
      "execution_count": 13,
      "outputs": [
        {
          "output_type": "stream",
          "name": "stdout",
          "text": [
            "[[1 2 3]\n",
            " [4 5 6]\n",
            " [7 8 9]]\n"
          ]
        }
      ]
    },
    {
      "cell_type": "markdown",
      "metadata": {
        "id": "XksrZAsDSx4S"
      },
      "source": [
        "###Latihan-2 (2D array)"
      ]
    },
    {
      "cell_type": "code",
      "metadata": {
        "colab": {
          "base_uri": "https://localhost:8080/"
        },
        "id": "LCb1aOOZSv0A",
        "outputId": "4ba22da7-ac73-46be-dff4-eb8690263722"
      },
      "source": [
        "# Lengkapi kodingan berikut\n",
        "print('Banyaknya entri = ',A.size)\n",
        "print('Dimensi array = ',A.ndim)\n",
        "print('Ukuran array = ',A.shape)"
      ],
      "execution_count": 14,
      "outputs": [
        {
          "output_type": "stream",
          "name": "stdout",
          "text": [
            "Banyaknya entri =  9\n",
            "Dimensi array =  2\n",
            "Ukuran array =  (3, 3)\n"
          ]
        }
      ]
    },
    {
      "cell_type": "code",
      "metadata": {
        "colab": {
          "base_uri": "https://localhost:8080/"
        },
        "id": "9Z8SmJrVTHwG",
        "outputId": "3b55dd66-4c85-4bad-c71d-982f9c99c5cf"
      },
      "source": [
        "# Slicing\n",
        "print('Baris ke-2 = ',A[1])\n",
        "print('Entri ke-2 dan 3 pada baris ke-2 = ',A[1,1:])\n",
        "print('Entri pertama & kedua kolom ke-2 = ',A[:2,1])"
      ],
      "execution_count": 15,
      "outputs": [
        {
          "output_type": "stream",
          "name": "stdout",
          "text": [
            "Baris ke-2 =  [4 5 6]\n",
            "Entri ke-2 dan 3 pada baris ke-2 =  [5 6]\n",
            "Entri pertama & kedua kolom ke-2 =  [2 5]\n"
          ]
        }
      ]
    },
    {
      "cell_type": "markdown",
      "metadata": {
        "id": "Q9fTrngbUAT3"
      },
      "source": [
        "###Latihan-3 (Slicing)"
      ]
    },
    {
      "cell_type": "code",
      "metadata": {
        "colab": {
          "base_uri": "https://localhost:8080/"
        },
        "id": "php8ramkUBBp",
        "outputId": "f36931f2-cf77-49b0-8fb6-6726d6b1131c"
      },
      "source": [
        "print('Baris ke-3 = ',A[2])\n",
        "print('Entri ke-1 dan 2 baris ke-3 = ',A[2,:2])\n",
        "print('Entri ke-2 dan 3 kolom ke-3 = ',A[1:,2])"
      ],
      "execution_count": 16,
      "outputs": [
        {
          "output_type": "stream",
          "name": "stdout",
          "text": [
            "Baris ke-3 =  [7 8 9]\n",
            "Entri ke-1 dan 2 baris ke-3 =  [7 8]\n",
            "Entri ke-2 dan 3 kolom ke-3 =  [6 9]\n"
          ]
        }
      ]
    },
    {
      "cell_type": "markdown",
      "metadata": {
        "id": "kYLWQZR1Uwlb"
      },
      "source": [
        "### Operasi Matematika di Numpy"
      ]
    },
    {
      "cell_type": "code",
      "metadata": {
        "colab": {
          "base_uri": "https://localhost:8080/"
        },
        "id": "iECwZbnbU0Cy",
        "outputId": "88f7be4c-ebc0-4a0a-bd4a-e303c0569156"
      },
      "source": [
        "C = A*A\n",
        "print('Perkalian antar entry = ')\n",
        "print(C)"
      ],
      "execution_count": 17,
      "outputs": [
        {
          "output_type": "stream",
          "name": "stdout",
          "text": [
            "Perkalian antar entry = \n",
            "[[ 1  4  9]\n",
            " [16 25 36]\n",
            " [49 64 81]]\n"
          ]
        }
      ]
    },
    {
      "cell_type": "code",
      "metadata": {
        "colab": {
          "base_uri": "https://localhost:8080/"
        },
        "id": "75f5xqvcU9JE",
        "outputId": "2119fff2-8949-44c8-9988-01760ef0b77d"
      },
      "source": [
        "print('Perkalian matriks = ')\n",
        "print(np.matmul(A,A))"
      ],
      "execution_count": 18,
      "outputs": [
        {
          "output_type": "stream",
          "name": "stdout",
          "text": [
            "Perkalian matriks = \n",
            "[[ 30  36  42]\n",
            " [ 66  81  96]\n",
            " [102 126 150]]\n"
          ]
        }
      ]
    },
    {
      "cell_type": "code",
      "metadata": {
        "colab": {
          "base_uri": "https://localhost:8080/"
        },
        "id": "QhRbqSLEVRrM",
        "outputId": "44e79496-234a-4b65-e676-5f0e72e1a99e"
      },
      "source": [
        "print('Determinan matriks A = ',np.linalg.det(A))\n",
        "print('Determinan matriks C = ',np.linalg.det(C))"
      ],
      "execution_count": 19,
      "outputs": [
        {
          "output_type": "stream",
          "name": "stdout",
          "text": [
            "Determinan matriks A =  0.0\n",
            "Determinan matriks C =  -216.00000000000006\n"
          ]
        }
      ]
    },
    {
      "cell_type": "code",
      "metadata": {
        "colab": {
          "base_uri": "https://localhost:8080/"
        },
        "id": "s9A3yfvMVgPv",
        "outputId": "731250f4-10f3-442e-dc2e-459668dc55f9"
      },
      "source": [
        "print('Nilai dan vektor eigen matriks A = \\n',np.linalg.eig(A))"
      ],
      "execution_count": 20,
      "outputs": [
        {
          "output_type": "stream",
          "name": "stdout",
          "text": [
            "Nilai dan vektor eigen matriks A = \n",
            " (array([ 1.61168440e+01, -1.11684397e+00, -9.75918483e-16]), array([[-0.23197069, -0.78583024,  0.40824829],\n",
            "       [-0.52532209, -0.08675134, -0.81649658],\n",
            "       [-0.8186735 ,  0.61232756,  0.40824829]]))\n"
          ]
        }
      ]
    },
    {
      "cell_type": "code",
      "metadata": {
        "colab": {
          "base_uri": "https://localhost:8080/"
        },
        "id": "ssAsADxyVzlM",
        "outputId": "e6cd7f23-7f57-469e-8014-6394d0e3b5a8"
      },
      "source": [
        "print('Nilai eigen matriks A = ',np.linalg.eig(A)[0])"
      ],
      "execution_count": 21,
      "outputs": [
        {
          "output_type": "stream",
          "name": "stdout",
          "text": [
            "Nilai eigen matriks A =  [ 1.61168440e+01 -1.11684397e+00 -9.75918483e-16]\n"
          ]
        }
      ]
    },
    {
      "cell_type": "code",
      "metadata": {
        "colab": {
          "base_uri": "https://localhost:8080/"
        },
        "id": "M4r0YovHWBTP",
        "outputId": "8382a2d6-da0d-4ba2-d1e2-511f3764b786"
      },
      "source": [
        "print('Vektor eigen matriks A = \\n',np.linalg.eig(A)[1])"
      ],
      "execution_count": 22,
      "outputs": [
        {
          "output_type": "stream",
          "name": "stdout",
          "text": [
            "Vektor eigen matriks A = \n",
            " [[-0.23197069 -0.78583024  0.40824829]\n",
            " [-0.52532209 -0.08675134 -0.81649658]\n",
            " [-0.8186735   0.61232756  0.40824829]]\n"
          ]
        }
      ]
    },
    {
      "cell_type": "markdown",
      "metadata": {
        "id": "tt73NxTxWN-G"
      },
      "source": [
        "### Latihan-4 (Operasi matriks)"
      ]
    },
    {
      "cell_type": "code",
      "metadata": {
        "id": "hgHBoiq8WQEx"
      },
      "source": [
        "A = np.array([[1,2],[7,8]])\n",
        "B = np.array([[3,5],[1,6]])"
      ],
      "execution_count": 23,
      "outputs": []
    },
    {
      "cell_type": "code",
      "metadata": {
        "colab": {
          "base_uri": "https://localhost:8080/"
        },
        "id": "lTkMO8NCWgdB",
        "outputId": "0ce78de3-37ad-4a14-bb0b-65386fba4578"
      },
      "source": [
        "# 2*A\n",
        "print('2A = \\n',2*A)\n",
        "#2+A\n",
        "print('2+A = \\n',2+A)\n",
        "#A+B\n",
        "print('A+B = \\n',A+B)\n",
        "#A-B\n",
        "print('A-B = \\n',A-B)\n",
        "#Determinan A\n",
        "print('Determinan A = \\n',np.linalg.det(A))\n",
        "#Invers B\n",
        "D = np.linalg.inv(B)\n",
        "print('Matriks D = \\n',D)\n",
        "#Transpose  D\n",
        "print('Transpose D = \\n',D.transpose())\n",
        "#Nilai eigen dan vektor eigen dari A dan B\n",
        "print('Nilai dan Vektor eigen dari A = \\n',np.linalg.eig(A))\n",
        "print('Nilai dan Vektor eigen dari B = \\n',np.linalg.eig(B))"
      ],
      "execution_count": 24,
      "outputs": [
        {
          "output_type": "stream",
          "name": "stdout",
          "text": [
            "2A = \n",
            " [[ 2  4]\n",
            " [14 16]]\n",
            "2+A = \n",
            " [[ 3  4]\n",
            " [ 9 10]]\n",
            "A+B = \n",
            " [[ 4  7]\n",
            " [ 8 14]]\n",
            "A-B = \n",
            " [[-2 -3]\n",
            " [ 6  2]]\n",
            "Determinan A = \n",
            " -6.0\n",
            "Matriks D = \n",
            " [[ 0.46153846 -0.38461538]\n",
            " [-0.07692308  0.23076923]]\n",
            "Transpose D = \n",
            " [[ 0.46153846 -0.07692308]\n",
            " [-0.38461538  0.23076923]]\n",
            "Nilai dan Vektor eigen dari A = \n",
            " (array([-0.62347538,  9.62347538]), array([[-0.77640358, -0.22592838],\n",
            "       [ 0.63023605, -0.97414391]]))\n",
            "Nilai dan Vektor eigen dari B = \n",
            " (array([1.8074176, 7.1925824]), array([[-0.97271381, -0.76626443],\n",
            "       [ 0.23200828, -0.64252535]]))\n"
          ]
        }
      ]
    },
    {
      "cell_type": "markdown",
      "metadata": {
        "id": "8CBL3_OpZ6Z1"
      },
      "source": [
        "Apa perbedaan dari B*D (perkalian antar entry di B dan D) dan BD (perkalian matriks B dan D)? "
      ]
    },
    {
      "cell_type": "code",
      "metadata": {
        "colab": {
          "base_uri": "https://localhost:8080/"
        },
        "id": "gyL7gg7vZ7Mm",
        "outputId": "39f485fe-6446-4a4f-cdbb-4adbc4bd7b87"
      },
      "source": [
        "# Perkalian matriks antar entry, contoh B*D\n",
        "E = np.array([[B[0,0]*D[0,0],B[0,1]*D[0,1]],[B[1,0]*D[1,0],B[1,1]*D[1,1]]])\n",
        "print('Matriks E = \\n',E)\n",
        "\n",
        "# Perkalian matriks BD\n",
        "F = np.array([[B[0,0]*D[0,0]+B[0,1]*D[1,0],B[0,0]*D[0,1]+B[0,1]*D[1,1]],\n",
        "              [B[1,0]*D[0,0]+B[1,1]*D[1,0],B[1,0]*D[0,1]+B[1,1]*D[1,1]]])\n",
        "print('Matriks F = \\n',F)"
      ],
      "execution_count": 25,
      "outputs": [
        {
          "output_type": "stream",
          "name": "stdout",
          "text": [
            "Matriks E = \n",
            " [[ 1.38461538 -1.92307692]\n",
            " [-0.07692308  1.38461538]]\n",
            "Matriks F = \n",
            " [[1.00000000e+00 0.00000000e+00]\n",
            " [1.11022302e-16 1.00000000e+00]]\n"
          ]
        }
      ]
    },
    {
      "cell_type": "markdown",
      "metadata": {
        "id": "-AaG_BsXgafh"
      },
      "source": [
        "## Pandas dan Statistik Deskriptif"
      ]
    },
    {
      "cell_type": "code",
      "metadata": {
        "id": "o9S8_GsSgcom"
      },
      "source": [
        "import pandas as pd"
      ],
      "execution_count": 26,
      "outputs": []
    },
    {
      "cell_type": "markdown",
      "metadata": {
        "id": "mZxWAidZggRE"
      },
      "source": [
        "### Mengenal DataFrame"
      ]
    },
    {
      "cell_type": "code",
      "metadata": {
        "colab": {
          "base_uri": "https://localhost:8080/",
          "height": 138
        },
        "id": "WxdCuX1IgkxD",
        "outputId": "cfb89ca7-e482-46da-95d7-c3dc6c795d1f"
      },
      "source": [
        "# Dari Array\n",
        "df1 = pd.DataFrame(np.array([[1,2,3],[4,5,6],[7,8,9]]), columns=['a','b','c'])\n",
        "df1"
      ],
      "execution_count": 27,
      "outputs": [
        {
          "output_type": "execute_result",
          "data": {
            "text/html": [
              "<div>\n",
              "<style scoped>\n",
              "    .dataframe tbody tr th:only-of-type {\n",
              "        vertical-align: middle;\n",
              "    }\n",
              "\n",
              "    .dataframe tbody tr th {\n",
              "        vertical-align: top;\n",
              "    }\n",
              "\n",
              "    .dataframe thead th {\n",
              "        text-align: right;\n",
              "    }\n",
              "</style>\n",
              "<table border=\"1\" class=\"dataframe\">\n",
              "  <thead>\n",
              "    <tr style=\"text-align: right;\">\n",
              "      <th></th>\n",
              "      <th>a</th>\n",
              "      <th>b</th>\n",
              "      <th>c</th>\n",
              "    </tr>\n",
              "  </thead>\n",
              "  <tbody>\n",
              "    <tr>\n",
              "      <th>0</th>\n",
              "      <td>1</td>\n",
              "      <td>2</td>\n",
              "      <td>3</td>\n",
              "    </tr>\n",
              "    <tr>\n",
              "      <th>1</th>\n",
              "      <td>4</td>\n",
              "      <td>5</td>\n",
              "      <td>6</td>\n",
              "    </tr>\n",
              "    <tr>\n",
              "      <th>2</th>\n",
              "      <td>7</td>\n",
              "      <td>8</td>\n",
              "      <td>9</td>\n",
              "    </tr>\n",
              "  </tbody>\n",
              "</table>\n",
              "</div>"
            ],
            "text/plain": [
              "   a  b  c\n",
              "0  1  2  3\n",
              "1  4  5  6\n",
              "2  7  8  9"
            ]
          },
          "metadata": {},
          "execution_count": 27
        }
      ]
    },
    {
      "cell_type": "code",
      "metadata": {
        "colab": {
          "base_uri": "https://localhost:8080/",
          "height": 138
        },
        "id": "8rVScDI3hSpK",
        "outputId": "7609107b-d87a-4d24-d315-cb4424515514"
      },
      "source": [
        "# Dari dictionary\n",
        "df2 = pd.DataFrame({'a' : [1,2,3], 'b' : [4,5,6], 'c' : [7,8,9]})\n",
        "df2"
      ],
      "execution_count": 28,
      "outputs": [
        {
          "output_type": "execute_result",
          "data": {
            "text/html": [
              "<div>\n",
              "<style scoped>\n",
              "    .dataframe tbody tr th:only-of-type {\n",
              "        vertical-align: middle;\n",
              "    }\n",
              "\n",
              "    .dataframe tbody tr th {\n",
              "        vertical-align: top;\n",
              "    }\n",
              "\n",
              "    .dataframe thead th {\n",
              "        text-align: right;\n",
              "    }\n",
              "</style>\n",
              "<table border=\"1\" class=\"dataframe\">\n",
              "  <thead>\n",
              "    <tr style=\"text-align: right;\">\n",
              "      <th></th>\n",
              "      <th>a</th>\n",
              "      <th>b</th>\n",
              "      <th>c</th>\n",
              "    </tr>\n",
              "  </thead>\n",
              "  <tbody>\n",
              "    <tr>\n",
              "      <th>0</th>\n",
              "      <td>1</td>\n",
              "      <td>4</td>\n",
              "      <td>7</td>\n",
              "    </tr>\n",
              "    <tr>\n",
              "      <th>1</th>\n",
              "      <td>2</td>\n",
              "      <td>5</td>\n",
              "      <td>8</td>\n",
              "    </tr>\n",
              "    <tr>\n",
              "      <th>2</th>\n",
              "      <td>3</td>\n",
              "      <td>6</td>\n",
              "      <td>9</td>\n",
              "    </tr>\n",
              "  </tbody>\n",
              "</table>\n",
              "</div>"
            ],
            "text/plain": [
              "   a  b  c\n",
              "0  1  4  7\n",
              "1  2  5  8\n",
              "2  3  6  9"
            ]
          },
          "metadata": {},
          "execution_count": 28
        }
      ]
    },
    {
      "cell_type": "code",
      "metadata": {
        "colab": {
          "base_uri": "https://localhost:8080/",
          "height": 138
        },
        "id": "ps-DWa5ahksM",
        "outputId": "0d81eabc-0c79-4b9c-b09f-7d2beefdd581"
      },
      "source": [
        "# Menambah kolom baru\n",
        "df1['d'] = [3,5,6]\n",
        "df1"
      ],
      "execution_count": 29,
      "outputs": [
        {
          "output_type": "execute_result",
          "data": {
            "text/html": [
              "<div>\n",
              "<style scoped>\n",
              "    .dataframe tbody tr th:only-of-type {\n",
              "        vertical-align: middle;\n",
              "    }\n",
              "\n",
              "    .dataframe tbody tr th {\n",
              "        vertical-align: top;\n",
              "    }\n",
              "\n",
              "    .dataframe thead th {\n",
              "        text-align: right;\n",
              "    }\n",
              "</style>\n",
              "<table border=\"1\" class=\"dataframe\">\n",
              "  <thead>\n",
              "    <tr style=\"text-align: right;\">\n",
              "      <th></th>\n",
              "      <th>a</th>\n",
              "      <th>b</th>\n",
              "      <th>c</th>\n",
              "      <th>d</th>\n",
              "    </tr>\n",
              "  </thead>\n",
              "  <tbody>\n",
              "    <tr>\n",
              "      <th>0</th>\n",
              "      <td>1</td>\n",
              "      <td>2</td>\n",
              "      <td>3</td>\n",
              "      <td>3</td>\n",
              "    </tr>\n",
              "    <tr>\n",
              "      <th>1</th>\n",
              "      <td>4</td>\n",
              "      <td>5</td>\n",
              "      <td>6</td>\n",
              "      <td>5</td>\n",
              "    </tr>\n",
              "    <tr>\n",
              "      <th>2</th>\n",
              "      <td>7</td>\n",
              "      <td>8</td>\n",
              "      <td>9</td>\n",
              "      <td>6</td>\n",
              "    </tr>\n",
              "  </tbody>\n",
              "</table>\n",
              "</div>"
            ],
            "text/plain": [
              "   a  b  c  d\n",
              "0  1  2  3  3\n",
              "1  4  5  6  5\n",
              "2  7  8  9  6"
            ]
          },
          "metadata": {},
          "execution_count": 29
        }
      ]
    },
    {
      "cell_type": "code",
      "metadata": {
        "id": "gzeFHbT3hwlY"
      },
      "source": [
        "# Menyimpan dataframe ke csv file\n",
        "df1.to_csv('latihan/df1.csv')"
      ],
      "execution_count": 30,
      "outputs": []
    },
    {
      "cell_type": "code",
      "metadata": {
        "colab": {
          "base_uri": "https://localhost:8080/",
          "height": 138
        },
        "id": "gM5w57MGh7Jd",
        "outputId": "60e41a93-9c2a-4433-e68a-13eefd87e306"
      },
      "source": [
        "# Mengambil kolom tertentu:\n",
        "df3 = df1[['a','d']]\n",
        "df3"
      ],
      "execution_count": 31,
      "outputs": [
        {
          "output_type": "execute_result",
          "data": {
            "text/html": [
              "<div>\n",
              "<style scoped>\n",
              "    .dataframe tbody tr th:only-of-type {\n",
              "        vertical-align: middle;\n",
              "    }\n",
              "\n",
              "    .dataframe tbody tr th {\n",
              "        vertical-align: top;\n",
              "    }\n",
              "\n",
              "    .dataframe thead th {\n",
              "        text-align: right;\n",
              "    }\n",
              "</style>\n",
              "<table border=\"1\" class=\"dataframe\">\n",
              "  <thead>\n",
              "    <tr style=\"text-align: right;\">\n",
              "      <th></th>\n",
              "      <th>a</th>\n",
              "      <th>d</th>\n",
              "    </tr>\n",
              "  </thead>\n",
              "  <tbody>\n",
              "    <tr>\n",
              "      <th>0</th>\n",
              "      <td>1</td>\n",
              "      <td>3</td>\n",
              "    </tr>\n",
              "    <tr>\n",
              "      <th>1</th>\n",
              "      <td>4</td>\n",
              "      <td>5</td>\n",
              "    </tr>\n",
              "    <tr>\n",
              "      <th>2</th>\n",
              "      <td>7</td>\n",
              "      <td>6</td>\n",
              "    </tr>\n",
              "  </tbody>\n",
              "</table>\n",
              "</div>"
            ],
            "text/plain": [
              "   a  d\n",
              "0  1  3\n",
              "1  4  5\n",
              "2  7  6"
            ]
          },
          "metadata": {},
          "execution_count": 31
        }
      ]
    },
    {
      "cell_type": "code",
      "metadata": {
        "colab": {
          "base_uri": "https://localhost:8080/",
          "height": 108
        },
        "id": "LlJSySZWiGwx",
        "outputId": "126bf96f-7b03-47e6-b78d-5919ea5d02df"
      },
      "source": [
        "# Mengambil sebagian data berdasarkan entrynya\n",
        "df4a = df1[df1['a']>2]    #mengambil data pada df1 jika nilai pada \n",
        "                          #kolom a-nya lebih besar dari 2\n",
        "df4a"
      ],
      "execution_count": 32,
      "outputs": [
        {
          "output_type": "execute_result",
          "data": {
            "text/html": [
              "<div>\n",
              "<style scoped>\n",
              "    .dataframe tbody tr th:only-of-type {\n",
              "        vertical-align: middle;\n",
              "    }\n",
              "\n",
              "    .dataframe tbody tr th {\n",
              "        vertical-align: top;\n",
              "    }\n",
              "\n",
              "    .dataframe thead th {\n",
              "        text-align: right;\n",
              "    }\n",
              "</style>\n",
              "<table border=\"1\" class=\"dataframe\">\n",
              "  <thead>\n",
              "    <tr style=\"text-align: right;\">\n",
              "      <th></th>\n",
              "      <th>a</th>\n",
              "      <th>b</th>\n",
              "      <th>c</th>\n",
              "      <th>d</th>\n",
              "    </tr>\n",
              "  </thead>\n",
              "  <tbody>\n",
              "    <tr>\n",
              "      <th>1</th>\n",
              "      <td>4</td>\n",
              "      <td>5</td>\n",
              "      <td>6</td>\n",
              "      <td>5</td>\n",
              "    </tr>\n",
              "    <tr>\n",
              "      <th>2</th>\n",
              "      <td>7</td>\n",
              "      <td>8</td>\n",
              "      <td>9</td>\n",
              "      <td>6</td>\n",
              "    </tr>\n",
              "  </tbody>\n",
              "</table>\n",
              "</div>"
            ],
            "text/plain": [
              "   a  b  c  d\n",
              "1  4  5  6  5\n",
              "2  7  8  9  6"
            ]
          },
          "metadata": {},
          "execution_count": 32
        }
      ]
    },
    {
      "cell_type": "code",
      "metadata": {
        "colab": {
          "base_uri": "https://localhost:8080/",
          "height": 78
        },
        "id": "DjqooyADiu-A",
        "outputId": "3a654a9c-5328-48d2-e54f-e51e7c8841f1"
      },
      "source": [
        "df4b = df1[df1['a']==4]\n",
        "df4b"
      ],
      "execution_count": 33,
      "outputs": [
        {
          "output_type": "execute_result",
          "data": {
            "text/html": [
              "<div>\n",
              "<style scoped>\n",
              "    .dataframe tbody tr th:only-of-type {\n",
              "        vertical-align: middle;\n",
              "    }\n",
              "\n",
              "    .dataframe tbody tr th {\n",
              "        vertical-align: top;\n",
              "    }\n",
              "\n",
              "    .dataframe thead th {\n",
              "        text-align: right;\n",
              "    }\n",
              "</style>\n",
              "<table border=\"1\" class=\"dataframe\">\n",
              "  <thead>\n",
              "    <tr style=\"text-align: right;\">\n",
              "      <th></th>\n",
              "      <th>a</th>\n",
              "      <th>b</th>\n",
              "      <th>c</th>\n",
              "      <th>d</th>\n",
              "    </tr>\n",
              "  </thead>\n",
              "  <tbody>\n",
              "    <tr>\n",
              "      <th>1</th>\n",
              "      <td>4</td>\n",
              "      <td>5</td>\n",
              "      <td>6</td>\n",
              "      <td>5</td>\n",
              "    </tr>\n",
              "  </tbody>\n",
              "</table>\n",
              "</div>"
            ],
            "text/plain": [
              "   a  b  c  d\n",
              "1  4  5  6  5"
            ]
          },
          "metadata": {},
          "execution_count": 33
        }
      ]
    },
    {
      "cell_type": "code",
      "metadata": {
        "colab": {
          "base_uri": "https://localhost:8080/",
          "height": 108
        },
        "id": "0I0ppx-Qi6oA",
        "outputId": "04c99e13-461b-4b78-de13-b81c28895561"
      },
      "source": [
        "# Mengambil sebagian data berdasarkan indeksnya\n",
        "df5 = df1.iloc[0:2,0:3]\n",
        "df5"
      ],
      "execution_count": 34,
      "outputs": [
        {
          "output_type": "execute_result",
          "data": {
            "text/html": [
              "<div>\n",
              "<style scoped>\n",
              "    .dataframe tbody tr th:only-of-type {\n",
              "        vertical-align: middle;\n",
              "    }\n",
              "\n",
              "    .dataframe tbody tr th {\n",
              "        vertical-align: top;\n",
              "    }\n",
              "\n",
              "    .dataframe thead th {\n",
              "        text-align: right;\n",
              "    }\n",
              "</style>\n",
              "<table border=\"1\" class=\"dataframe\">\n",
              "  <thead>\n",
              "    <tr style=\"text-align: right;\">\n",
              "      <th></th>\n",
              "      <th>a</th>\n",
              "      <th>b</th>\n",
              "      <th>c</th>\n",
              "    </tr>\n",
              "  </thead>\n",
              "  <tbody>\n",
              "    <tr>\n",
              "      <th>0</th>\n",
              "      <td>1</td>\n",
              "      <td>2</td>\n",
              "      <td>3</td>\n",
              "    </tr>\n",
              "    <tr>\n",
              "      <th>1</th>\n",
              "      <td>4</td>\n",
              "      <td>5</td>\n",
              "      <td>6</td>\n",
              "    </tr>\n",
              "  </tbody>\n",
              "</table>\n",
              "</div>"
            ],
            "text/plain": [
              "   a  b  c\n",
              "0  1  2  3\n",
              "1  4  5  6"
            ]
          },
          "metadata": {},
          "execution_count": 34
        }
      ]
    },
    {
      "cell_type": "markdown",
      "metadata": {
        "id": "p224Nzn3jP0v"
      },
      "source": [
        "### Mengimport data ke DataFrame"
      ]
    },
    {
      "cell_type": "code",
      "metadata": {
        "colab": {
          "base_uri": "https://localhost:8080/",
          "height": 408
        },
        "id": "ziHDDZq0jWD8",
        "outputId": "3d2186ca-cee5-4cac-fddd-16182b5d448c"
      },
      "source": [
        "#Contoh mengimport dari web\n",
        "url = 'https://people.sc.fsu.edu/~jburkardt/data/csv/freshman_kgs.csv'\n",
        "df6 = pd.read_csv(url)\n",
        "\n",
        "df6"
      ],
      "execution_count": 35,
      "outputs": [
        {
          "output_type": "execute_result",
          "data": {
            "text/html": [
              "<div>\n",
              "<style scoped>\n",
              "    .dataframe tbody tr th:only-of-type {\n",
              "        vertical-align: middle;\n",
              "    }\n",
              "\n",
              "    .dataframe tbody tr th {\n",
              "        vertical-align: top;\n",
              "    }\n",
              "\n",
              "    .dataframe thead th {\n",
              "        text-align: right;\n",
              "    }\n",
              "</style>\n",
              "<table border=\"1\" class=\"dataframe\">\n",
              "  <thead>\n",
              "    <tr style=\"text-align: right;\">\n",
              "      <th></th>\n",
              "      <th>Sex</th>\n",
              "      <th>\"Weight (Sep)\"</th>\n",
              "      <th>\"Weight (Apr)\"</th>\n",
              "      <th>\"BMI (Sep)\"</th>\n",
              "      <th>\"BMI (Apr)\"</th>\n",
              "    </tr>\n",
              "  </thead>\n",
              "  <tbody>\n",
              "    <tr>\n",
              "      <th>0</th>\n",
              "      <td>M</td>\n",
              "      <td>72</td>\n",
              "      <td>59</td>\n",
              "      <td>22.02</td>\n",
              "      <td>18.14</td>\n",
              "    </tr>\n",
              "    <tr>\n",
              "      <th>1</th>\n",
              "      <td>M</td>\n",
              "      <td>97</td>\n",
              "      <td>86</td>\n",
              "      <td>19.70</td>\n",
              "      <td>17.44</td>\n",
              "    </tr>\n",
              "    <tr>\n",
              "      <th>2</th>\n",
              "      <td>M</td>\n",
              "      <td>74</td>\n",
              "      <td>69</td>\n",
              "      <td>24.09</td>\n",
              "      <td>22.43</td>\n",
              "    </tr>\n",
              "    <tr>\n",
              "      <th>3</th>\n",
              "      <td>M</td>\n",
              "      <td>93</td>\n",
              "      <td>88</td>\n",
              "      <td>26.97</td>\n",
              "      <td>25.57</td>\n",
              "    </tr>\n",
              "    <tr>\n",
              "      <th>4</th>\n",
              "      <td>F</td>\n",
              "      <td>68</td>\n",
              "      <td>64</td>\n",
              "      <td>21.51</td>\n",
              "      <td>20.10</td>\n",
              "    </tr>\n",
              "    <tr>\n",
              "      <th>...</th>\n",
              "      <td>...</td>\n",
              "      <td>...</td>\n",
              "      <td>...</td>\n",
              "      <td>...</td>\n",
              "      <td>...</td>\n",
              "    </tr>\n",
              "    <tr>\n",
              "      <th>62</th>\n",
              "      <td>M</td>\n",
              "      <td>65</td>\n",
              "      <td>71</td>\n",
              "      <td>22.51</td>\n",
              "      <td>24.45</td>\n",
              "    </tr>\n",
              "    <tr>\n",
              "      <th>63</th>\n",
              "      <td>M</td>\n",
              "      <td>75</td>\n",
              "      <td>82</td>\n",
              "      <td>23.69</td>\n",
              "      <td>25.80</td>\n",
              "    </tr>\n",
              "    <tr>\n",
              "      <th>64</th>\n",
              "      <td>F</td>\n",
              "      <td>42</td>\n",
              "      <td>49</td>\n",
              "      <td>15.08</td>\n",
              "      <td>17.74</td>\n",
              "    </tr>\n",
              "    <tr>\n",
              "      <th>65</th>\n",
              "      <td>M</td>\n",
              "      <td>74</td>\n",
              "      <td>82</td>\n",
              "      <td>22.64</td>\n",
              "      <td>25.33</td>\n",
              "    </tr>\n",
              "    <tr>\n",
              "      <th>66</th>\n",
              "      <td>M</td>\n",
              "      <td>94</td>\n",
              "      <td>105</td>\n",
              "      <td>36.57</td>\n",
              "      <td>40.86</td>\n",
              "    </tr>\n",
              "  </tbody>\n",
              "</table>\n",
              "<p>67 rows × 5 columns</p>\n",
              "</div>"
            ],
            "text/plain": [
              "   Sex   \"Weight (Sep)\"   \"Weight (Apr)\"   \"BMI (Sep)\"   \"BMI (Apr)\"\n",
              "0    M               72               59         22.02         18.14\n",
              "1    M               97               86         19.70         17.44\n",
              "2    M               74               69         24.09         22.43\n",
              "3    M               93               88         26.97         25.57\n",
              "4    F               68               64         21.51         20.10\n",
              "..  ..              ...              ...           ...           ...\n",
              "62   M               65               71         22.51         24.45\n",
              "63   M               75               82         23.69         25.80\n",
              "64   F               42               49         15.08         17.74\n",
              "65   M               74               82         22.64         25.33\n",
              "66   M               94              105         36.57         40.86\n",
              "\n",
              "[67 rows x 5 columns]"
            ]
          },
          "metadata": {},
          "execution_count": 35
        }
      ]
    },
    {
      "cell_type": "code",
      "metadata": {
        "colab": {
          "base_uri": "https://localhost:8080/",
          "height": 200
        },
        "id": "SVJFl1gUjZRV",
        "outputId": "376c5a6f-f5e4-4066-962e-49635b4b7acc"
      },
      "source": [
        "# Mengambil 5 data teratas\n",
        "df6.head()"
      ],
      "execution_count": 36,
      "outputs": [
        {
          "output_type": "execute_result",
          "data": {
            "text/html": [
              "<div>\n",
              "<style scoped>\n",
              "    .dataframe tbody tr th:only-of-type {\n",
              "        vertical-align: middle;\n",
              "    }\n",
              "\n",
              "    .dataframe tbody tr th {\n",
              "        vertical-align: top;\n",
              "    }\n",
              "\n",
              "    .dataframe thead th {\n",
              "        text-align: right;\n",
              "    }\n",
              "</style>\n",
              "<table border=\"1\" class=\"dataframe\">\n",
              "  <thead>\n",
              "    <tr style=\"text-align: right;\">\n",
              "      <th></th>\n",
              "      <th>Sex</th>\n",
              "      <th>\"Weight (Sep)\"</th>\n",
              "      <th>\"Weight (Apr)\"</th>\n",
              "      <th>\"BMI (Sep)\"</th>\n",
              "      <th>\"BMI (Apr)\"</th>\n",
              "    </tr>\n",
              "  </thead>\n",
              "  <tbody>\n",
              "    <tr>\n",
              "      <th>0</th>\n",
              "      <td>M</td>\n",
              "      <td>72</td>\n",
              "      <td>59</td>\n",
              "      <td>22.02</td>\n",
              "      <td>18.14</td>\n",
              "    </tr>\n",
              "    <tr>\n",
              "      <th>1</th>\n",
              "      <td>M</td>\n",
              "      <td>97</td>\n",
              "      <td>86</td>\n",
              "      <td>19.70</td>\n",
              "      <td>17.44</td>\n",
              "    </tr>\n",
              "    <tr>\n",
              "      <th>2</th>\n",
              "      <td>M</td>\n",
              "      <td>74</td>\n",
              "      <td>69</td>\n",
              "      <td>24.09</td>\n",
              "      <td>22.43</td>\n",
              "    </tr>\n",
              "    <tr>\n",
              "      <th>3</th>\n",
              "      <td>M</td>\n",
              "      <td>93</td>\n",
              "      <td>88</td>\n",
              "      <td>26.97</td>\n",
              "      <td>25.57</td>\n",
              "    </tr>\n",
              "    <tr>\n",
              "      <th>4</th>\n",
              "      <td>F</td>\n",
              "      <td>68</td>\n",
              "      <td>64</td>\n",
              "      <td>21.51</td>\n",
              "      <td>20.10</td>\n",
              "    </tr>\n",
              "  </tbody>\n",
              "</table>\n",
              "</div>"
            ],
            "text/plain": [
              "  Sex   \"Weight (Sep)\"   \"Weight (Apr)\"   \"BMI (Sep)\"   \"BMI (Apr)\"\n",
              "0   M               72               59         22.02         18.14\n",
              "1   M               97               86         19.70         17.44\n",
              "2   M               74               69         24.09         22.43\n",
              "3   M               93               88         26.97         25.57\n",
              "4   F               68               64         21.51         20.10"
            ]
          },
          "metadata": {},
          "execution_count": 36
        }
      ]
    },
    {
      "cell_type": "markdown",
      "metadata": {
        "id": "SIxEnDqBjhYb"
      },
      "source": [
        "### Membuat deskriptif"
      ]
    },
    {
      "cell_type": "code",
      "metadata": {
        "colab": {
          "base_uri": "https://localhost:8080/",
          "height": 290
        },
        "id": "679fDIhFjlza",
        "outputId": "0fbcd5b1-615e-46c7-a819-267eae03830a"
      },
      "source": [
        "# DataNumerik\n",
        "df6.describe()"
      ],
      "execution_count": 37,
      "outputs": [
        {
          "output_type": "execute_result",
          "data": {
            "text/html": [
              "<div>\n",
              "<style scoped>\n",
              "    .dataframe tbody tr th:only-of-type {\n",
              "        vertical-align: middle;\n",
              "    }\n",
              "\n",
              "    .dataframe tbody tr th {\n",
              "        vertical-align: top;\n",
              "    }\n",
              "\n",
              "    .dataframe thead th {\n",
              "        text-align: right;\n",
              "    }\n",
              "</style>\n",
              "<table border=\"1\" class=\"dataframe\">\n",
              "  <thead>\n",
              "    <tr style=\"text-align: right;\">\n",
              "      <th></th>\n",
              "      <th>\"Weight (Sep)\"</th>\n",
              "      <th>\"Weight (Apr)\"</th>\n",
              "      <th>\"BMI (Sep)\"</th>\n",
              "      <th>\"BMI (Apr)\"</th>\n",
              "    </tr>\n",
              "  </thead>\n",
              "  <tbody>\n",
              "    <tr>\n",
              "      <th>count</th>\n",
              "      <td>67.000000</td>\n",
              "      <td>67.000000</td>\n",
              "      <td>67.000000</td>\n",
              "      <td>67.000000</td>\n",
              "    </tr>\n",
              "    <tr>\n",
              "      <th>mean</th>\n",
              "      <td>65.059701</td>\n",
              "      <td>66.238806</td>\n",
              "      <td>22.030000</td>\n",
              "      <td>22.484179</td>\n",
              "    </tr>\n",
              "    <tr>\n",
              "      <th>std</th>\n",
              "      <td>11.285390</td>\n",
              "      <td>11.284327</td>\n",
              "      <td>3.308901</td>\n",
              "      <td>3.602527</td>\n",
              "    </tr>\n",
              "    <tr>\n",
              "      <th>min</th>\n",
              "      <td>42.000000</td>\n",
              "      <td>47.000000</td>\n",
              "      <td>15.080000</td>\n",
              "      <td>16.890000</td>\n",
              "    </tr>\n",
              "    <tr>\n",
              "      <th>25%</th>\n",
              "      <td>56.500000</td>\n",
              "      <td>58.000000</td>\n",
              "      <td>19.965000</td>\n",
              "      <td>20.230000</td>\n",
              "    </tr>\n",
              "    <tr>\n",
              "      <th>50%</th>\n",
              "      <td>64.000000</td>\n",
              "      <td>66.000000</td>\n",
              "      <td>21.730000</td>\n",
              "      <td>22.310000</td>\n",
              "    </tr>\n",
              "    <tr>\n",
              "      <th>75%</th>\n",
              "      <td>70.500000</td>\n",
              "      <td>70.000000</td>\n",
              "      <td>23.160000</td>\n",
              "      <td>23.860000</td>\n",
              "    </tr>\n",
              "    <tr>\n",
              "      <th>max</th>\n",
              "      <td>97.000000</td>\n",
              "      <td>105.000000</td>\n",
              "      <td>36.570000</td>\n",
              "      <td>40.860000</td>\n",
              "    </tr>\n",
              "  </tbody>\n",
              "</table>\n",
              "</div>"
            ],
            "text/plain": [
              "        \"Weight (Sep)\"   \"Weight (Apr)\"   \"BMI (Sep)\"   \"BMI (Apr)\"\n",
              "count        67.000000        67.000000     67.000000     67.000000\n",
              "mean         65.059701        66.238806     22.030000     22.484179\n",
              "std          11.285390        11.284327      3.308901      3.602527\n",
              "min          42.000000        47.000000     15.080000     16.890000\n",
              "25%          56.500000        58.000000     19.965000     20.230000\n",
              "50%          64.000000        66.000000     21.730000     22.310000\n",
              "75%          70.500000        70.000000     23.160000     23.860000\n",
              "max          97.000000       105.000000     36.570000     40.860000"
            ]
          },
          "metadata": {},
          "execution_count": 37
        }
      ]
    },
    {
      "cell_type": "code",
      "metadata": {
        "colab": {
          "base_uri": "https://localhost:8080/",
          "height": 362
        },
        "id": "lGdWN5N2jw_3",
        "outputId": "61cf744f-46f6-4b26-9b5e-5edc5630343d"
      },
      "source": [
        "df6.hist()"
      ],
      "execution_count": 38,
      "outputs": [
        {
          "output_type": "execute_result",
          "data": {
            "text/plain": [
              "array([[<matplotlib.axes._subplots.AxesSubplot object at 0x7fecc46b88d0>,\n",
              "        <matplotlib.axes._subplots.AxesSubplot object at 0x7fecc465ca90>],\n",
              "       [<matplotlib.axes._subplots.AxesSubplot object at 0x7fecc45d92d0>,\n",
              "        <matplotlib.axes._subplots.AxesSubplot object at 0x7fecc458d950>]],\n",
              "      dtype=object)"
            ]
          },
          "metadata": {},
          "execution_count": 38
        },
        {
          "output_type": "display_data",
          "data": {
            "image/png": "[encoded data removed]",
            "text/plain": [
              "<Figure size 432x288 with 4 Axes>"
            ]
          },
          "metadata": {
            "needs_background": "light"
          }
        }
      ]
    },
    {
      "cell_type": "code",
      "metadata": {
        "colab": {
          "base_uri": "https://localhost:8080/",
          "height": 170
        },
        "id": "PPbLiaY2j6tT",
        "outputId": "a7805c78-79db-4cbd-f71c-4ca6c34edc38"
      },
      "source": [
        "# Data non-numerik\n",
        "df6.describe(include=[\"object\", \"bool\"])"
      ],
      "execution_count": 39,
      "outputs": [
        {
          "output_type": "execute_result",
          "data": {
            "text/html": [
              "<div>\n",
              "<style scoped>\n",
              "    .dataframe tbody tr th:only-of-type {\n",
              "        vertical-align: middle;\n",
              "    }\n",
              "\n",
              "    .dataframe tbody tr th {\n",
              "        vertical-align: top;\n",
              "    }\n",
              "\n",
              "    .dataframe thead th {\n",
              "        text-align: right;\n",
              "    }\n",
              "</style>\n",
              "<table border=\"1\" class=\"dataframe\">\n",
              "  <thead>\n",
              "    <tr style=\"text-align: right;\">\n",
              "      <th></th>\n",
              "      <th>Sex</th>\n",
              "    </tr>\n",
              "  </thead>\n",
              "  <tbody>\n",
              "    <tr>\n",
              "      <th>count</th>\n",
              "      <td>67</td>\n",
              "    </tr>\n",
              "    <tr>\n",
              "      <th>unique</th>\n",
              "      <td>2</td>\n",
              "    </tr>\n",
              "    <tr>\n",
              "      <th>top</th>\n",
              "      <td>F</td>\n",
              "    </tr>\n",
              "    <tr>\n",
              "      <th>freq</th>\n",
              "      <td>35</td>\n",
              "    </tr>\n",
              "  </tbody>\n",
              "</table>\n",
              "</div>"
            ],
            "text/plain": [
              "       Sex\n",
              "count   67\n",
              "unique   2\n",
              "top      F\n",
              "freq    35"
            ]
          },
          "metadata": {},
          "execution_count": 39
        }
      ]
    },
    {
      "cell_type": "code",
      "metadata": {
        "colab": {
          "base_uri": "https://localhost:8080/"
        },
        "id": "R7XscYMEkFN_",
        "outputId": "ac03b9a6-94cc-4562-f4f1-3283e7d191e6"
      },
      "source": [
        "# List nama kolom\n",
        "df6.columns"
      ],
      "execution_count": 40,
      "outputs": [
        {
          "output_type": "execute_result",
          "data": {
            "text/plain": [
              "Index(['Sex', ' \"Weight (Sep)\"', ' \"Weight (Apr)\"', ' \"BMI (Sep)\"',\n",
              "       ' \"BMI (Apr)\"'],\n",
              "      dtype='object')"
            ]
          },
          "metadata": {},
          "execution_count": 40
        }
      ]
    },
    {
      "cell_type": "markdown",
      "metadata": {
        "id": "1Kb5aLe8kKRM"
      },
      "source": [
        "Untuk memudahkan saat kita butuh menuliskan nama kolomnya, bisa langsung copas agar sesuai formatnya (misalnya huruf besar/kecil, dll)"
      ]
    },
    {
      "cell_type": "markdown",
      "metadata": {
        "id": "obSs1rYcjibQ"
      },
      "source": [
        "### Latihan-5 (mengambil sebagian data)\n",
        "Buat kodingan untuk memilih data yang perempuan saja"
      ]
    },
    {
      "cell_type": "code",
      "metadata": {
        "colab": {
          "base_uri": "https://localhost:8080/",
          "height": 1000
        },
        "id": "uk1mqK0dkQFC",
        "outputId": "a343c538-2765-450c-d912-d7d127dff6c4"
      },
      "source": [
        "# Mengambil yang perempuan saja\n",
        "df6a = df6[df6['Sex']=='F']\n",
        "df6a"
      ],
      "execution_count": 41,
      "outputs": [
        {
          "output_type": "execute_result",
          "data": {
            "text/html": [
              "<div>\n",
              "<style scoped>\n",
              "    .dataframe tbody tr th:only-of-type {\n",
              "        vertical-align: middle;\n",
              "    }\n",
              "\n",
              "    .dataframe tbody tr th {\n",
              "        vertical-align: top;\n",
              "    }\n",
              "\n",
              "    .dataframe thead th {\n",
              "        text-align: right;\n",
              "    }\n",
              "</style>\n",
              "<table border=\"1\" class=\"dataframe\">\n",
              "  <thead>\n",
              "    <tr style=\"text-align: right;\">\n",
              "      <th></th>\n",
              "      <th>Sex</th>\n",
              "      <th>\"Weight (Sep)\"</th>\n",
              "      <th>\"Weight (Apr)\"</th>\n",
              "      <th>\"BMI (Sep)\"</th>\n",
              "      <th>\"BMI (Apr)\"</th>\n",
              "    </tr>\n",
              "  </thead>\n",
              "  <tbody>\n",
              "    <tr>\n",
              "      <th>4</th>\n",
              "      <td>F</td>\n",
              "      <td>68</td>\n",
              "      <td>64</td>\n",
              "      <td>21.51</td>\n",
              "      <td>20.10</td>\n",
              "    </tr>\n",
              "    <tr>\n",
              "      <th>6</th>\n",
              "      <td>F</td>\n",
              "      <td>64</td>\n",
              "      <td>60</td>\n",
              "      <td>24.24</td>\n",
              "      <td>22.88</td>\n",
              "    </tr>\n",
              "    <tr>\n",
              "      <th>7</th>\n",
              "      <td>F</td>\n",
              "      <td>56</td>\n",
              "      <td>53</td>\n",
              "      <td>21.23</td>\n",
              "      <td>20.23</td>\n",
              "    </tr>\n",
              "    <tr>\n",
              "      <th>8</th>\n",
              "      <td>F</td>\n",
              "      <td>70</td>\n",
              "      <td>68</td>\n",
              "      <td>30.26</td>\n",
              "      <td>29.24</td>\n",
              "    </tr>\n",
              "    <tr>\n",
              "      <th>9</th>\n",
              "      <td>F</td>\n",
              "      <td>58</td>\n",
              "      <td>56</td>\n",
              "      <td>21.88</td>\n",
              "      <td>21.02</td>\n",
              "    </tr>\n",
              "    <tr>\n",
              "      <th>10</th>\n",
              "      <td>F</td>\n",
              "      <td>50</td>\n",
              "      <td>47</td>\n",
              "      <td>17.63</td>\n",
              "      <td>16.89</td>\n",
              "    </tr>\n",
              "    <tr>\n",
              "      <th>13</th>\n",
              "      <td>F</td>\n",
              "      <td>56</td>\n",
              "      <td>55</td>\n",
              "      <td>20.97</td>\n",
              "      <td>20.36</td>\n",
              "    </tr>\n",
              "    <tr>\n",
              "      <th>14</th>\n",
              "      <td>F</td>\n",
              "      <td>70</td>\n",
              "      <td>68</td>\n",
              "      <td>27.30</td>\n",
              "      <td>26.73</td>\n",
              "    </tr>\n",
              "    <tr>\n",
              "      <th>15</th>\n",
              "      <td>F</td>\n",
              "      <td>61</td>\n",
              "      <td>60</td>\n",
              "      <td>23.30</td>\n",
              "      <td>22.88</td>\n",
              "    </tr>\n",
              "    <tr>\n",
              "      <th>16</th>\n",
              "      <td>F</td>\n",
              "      <td>53</td>\n",
              "      <td>52</td>\n",
              "      <td>19.48</td>\n",
              "      <td>19.24</td>\n",
              "    </tr>\n",
              "    <tr>\n",
              "      <th>18</th>\n",
              "      <td>F</td>\n",
              "      <td>57</td>\n",
              "      <td>58</td>\n",
              "      <td>20.69</td>\n",
              "      <td>20.79</td>\n",
              "    </tr>\n",
              "    <tr>\n",
              "      <th>20</th>\n",
              "      <td>F</td>\n",
              "      <td>58</td>\n",
              "      <td>58</td>\n",
              "      <td>21.09</td>\n",
              "      <td>21.24</td>\n",
              "    </tr>\n",
              "    <tr>\n",
              "      <th>21</th>\n",
              "      <td>F</td>\n",
              "      <td>49</td>\n",
              "      <td>50</td>\n",
              "      <td>18.37</td>\n",
              "      <td>18.53</td>\n",
              "    </tr>\n",
              "    <tr>\n",
              "      <th>23</th>\n",
              "      <td>F</td>\n",
              "      <td>69</td>\n",
              "      <td>69</td>\n",
              "      <td>28.17</td>\n",
              "      <td>28.43</td>\n",
              "    </tr>\n",
              "    <tr>\n",
              "      <th>27</th>\n",
              "      <td>F</td>\n",
              "      <td>52</td>\n",
              "      <td>53</td>\n",
              "      <td>19.31</td>\n",
              "      <td>19.75</td>\n",
              "    </tr>\n",
              "    <tr>\n",
              "      <th>29</th>\n",
              "      <td>F</td>\n",
              "      <td>63</td>\n",
              "      <td>64</td>\n",
              "      <td>21.78</td>\n",
              "      <td>22.22</td>\n",
              "    </tr>\n",
              "    <tr>\n",
              "      <th>30</th>\n",
              "      <td>F</td>\n",
              "      <td>56</td>\n",
              "      <td>57</td>\n",
              "      <td>19.78</td>\n",
              "      <td>20.23</td>\n",
              "    </tr>\n",
              "    <tr>\n",
              "      <th>33</th>\n",
              "      <td>F</td>\n",
              "      <td>54</td>\n",
              "      <td>56</td>\n",
              "      <td>20.15</td>\n",
              "      <td>20.69</td>\n",
              "    </tr>\n",
              "    <tr>\n",
              "      <th>36</th>\n",
              "      <td>F</td>\n",
              "      <td>57</td>\n",
              "      <td>59</td>\n",
              "      <td>22.15</td>\n",
              "      <td>22.93</td>\n",
              "    </tr>\n",
              "    <tr>\n",
              "      <th>37</th>\n",
              "      <td>F</td>\n",
              "      <td>63</td>\n",
              "      <td>65</td>\n",
              "      <td>23.87</td>\n",
              "      <td>24.67</td>\n",
              "    </tr>\n",
              "    <tr>\n",
              "      <th>38</th>\n",
              "      <td>F</td>\n",
              "      <td>54</td>\n",
              "      <td>56</td>\n",
              "      <td>18.61</td>\n",
              "      <td>19.34</td>\n",
              "    </tr>\n",
              "    <tr>\n",
              "      <th>39</th>\n",
              "      <td>F</td>\n",
              "      <td>56</td>\n",
              "      <td>58</td>\n",
              "      <td>21.73</td>\n",
              "      <td>22.58</td>\n",
              "    </tr>\n",
              "    <tr>\n",
              "      <th>43</th>\n",
              "      <td>F</td>\n",
              "      <td>63</td>\n",
              "      <td>66</td>\n",
              "      <td>21.89</td>\n",
              "      <td>22.79</td>\n",
              "    </tr>\n",
              "    <tr>\n",
              "      <th>44</th>\n",
              "      <td>F</td>\n",
              "      <td>51</td>\n",
              "      <td>54</td>\n",
              "      <td>18.31</td>\n",
              "      <td>19.28</td>\n",
              "    </tr>\n",
              "    <tr>\n",
              "      <th>45</th>\n",
              "      <td>F</td>\n",
              "      <td>59</td>\n",
              "      <td>62</td>\n",
              "      <td>19.64</td>\n",
              "      <td>20.63</td>\n",
              "    </tr>\n",
              "    <tr>\n",
              "      <th>46</th>\n",
              "      <td>F</td>\n",
              "      <td>65</td>\n",
              "      <td>68</td>\n",
              "      <td>23.02</td>\n",
              "      <td>24.10</td>\n",
              "    </tr>\n",
              "    <tr>\n",
              "      <th>47</th>\n",
              "      <td>F</td>\n",
              "      <td>53</td>\n",
              "      <td>56</td>\n",
              "      <td>20.63</td>\n",
              "      <td>21.91</td>\n",
              "    </tr>\n",
              "    <tr>\n",
              "      <th>48</th>\n",
              "      <td>F</td>\n",
              "      <td>62</td>\n",
              "      <td>65</td>\n",
              "      <td>22.61</td>\n",
              "      <td>23.81</td>\n",
              "    </tr>\n",
              "    <tr>\n",
              "      <th>49</th>\n",
              "      <td>F</td>\n",
              "      <td>55</td>\n",
              "      <td>58</td>\n",
              "      <td>22.03</td>\n",
              "      <td>23.42</td>\n",
              "    </tr>\n",
              "    <tr>\n",
              "      <th>54</th>\n",
              "      <td>F</td>\n",
              "      <td>57</td>\n",
              "      <td>61</td>\n",
              "      <td>23.47</td>\n",
              "      <td>25.11</td>\n",
              "    </tr>\n",
              "    <tr>\n",
              "      <th>55</th>\n",
              "      <td>F</td>\n",
              "      <td>64</td>\n",
              "      <td>68</td>\n",
              "      <td>22.84</td>\n",
              "      <td>24.29</td>\n",
              "    </tr>\n",
              "    <tr>\n",
              "      <th>56</th>\n",
              "      <td>F</td>\n",
              "      <td>60</td>\n",
              "      <td>64</td>\n",
              "      <td>19.50</td>\n",
              "      <td>20.90</td>\n",
              "    </tr>\n",
              "    <tr>\n",
              "      <th>59</th>\n",
              "      <td>F</td>\n",
              "      <td>52</td>\n",
              "      <td>57</td>\n",
              "      <td>17.72</td>\n",
              "      <td>19.42</td>\n",
              "    </tr>\n",
              "    <tr>\n",
              "      <th>61</th>\n",
              "      <td>F</td>\n",
              "      <td>55</td>\n",
              "      <td>60</td>\n",
              "      <td>21.64</td>\n",
              "      <td>23.81</td>\n",
              "    </tr>\n",
              "    <tr>\n",
              "      <th>64</th>\n",
              "      <td>F</td>\n",
              "      <td>42</td>\n",
              "      <td>49</td>\n",
              "      <td>15.08</td>\n",
              "      <td>17.74</td>\n",
              "    </tr>\n",
              "  </tbody>\n",
              "</table>\n",
              "</div>"
            ],
            "text/plain": [
              "   Sex   \"Weight (Sep)\"   \"Weight (Apr)\"   \"BMI (Sep)\"   \"BMI (Apr)\"\n",
              "4    F               68               64         21.51         20.10\n",
              "6    F               64               60         24.24         22.88\n",
              "7    F               56               53         21.23         20.23\n",
              "8    F               70               68         30.26         29.24\n",
              "9    F               58               56         21.88         21.02\n",
              "10   F               50               47         17.63         16.89\n",
              "13   F               56               55         20.97         20.36\n",
              "14   F               70               68         27.30         26.73\n",
              "15   F               61               60         23.30         22.88\n",
              "16   F               53               52         19.48         19.24\n",
              "18   F               57               58         20.69         20.79\n",
              "20   F               58               58         21.09         21.24\n",
              "21   F               49               50         18.37         18.53\n",
              "23   F               69               69         28.17         28.43\n",
              "27   F               52               53         19.31         19.75\n",
              "29   F               63               64         21.78         22.22\n",
              "30   F               56               57         19.78         20.23\n",
              "33   F               54               56         20.15         20.69\n",
              "36   F               57               59         22.15         22.93\n",
              "37   F               63               65         23.87         24.67\n",
              "38   F               54               56         18.61         19.34\n",
              "39   F               56               58         21.73         22.58\n",
              "43   F               63               66         21.89         22.79\n",
              "44   F               51               54         18.31         19.28\n",
              "45   F               59               62         19.64         20.63\n",
              "46   F               65               68         23.02         24.10\n",
              "47   F               53               56         20.63         21.91\n",
              "48   F               62               65         22.61         23.81\n",
              "49   F               55               58         22.03         23.42\n",
              "54   F               57               61         23.47         25.11\n",
              "55   F               64               68         22.84         24.29\n",
              "56   F               60               64         19.50         20.90\n",
              "59   F               52               57         17.72         19.42\n",
              "61   F               55               60         21.64         23.81\n",
              "64   F               42               49         15.08         17.74"
            ]
          },
          "metadata": {},
          "execution_count": 41
        }
      ]
    },
    {
      "cell_type": "markdown",
      "metadata": {
        "id": "i81vRE3_lnVr"
      },
      "source": [
        "## Visualisasi Data"
      ]
    },
    {
      "cell_type": "markdown",
      "metadata": {
        "id": "K8x43mgllpS8"
      },
      "source": [
        "### Dengan Matplotlib"
      ]
    },
    {
      "cell_type": "code",
      "metadata": {
        "id": "JzkGJHLQlsZ4"
      },
      "source": [
        "import matplotlib.pyplot as plt"
      ],
      "execution_count": 42,
      "outputs": []
    },
    {
      "cell_type": "code",
      "metadata": {
        "colab": {
          "base_uri": "https://localhost:8080/",
          "height": 355
        },
        "id": "KMLitpAwl1GA",
        "outputId": "3f15ad45-503a-4f60-c917-51a3f8bf561e"
      },
      "source": [
        "# Line Chart\n",
        "df6[[' \"Weight (Sep)\"',' \"BMI (Sep)\"']].plot(kind='line',\n",
        "            figsize=(10,5))\n",
        "plt.title('Perbandingan berat dan BMI bulan September', fontsize = 20)\n",
        "plt.ylabel('Nilai', fontsize = 10)\n",
        "plt.xlabel('Peserta', fontsize = 10)\n",
        "\n",
        "plt.show()"
      ],
      "execution_count": 43,
      "outputs": [
        {
          "output_type": "display_data",
          "data": {
            "image/png": "[encoded data removed]",
            "text/plain": [
              "<Figure size 720x360 with 1 Axes>"
            ]
          },
          "metadata": {
            "needs_background": "light"
          }
        }
      ]
    },
    {
      "cell_type": "code",
      "metadata": {
        "colab": {
          "base_uri": "https://localhost:8080/",
          "height": 408
        },
        "id": "dnYHN93lmh5S",
        "outputId": "18fa14d1-574a-468f-cbde-4f16640f7235"
      },
      "source": [
        "#ScatterPlot\n",
        "df6[[' \"Weight (Sep)\"', ' \"Weight (Apr)\"']].plot(kind='scatter', x=' \"Weight (Sep)\"', y=' \"Weight (Apr)\"', \n",
        "                                                 figsize=(10, 6), color='darkblue')\n",
        "\n",
        "plt.title('Hubungan berat badan bulan september dan april', fontsize = 20)\n",
        "plt.ylabel('April', fontsize = 10)\n",
        "plt.xlabel('September', fontsize = 10)\n",
        "\n",
        "plt.show()"
      ],
      "execution_count": 44,
      "outputs": [
        {
          "output_type": "display_data",
          "data": {
            "image/png": "[encoded data removed]",
            "text/plain": [
              "<Figure size 720x432 with 1 Axes>"
            ]
          },
          "metadata": {
            "needs_background": "light"
          }
        }
      ]
    },
    {
      "cell_type": "markdown",
      "metadata": {
        "id": "mYKwQUA7mzyn"
      },
      "source": [
        "Scatter plotnya seperti membentuk garis lurus miring kanan, artinya hubungan berat badan bulan april dan september erat dan positif (selengkapnya akan dipelajari di materi eksplorasi data)"
      ]
    },
    {
      "cell_type": "code",
      "metadata": {
        "colab": {
          "base_uri": "https://localhost:8080/",
          "height": 350
        },
        "id": "nfNqLSl3m0zU",
        "outputId": "213eab3b-427d-4adc-b05a-89a42944e07c"
      },
      "source": [
        "#Histogram\n",
        "df6[' \"Weight (Apr)\"'].plot(kind='hist', figsize=(7, 5))\n",
        "\n",
        "plt.title('Histogram dari berat badan bulan april')\n",
        "plt.ylabel('frequensi')\n",
        "plt.xlabel('berat')\n",
        "\n",
        "plt.show()"
      ],
      "execution_count": 45,
      "outputs": [
        {
          "output_type": "display_data",
          "data": {
            "image/png": "[encoded data removed]",
            "text/plain": [
              "<Figure size 504x360 with 1 Axes>"
            ]
          },
          "metadata": {
            "needs_background": "light"
          }
        }
      ]
    },
    {
      "cell_type": "code",
      "metadata": {
        "colab": {
          "base_uri": "https://localhost:8080/",
          "height": 336
        },
        "id": "uKU7wfR2m86X",
        "outputId": "65a462a3-a962-4f06-f139-1e481255cd7c"
      },
      "source": [
        "rata2berat_lk = df6[df6['Sex']=='M'][' \"Weight (Sep)\"'].mean()\n",
        "rata2berat_pr = df6[df6['Sex']=='F'][' \"Weight (Sep)\"'].mean()\n",
        "\n",
        "fig = plt.figure(figsize =(7, 5))\n",
        "plt.title('Bar Chart dari rata-rata berat badan Laki-laki dan Perempuan bulan September')\n",
        "berat = [rata2berat_lk, rata2berat_pr]\n",
        "bars = ('laki-laki', 'perempuan')\n",
        "kelompok = np.arange(len(bars))\n",
        "\n",
        "plt.bar(kelompok, berat)\n",
        "plt.xticks(kelompok, bars)\n",
        "\n",
        "plt.show()"
      ],
      "execution_count": 46,
      "outputs": [
        {
          "output_type": "display_data",
          "data": {
            "image/png": "[encoded data removed]",
            "text/plain": [
              "<Figure size 504x360 with 1 Axes>"
            ]
          },
          "metadata": {
            "needs_background": "light"
          }
        }
      ]
    },
    {
      "cell_type": "code",
      "metadata": {
        "colab": {
          "base_uri": "https://localhost:8080/",
          "height": 302
        },
        "id": "gneTeDttnEN3",
        "outputId": "f98d99a1-6dc2-44b5-b2e9-acb075378294"
      },
      "source": [
        "# Pie chart\n",
        "labels = 'Laki-laki', 'Perempuan'\n",
        "jlh_anggota = np.array([len(df6[df6['Sex'] == 'M']), len(df6[df6['Sex'] == 'F'])])\n",
        "colors = ['blue', 'pink']\n",
        "fig = plt.figure(figsize =(7, 5))\n",
        "plt.pie(jlh_anggota, labels = labels, colors=colors)\n",
        "plt.show()"
      ],
      "execution_count": 47,
      "outputs": [
        {
          "output_type": "display_data",
          "data": {
            "image/png": "[encoded data removed]",
            "text/plain": [
              "<Figure size 504x360 with 1 Axes>"
            ]
          },
          "metadata": {}
        }
      ]
    },
    {
      "cell_type": "markdown",
      "metadata": {
        "id": "E5vHowd6nMf0"
      },
      "source": [
        "### Dengan Seaborn"
      ]
    },
    {
      "cell_type": "code",
      "metadata": {
        "id": "SMlo5Q8Bph2I"
      },
      "source": [
        "import seaborn as sns"
      ],
      "execution_count": 48,
      "outputs": []
    },
    {
      "cell_type": "code",
      "metadata": {
        "colab": {
          "base_uri": "https://localhost:8080/",
          "height": 283
        },
        "id": "P6i1E3xVVOxn",
        "outputId": "fadf5b8a-4edb-4edd-93f5-b053917402eb"
      },
      "source": [
        "#LineChart\n",
        "sns.lineplot(data=df6[[' \"Weight (Sep)\"', ' \"BMI (Sep)\"']])"
      ],
      "execution_count": 49,
      "outputs": [
        {
          "output_type": "execute_result",
          "data": {
            "text/plain": [
              "<matplotlib.axes._subplots.AxesSubplot at 0x7fecb5cfdb90>"
            ]
          },
          "metadata": {},
          "execution_count": 49
        },
        {
          "output_type": "display_data",
          "data": {
            "image/png": "[encoded data removed]",
            "text/plain": [
              "<Figure size 432x288 with 1 Axes>"
            ]
          },
          "metadata": {
            "needs_background": "light"
          }
        }
      ]
    },
    {
      "cell_type": "code",
      "metadata": {
        "colab": {
          "base_uri": "https://localhost:8080/",
          "height": 385
        },
        "id": "PPFuDQouVTj2",
        "outputId": "0d4fd4fc-e43a-4fbc-c8c2-2d77b0d5def3"
      },
      "source": [
        "#ScatterPlot\n",
        "sns.relplot(x=' \"Weight (Sep)\"', y=' \"Weight (Apr)\"', data = df6)"
      ],
      "execution_count": 50,
      "outputs": [
        {
          "output_type": "execute_result",
          "data": {
            "text/plain": [
              "<seaborn.axisgrid.FacetGrid at 0x7fecb5574c10>"
            ]
          },
          "metadata": {},
          "execution_count": 50
        },
        {
          "output_type": "display_data",
          "data": {
            "image/png": "[encoded data removed]",
            "text/plain": [
              "<Figure size 360x360 with 1 Axes>"
            ]
          },
          "metadata": {
            "needs_background": "light"
          }
        }
      ]
    },
    {
      "cell_type": "markdown",
      "metadata": {
        "id": "cb-H5vYAVaen"
      },
      "source": [
        "Scatter plotnya seperti membentuk garis lurus miring kanan, artinya hubungan berat badan bulan april dan september erat dan positif (selengkapnya akan dipelajari di materi eksplorasi data)"
      ]
    },
    {
      "cell_type": "code",
      "metadata": {
        "colab": {
          "base_uri": "https://localhost:8080/",
          "height": 385
        },
        "id": "s76yXxFTVWOI",
        "outputId": "9dcfa175-2159-45ac-dbf5-0383827e03e1"
      },
      "source": [
        "#Histogram\n",
        "sns.displot(data=df6, x=' \"Weight (Apr)\"',hue=\"Sex\", kde=True)"
      ],
      "execution_count": 51,
      "outputs": [
        {
          "output_type": "execute_result",
          "data": {
            "text/plain": [
              "<seaborn.axisgrid.FacetGrid at 0x7fecb5d0b290>"
            ]
          },
          "metadata": {},
          "execution_count": 51
        },
        {
          "output_type": "display_data",
          "data": {
            "image/png": "[encoded data removed]",
            "text/plain": [
              "<Figure size 404.625x360 with 1 Axes>"
            ]
          },
          "metadata": {
            "needs_background": "light"
          }
        }
      ]
    },
    {
      "cell_type": "markdown",
      "metadata": {
        "id": "xu02U5wRViVt"
      },
      "source": [
        "Terlihat ada outlier di bagian atas"
      ]
    },
    {
      "cell_type": "code",
      "metadata": {
        "colab": {
          "base_uri": "https://localhost:8080/",
          "height": 385
        },
        "id": "8DyJCB6PVlJl",
        "outputId": "42142cfc-c1d0-4328-f013-ad02ed2f0d7a"
      },
      "source": [
        "#Catplot\n",
        "sns.catplot(data=df6, x='Sex', y=' \"Weight (Apr)\"')"
      ],
      "execution_count": 52,
      "outputs": [
        {
          "output_type": "execute_result",
          "data": {
            "text/plain": [
              "<seaborn.axisgrid.FacetGrid at 0x7fecb33de9d0>"
            ]
          },
          "metadata": {},
          "execution_count": 52
        },
        {
          "output_type": "display_data",
          "data": {
            "image/png": "[encoded data removed]",
            "text/plain": [
              "<Figure size 360x360 with 1 Axes>"
            ]
          },
          "metadata": {
            "needs_background": "light"
          }
        }
      ]
    },
    {
      "cell_type": "markdown",
      "metadata": {
        "id": "fxKYLM_8VuHF"
      },
      "source": [
        "Sebaran data berat badan bulan april per kategori laki-laki dan perempuan"
      ]
    },
    {
      "cell_type": "code",
      "metadata": {
        "colab": {
          "base_uri": "https://localhost:8080/",
          "height": 393
        },
        "id": "vedmE-3RVwIz",
        "outputId": "54159e4c-219f-45c8-fe56-e23b52e75e46"
      },
      "source": [
        "#HeatmapKorelasi\n",
        "corrmat = df6.corr()\n",
        "f, ax = plt.subplots(figsize=(9, 6))\n",
        "sns.heatmap(corrmat, vmax=1)"
      ],
      "execution_count": 53,
      "outputs": [
        {
          "output_type": "execute_result",
          "data": {
            "text/plain": [
              "<matplotlib.axes._subplots.AxesSubplot at 0x7fecb3341390>"
            ]
          },
          "metadata": {},
          "execution_count": 53
        },
        {
          "output_type": "display_data",
          "data": {
            "image/png": "[encoded data removed]",
            "text/plain": [
              "<Figure size 648x432 with 2 Axes>"
            ]
          },
          "metadata": {
            "needs_background": "light"
          }
        }
      ]
    },
    {
      "cell_type": "markdown",
      "metadata": {
        "id": "R-8JH9cXV61f"
      },
      "source": [
        "Warna merepresentasikan keeratan hubungan, bisa diliat di nilai hubungan/korelasinya bisa dilihat di penggaris sebelahnya"
      ]
    },
    {
      "cell_type": "markdown",
      "metadata": {
        "id": "2rrHEcsjWBQt"
      },
      "source": [
        "### Latihan-6 (Visualisasi data)\n",
        "\n",
        "Gunakan data dari: https://people.sc.fsu.edu/~jburkardt/data/csv/cities.csv\n",
        "\n",
        "Cari:\n",
        "*   Deskriptif data\n",
        "*   beberapa visualisasi datanya\n"
      ]
    },
    {
      "cell_type": "code",
      "metadata": {
        "colab": {
          "base_uri": "https://localhost:8080/",
          "height": 408
        },
        "id": "VjRIFx7mWvvF",
        "outputId": "1ef01570-72f5-4f8f-abac-2e08b6928123"
      },
      "source": [
        "url = 'https://people.sc.fsu.edu/~jburkardt/data/csv/cities.csv'\n",
        "data = pd.read_csv(url)\n",
        "\n",
        "data"
      ],
      "execution_count": 54,
      "outputs": [
        {
          "output_type": "execute_result",
          "data": {
            "text/html": [
              "<div>\n",
              "<style scoped>\n",
              "    .dataframe tbody tr th:only-of-type {\n",
              "        vertical-align: middle;\n",
              "    }\n",
              "\n",
              "    .dataframe tbody tr th {\n",
              "        vertical-align: top;\n",
              "    }\n",
              "\n",
              "    .dataframe thead th {\n",
              "        text-align: right;\n",
              "    }\n",
              "</style>\n",
              "<table border=\"1\" class=\"dataframe\">\n",
              "  <thead>\n",
              "    <tr style=\"text-align: right;\">\n",
              "      <th></th>\n",
              "      <th>LatD</th>\n",
              "      <th>\"LatM\"</th>\n",
              "      <th>\"LatS\"</th>\n",
              "      <th>\"NS\"</th>\n",
              "      <th>\"LonD\"</th>\n",
              "      <th>\"LonM\"</th>\n",
              "      <th>\"LonS\"</th>\n",
              "      <th>\"EW\"</th>\n",
              "      <th>\"City\"</th>\n",
              "      <th>\"State\"</th>\n",
              "    </tr>\n",
              "  </thead>\n",
              "  <tbody>\n",
              "    <tr>\n",
              "      <th>0</th>\n",
              "      <td>41</td>\n",
              "      <td>5</td>\n",
              "      <td>59</td>\n",
              "      <td>\"N\"</td>\n",
              "      <td>80</td>\n",
              "      <td>39</td>\n",
              "      <td>0</td>\n",
              "      <td>\"W\"</td>\n",
              "      <td>\"Youngstown\"</td>\n",
              "      <td>OH</td>\n",
              "    </tr>\n",
              "    <tr>\n",
              "      <th>1</th>\n",
              "      <td>42</td>\n",
              "      <td>52</td>\n",
              "      <td>48</td>\n",
              "      <td>\"N\"</td>\n",
              "      <td>97</td>\n",
              "      <td>23</td>\n",
              "      <td>23</td>\n",
              "      <td>\"W\"</td>\n",
              "      <td>\"Yankton\"</td>\n",
              "      <td>SD</td>\n",
              "    </tr>\n",
              "    <tr>\n",
              "      <th>2</th>\n",
              "      <td>46</td>\n",
              "      <td>35</td>\n",
              "      <td>59</td>\n",
              "      <td>\"N\"</td>\n",
              "      <td>120</td>\n",
              "      <td>30</td>\n",
              "      <td>36</td>\n",
              "      <td>\"W\"</td>\n",
              "      <td>\"Yakima\"</td>\n",
              "      <td>WA</td>\n",
              "    </tr>\n",
              "    <tr>\n",
              "      <th>3</th>\n",
              "      <td>42</td>\n",
              "      <td>16</td>\n",
              "      <td>12</td>\n",
              "      <td>\"N\"</td>\n",
              "      <td>71</td>\n",
              "      <td>48</td>\n",
              "      <td>0</td>\n",
              "      <td>\"W\"</td>\n",
              "      <td>\"Worcester\"</td>\n",
              "      <td>MA</td>\n",
              "    </tr>\n",
              "    <tr>\n",
              "      <th>4</th>\n",
              "      <td>43</td>\n",
              "      <td>37</td>\n",
              "      <td>48</td>\n",
              "      <td>\"N\"</td>\n",
              "      <td>89</td>\n",
              "      <td>46</td>\n",
              "      <td>11</td>\n",
              "      <td>\"W\"</td>\n",
              "      <td>\"Wisconsin Dells\"</td>\n",
              "      <td>WI</td>\n",
              "    </tr>\n",
              "    <tr>\n",
              "      <th>...</th>\n",
              "      <td>...</td>\n",
              "      <td>...</td>\n",
              "      <td>...</td>\n",
              "      <td>...</td>\n",
              "      <td>...</td>\n",
              "      <td>...</td>\n",
              "      <td>...</td>\n",
              "      <td>...</td>\n",
              "      <td>...</td>\n",
              "      <td>...</td>\n",
              "    </tr>\n",
              "    <tr>\n",
              "      <th>123</th>\n",
              "      <td>39</td>\n",
              "      <td>31</td>\n",
              "      <td>12</td>\n",
              "      <td>\"N\"</td>\n",
              "      <td>119</td>\n",
              "      <td>48</td>\n",
              "      <td>35</td>\n",
              "      <td>\"W\"</td>\n",
              "      <td>\"Reno\"</td>\n",
              "      <td>NV</td>\n",
              "    </tr>\n",
              "    <tr>\n",
              "      <th>124</th>\n",
              "      <td>50</td>\n",
              "      <td>25</td>\n",
              "      <td>11</td>\n",
              "      <td>\"N\"</td>\n",
              "      <td>104</td>\n",
              "      <td>39</td>\n",
              "      <td>0</td>\n",
              "      <td>\"W\"</td>\n",
              "      <td>\"Regina\"</td>\n",
              "      <td>SA</td>\n",
              "    </tr>\n",
              "    <tr>\n",
              "      <th>125</th>\n",
              "      <td>40</td>\n",
              "      <td>10</td>\n",
              "      <td>48</td>\n",
              "      <td>\"N\"</td>\n",
              "      <td>122</td>\n",
              "      <td>14</td>\n",
              "      <td>23</td>\n",
              "      <td>\"W\"</td>\n",
              "      <td>\"Red Bluff\"</td>\n",
              "      <td>CA</td>\n",
              "    </tr>\n",
              "    <tr>\n",
              "      <th>126</th>\n",
              "      <td>40</td>\n",
              "      <td>19</td>\n",
              "      <td>48</td>\n",
              "      <td>\"N\"</td>\n",
              "      <td>75</td>\n",
              "      <td>55</td>\n",
              "      <td>48</td>\n",
              "      <td>\"W\"</td>\n",
              "      <td>\"Reading\"</td>\n",
              "      <td>PA</td>\n",
              "    </tr>\n",
              "    <tr>\n",
              "      <th>127</th>\n",
              "      <td>41</td>\n",
              "      <td>9</td>\n",
              "      <td>35</td>\n",
              "      <td>\"N\"</td>\n",
              "      <td>81</td>\n",
              "      <td>14</td>\n",
              "      <td>23</td>\n",
              "      <td>\"W\"</td>\n",
              "      <td>\"Ravenna\"</td>\n",
              "      <td>OH</td>\n",
              "    </tr>\n",
              "  </tbody>\n",
              "</table>\n",
              "<p>128 rows × 10 columns</p>\n",
              "</div>"
            ],
            "text/plain": [
              "     LatD   \"LatM\"   \"LatS\"  \"NS\"  ...   \"LonS\"   \"EW\"              \"City\"  \"State\"\n",
              "0      41        5       59   \"N\"  ...        0    \"W\"        \"Youngstown\"       OH\n",
              "1      42       52       48   \"N\"  ...       23    \"W\"           \"Yankton\"       SD\n",
              "2      46       35       59   \"N\"  ...       36    \"W\"            \"Yakima\"       WA\n",
              "3      42       16       12   \"N\"  ...        0    \"W\"         \"Worcester\"       MA\n",
              "4      43       37       48   \"N\"  ...       11    \"W\"   \"Wisconsin Dells\"       WI\n",
              "..    ...      ...      ...   ...  ...      ...    ...                 ...      ...\n",
              "123    39       31       12   \"N\"  ...       35    \"W\"              \"Reno\"       NV\n",
              "124    50       25       11   \"N\"  ...        0    \"W\"            \"Regina\"       SA\n",
              "125    40       10       48   \"N\"  ...       23    \"W\"         \"Red Bluff\"       CA\n",
              "126    40       19       48   \"N\"  ...       48    \"W\"           \"Reading\"       PA\n",
              "127    41        9       35   \"N\"  ...       23    \"W\"           \"Ravenna\"      OH \n",
              "\n",
              "[128 rows x 10 columns]"
            ]
          },
          "metadata": {},
          "execution_count": 54
        }
      ]
    },
    {
      "cell_type": "code",
      "metadata": {
        "colab": {
          "base_uri": "https://localhost:8080/",
          "height": 290
        },
        "id": "PoRe7IJDYB8h",
        "outputId": "f099bfc7-eebd-4d98-d07f-d921f8417125"
      },
      "source": [
        "data.describe()"
      ],
      "execution_count": 55,
      "outputs": [
        {
          "output_type": "execute_result",
          "data": {
            "text/html": [
              "<div>\n",
              "<style scoped>\n",
              "    .dataframe tbody tr th:only-of-type {\n",
              "        vertical-align: middle;\n",
              "    }\n",
              "\n",
              "    .dataframe tbody tr th {\n",
              "        vertical-align: top;\n",
              "    }\n",
              "\n",
              "    .dataframe thead th {\n",
              "        text-align: right;\n",
              "    }\n",
              "</style>\n",
              "<table border=\"1\" class=\"dataframe\">\n",
              "  <thead>\n",
              "    <tr style=\"text-align: right;\">\n",
              "      <th></th>\n",
              "      <th>LatD</th>\n",
              "      <th>\"LatM\"</th>\n",
              "      <th>\"LatS\"</th>\n",
              "      <th>\"LonD\"</th>\n",
              "      <th>\"LonM\"</th>\n",
              "      <th>\"LonS\"</th>\n",
              "    </tr>\n",
              "  </thead>\n",
              "  <tbody>\n",
              "    <tr>\n",
              "      <th>count</th>\n",
              "      <td>128.000000</td>\n",
              "      <td>128.000000</td>\n",
              "      <td>128.000000</td>\n",
              "      <td>128.000000</td>\n",
              "      <td>128.000000</td>\n",
              "      <td>128.000000</td>\n",
              "    </tr>\n",
              "    <tr>\n",
              "      <th>mean</th>\n",
              "      <td>38.820312</td>\n",
              "      <td>30.765625</td>\n",
              "      <td>27.492188</td>\n",
              "      <td>93.250000</td>\n",
              "      <td>27.742188</td>\n",
              "      <td>26.960938</td>\n",
              "    </tr>\n",
              "    <tr>\n",
              "      <th>std</th>\n",
              "      <td>5.200596</td>\n",
              "      <td>16.426158</td>\n",
              "      <td>18.977814</td>\n",
              "      <td>15.466499</td>\n",
              "      <td>16.927937</td>\n",
              "      <td>18.727807</td>\n",
              "    </tr>\n",
              "    <tr>\n",
              "      <th>min</th>\n",
              "      <td>26.000000</td>\n",
              "      <td>1.000000</td>\n",
              "      <td>0.000000</td>\n",
              "      <td>71.000000</td>\n",
              "      <td>0.000000</td>\n",
              "      <td>0.000000</td>\n",
              "    </tr>\n",
              "    <tr>\n",
              "      <th>25%</th>\n",
              "      <td>35.000000</td>\n",
              "      <td>16.000000</td>\n",
              "      <td>11.000000</td>\n",
              "      <td>80.000000</td>\n",
              "      <td>14.000000</td>\n",
              "      <td>11.000000</td>\n",
              "    </tr>\n",
              "    <tr>\n",
              "      <th>50%</th>\n",
              "      <td>39.000000</td>\n",
              "      <td>31.000000</td>\n",
              "      <td>24.000000</td>\n",
              "      <td>89.500000</td>\n",
              "      <td>26.500000</td>\n",
              "      <td>23.500000</td>\n",
              "    </tr>\n",
              "    <tr>\n",
              "      <th>75%</th>\n",
              "      <td>42.250000</td>\n",
              "      <td>45.000000</td>\n",
              "      <td>47.000000</td>\n",
              "      <td>103.250000</td>\n",
              "      <td>40.250000</td>\n",
              "      <td>47.000000</td>\n",
              "    </tr>\n",
              "    <tr>\n",
              "      <th>max</th>\n",
              "      <td>50.000000</td>\n",
              "      <td>59.000000</td>\n",
              "      <td>59.000000</td>\n",
              "      <td>123.000000</td>\n",
              "      <td>58.000000</td>\n",
              "      <td>59.000000</td>\n",
              "    </tr>\n",
              "  </tbody>\n",
              "</table>\n",
              "</div>"
            ],
            "text/plain": [
              "             LatD      \"LatM\"      \"LatS\"      \"LonD\"      \"LonM\"      \"LonS\"\n",
              "count  128.000000  128.000000  128.000000  128.000000  128.000000  128.000000\n",
              "mean    38.820312   30.765625   27.492188   93.250000   27.742188   26.960938\n",
              "std      5.200596   16.426158   18.977814   15.466499   16.927937   18.727807\n",
              "min     26.000000    1.000000    0.000000   71.000000    0.000000    0.000000\n",
              "25%     35.000000   16.000000   11.000000   80.000000   14.000000   11.000000\n",
              "50%     39.000000   31.000000   24.000000   89.500000   26.500000   23.500000\n",
              "75%     42.250000   45.000000   47.000000  103.250000   40.250000   47.000000\n",
              "max     50.000000   59.000000   59.000000  123.000000   58.000000   59.000000"
            ]
          },
          "metadata": {},
          "execution_count": 55
        }
      ]
    },
    {
      "cell_type": "code",
      "metadata": {
        "colab": {
          "base_uri": "https://localhost:8080/",
          "height": 395
        },
        "id": "aeyeXCj5YbJ_",
        "outputId": "8bbac7af-0494-46a8-8e1f-2d2928e06d7e"
      },
      "source": [
        "data.hist()"
      ],
      "execution_count": 56,
      "outputs": [
        {
          "output_type": "execute_result",
          "data": {
            "text/plain": [
              "array([[<matplotlib.axes._subplots.AxesSubplot object at 0x7fecb3291cd0>,\n",
              "        <matplotlib.axes._subplots.AxesSubplot object at 0x7fecb324f2d0>],\n",
              "       [<matplotlib.axes._subplots.AxesSubplot object at 0x7fecb3202950>,\n",
              "        <matplotlib.axes._subplots.AxesSubplot object at 0x7fecb31adb10>],\n",
              "       [<matplotlib.axes._subplots.AxesSubplot object at 0x7fecb317c690>,\n",
              "        <matplotlib.axes._subplots.AxesSubplot object at 0x7fecb3133d10>]],\n",
              "      dtype=object)"
            ]
          },
          "metadata": {},
          "execution_count": 56
        },
        {
          "output_type": "display_data",
          "data": {
            "image/png": "[encoded data removed]",
            "text/plain": [
              "<Figure size 432x288 with 6 Axes>"
            ]
          },
          "metadata": {
            "needs_background": "light"
          }
        }
      ]
    },
    {
      "cell_type": "code",
      "metadata": {
        "colab": {
          "base_uri": "https://localhost:8080/",
          "height": 170
        },
        "id": "CnYzfhC3YJze",
        "outputId": "9aec3584-e5c7-437b-d487-6efa22ecb744"
      },
      "source": [
        "data.describe(include=['object','bool'])"
      ],
      "execution_count": 57,
      "outputs": [
        {
          "output_type": "execute_result",
          "data": {
            "text/html": [
              "<div>\n",
              "<style scoped>\n",
              "    .dataframe tbody tr th:only-of-type {\n",
              "        vertical-align: middle;\n",
              "    }\n",
              "\n",
              "    .dataframe tbody tr th {\n",
              "        vertical-align: top;\n",
              "    }\n",
              "\n",
              "    .dataframe thead th {\n",
              "        text-align: right;\n",
              "    }\n",
              "</style>\n",
              "<table border=\"1\" class=\"dataframe\">\n",
              "  <thead>\n",
              "    <tr style=\"text-align: right;\">\n",
              "      <th></th>\n",
              "      <th>\"NS\"</th>\n",
              "      <th>\"EW\"</th>\n",
              "      <th>\"City\"</th>\n",
              "      <th>\"State\"</th>\n",
              "    </tr>\n",
              "  </thead>\n",
              "  <tbody>\n",
              "    <tr>\n",
              "      <th>count</th>\n",
              "      <td>128</td>\n",
              "      <td>128</td>\n",
              "      <td>128</td>\n",
              "      <td>128</td>\n",
              "    </tr>\n",
              "    <tr>\n",
              "      <th>unique</th>\n",
              "      <td>1</td>\n",
              "      <td>1</td>\n",
              "      <td>120</td>\n",
              "      <td>47</td>\n",
              "    </tr>\n",
              "    <tr>\n",
              "      <th>top</th>\n",
              "      <td>\"N\"</td>\n",
              "      <td>\"W\"</td>\n",
              "      <td>\"Springfield\"</td>\n",
              "      <td>CA</td>\n",
              "    </tr>\n",
              "    <tr>\n",
              "      <th>freq</th>\n",
              "      <td>128</td>\n",
              "      <td>128</td>\n",
              "      <td>4</td>\n",
              "      <td>12</td>\n",
              "    </tr>\n",
              "  </tbody>\n",
              "</table>\n",
              "</div>"
            ],
            "text/plain": [
              "        \"NS\"  \"EW\"          \"City\"  \"State\"\n",
              "count    128   128             128      128\n",
              "unique     1     1             120       47\n",
              "top      \"N\"   \"W\"   \"Springfield\"       CA\n",
              "freq     128   128               4       12"
            ]
          },
          "metadata": {},
          "execution_count": 57
        }
      ]
    },
    {
      "cell_type": "code",
      "metadata": {
        "colab": {
          "base_uri": "https://localhost:8080/"
        },
        "id": "V4SGYMbKG14Q",
        "outputId": "cd7efd79-e010-484e-9d6e-1f35529aa33e"
      },
      "source": [
        "data.columns"
      ],
      "execution_count": 59,
      "outputs": [
        {
          "output_type": "execute_result",
          "data": {
            "text/plain": [
              "Index(['LatD', ' \"LatM\"', ' \"LatS\"', ' \"NS\"', ' \"LonD\"', ' \"LonM\"', ' \"LonS\"',\n",
              "       ' \"EW\"', ' \"City\"', ' \"State\"'],\n",
              "      dtype='object')"
            ]
          },
          "metadata": {},
          "execution_count": 59
        }
      ]
    }
  ]
}